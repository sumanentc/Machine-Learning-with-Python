{
  "nbformat": 4,
  "nbformat_minor": 0,
  "metadata": {
    "colab": {
      "provenance": []
    },
    "kernelspec": {
      "name": "python3",
      "display_name": "Python 3"
    },
    "language_info": {
      "name": "python"
    }
  },
  "cells": [
    {
      "cell_type": "markdown",
      "source": [
        "# AI generated Podcast\n",
        "Here we will see, how can we use LLM to generate the contents of an interactive and an engaging Podcast. The topic for the podcast can be any interesting topic from the internet.\n"
      ],
      "metadata": {
        "id": "_Md-mUR9qSnH"
      }
    },
    {
      "cell_type": "markdown",
      "source": [
        "## Gather Content:\n",
        "First, we will need to obtain the corpus of text content that will be the basis of our podcast. Here we will Wikipedia data to generate the text corpus. We can use any other mode to generate the data for our podcast.\n",
        "\n",
        "### Source Type: Wikipedia\n",
        "Wikipedia is a great source for gathering information about history, current events, celebrities and so much more! It's a good starting point for our text corpus."
      ],
      "metadata": {
        "id": "9ZsdMt58sZN3"
      }
    },
    {
      "cell_type": "code",
      "source": [
        "!pip install wikipedia"
      ],
      "metadata": {
        "colab": {
          "base_uri": "https://localhost:8080/"
        },
        "id": "_5O4ODP9qUeG",
        "outputId": "167d3264-9b62-4242-ce45-6080f1b7f53b"
      },
      "execution_count": 2,
      "outputs": [
        {
          "output_type": "stream",
          "name": "stdout",
          "text": [
            "Collecting wikipedia\n",
            "  Downloading wikipedia-1.4.0.tar.gz (27 kB)\n",
            "  Preparing metadata (setup.py) ... \u001b[?25l\u001b[?25hdone\n",
            "Requirement already satisfied: beautifulsoup4 in /usr/local/lib/python3.10/dist-packages (from wikipedia) (4.11.2)\n",
            "Requirement already satisfied: requests<3.0.0,>=2.0.0 in /usr/local/lib/python3.10/dist-packages (from wikipedia) (2.31.0)\n",
            "Requirement already satisfied: charset-normalizer<4,>=2 in /usr/local/lib/python3.10/dist-packages (from requests<3.0.0,>=2.0.0->wikipedia) (3.2.0)\n",
            "Requirement already satisfied: idna<4,>=2.5 in /usr/local/lib/python3.10/dist-packages (from requests<3.0.0,>=2.0.0->wikipedia) (3.4)\n",
            "Requirement already satisfied: urllib3<3,>=1.21.1 in /usr/local/lib/python3.10/dist-packages (from requests<3.0.0,>=2.0.0->wikipedia) (2.0.4)\n",
            "Requirement already satisfied: certifi>=2017.4.17 in /usr/local/lib/python3.10/dist-packages (from requests<3.0.0,>=2.0.0->wikipedia) (2023.7.22)\n",
            "Requirement already satisfied: soupsieve>1.2 in /usr/local/lib/python3.10/dist-packages (from beautifulsoup4->wikipedia) (2.4.1)\n",
            "Building wheels for collected packages: wikipedia\n",
            "  Building wheel for wikipedia (setup.py) ... \u001b[?25l\u001b[?25hdone\n",
            "  Created wheel for wikipedia: filename=wikipedia-1.4.0-py3-none-any.whl size=11680 sha256=b39cd01418c056e49c1ee9cdb5a9fd100561afd0abfb6b141fc5dd0d1d25c083\n",
            "  Stored in directory: /root/.cache/pip/wheels/5e/b6/c5/93f3dec388ae76edc830cb42901bb0232504dfc0df02fc50de\n",
            "Successfully built wikipedia\n",
            "Installing collected packages: wikipedia\n",
            "Successfully installed wikipedia-1.4.0\n"
          ]
        }
      ]
    },
    {
      "cell_type": "markdown",
      "source": [
        "Let's confirm we can extract the content using Wikipedia's page about itself!"
      ],
      "metadata": {
        "id": "-YWLZj0EvDUB"
      }
    },
    {
      "cell_type": "code",
      "source": [
        "import wikipedia\n",
        "print (wikipedia.summary(\"Wikipedia\"))"
      ],
      "metadata": {
        "colab": {
          "base_uri": "https://localhost:8080/"
        },
        "id": "uBCf5f6uuWxU",
        "outputId": "a374cd64-4ed3-4703-b9a8-9e9e31622dcd"
      },
      "execution_count": 3,
      "outputs": [
        {
          "output_type": "stream",
          "name": "stdout",
          "text": [
            "The Wikimedia Foundation, Inc. (WMF) is an American 501(c)(3) nonprofit organization headquartered in San Francisco, California, and registered as a charitable foundation under local laws. Best known as the hosting platform for Wikipedia, a crowdsourced online encyclopedia, it also hosts other related projects and MediaWiki, a wiki software.The Wikimedia Foundation was established in 2003 in St. Petersburg, Florida, by Jimmy Wales as a nonprofit way to fund Wikipedia, Wiktionary, and other crowdsourced wiki projects that had until then been hosted by Bomis, Wales's for-profit company. The Foundation finances itself mainly through millions of small donations from Wikipedia readers, collected through email campaigns and annual fundraising banners placed on Wikipedia and its sister projects. These are complemented by grants from philanthropic organizations and tech companies, and starting in 2022, by services income from Wikimedia Enterprise.\n",
            "The Foundation has grown rapidly throughout its existence. By 2022, it employed around 700 staff and contractors, with annual revenues of $155 million, annual expenses of $146 million, net assets of $240 million and a growing endowment, which surpassed $100 million in June 2021.\n"
          ]
        }
      ]
    },
    {
      "cell_type": "markdown",
      "source": [
        "Using the Wikipedia library, we can get all the details of a certain Wiki page based on the title or the Wiki ID.\n",
        "\n",
        "Feel free to choose a topic of your choice and retrieve those information from the Wiki page"
      ],
      "metadata": {
        "id": "V8nKzFe0vi0J"
      }
    },
    {
      "cell_type": "code",
      "source": [
        "# Here we will create a Podcast around the topic Lionel Messi, the great footbaler of all time.\n",
        "input = wikipedia.page(\"Lionel_Messi\", auto_suggest=False)\n",
        "wiki_input = input.content\n",
        "wiki_input"
      ],
      "metadata": {
        "colab": {
          "base_uri": "https://localhost:8080/",
          "height": 143
        },
        "id": "bEtGy0OFvkAf",
        "outputId": "ac531468-6b7b-4040-c235-94acace0bd72"
      },
      "execution_count": 4,
      "outputs": [
        {
          "output_type": "execute_result",
          "data": {
            "text/plain": [
              "'Lionel Andrés Messi (Spanish pronunciation: [ljoˈnel anˈdɾes ˈmesi] (listen); born 24 June 1987), also known as Leo Messi, is an Argentine professional footballer who plays as a forward for and captains both Major League Soccer club Inter Miami and the Argentina national team. Widely regarded as one of the greatest players of all time, Messi has won a record seven Ballon d\\'Or awards and a record six European Golden Shoes, and in 2020 he was named to the Ballon d\\'Or Dream Team. Until leaving the club in 2021, he had spent his entire professional career with Barcelona, where he won a club-record 34 trophies, including ten La Liga titles, seven Copa del Rey titles and the UEFA Champions League four times. With his country, he won the 2021 Copa América and the 2022 FIFA World Cup. A prolific goalscorer and creative playmaker, Messi holds the records for most goals in La Liga (474), most hat-tricks in La Liga (36) and the UEFA Champions League (eight), and most assists in La Liga (192) and the Copa América (17). He also has the most international goals by a South American male (103). Messi has scored over 800 senior career goals for club and country, and has the most goals by a player for a single club (672).\\nMessi relocated to Spain from Argentina aged 13 to join Barcelona, for whom he made his competitive debut aged 17 in October 2004. He established himself as an integral player for the club within the next three years, and in his first uninterrupted season in 2008–09 he helped Barcelona achieve the first treble in Spanish football; that year, aged 22, Messi won his first Ballon d\\'Or. Three successful seasons followed, with Messi winning four consecutive Ballons d\\'Or, making him the first player to win the award four times. During the 2011–12 season, he set the La Liga and European records for most goals scored in a single season, while establishing himself as Barcelona\\'s all-time top scorer. The following two seasons, Messi finished second for the Ballon d\\'Or behind Cristiano Ronaldo (his perceived career rival), before regaining his best form during the 2014–15 campaign, becoming the all-time top scorer in La Liga and leading Barcelona to a historic second treble, after which he was awarded a fifth Ballon d\\'Or in 2015. Messi assumed captaincy of Barcelona in 2018, and won a record sixth Ballon d\\'Or in 2019. Out of contract, he signed for French club Paris Saint-Germain in August 2021, spending two seasons at the club and winning Ligue 1 twice. Messi joined American club Inter Miami in July 2023, winning the 2023 Leagues Cup in August of that year.\\nAn Argentine international, Messi is the country\\'s all-time leading goalscorer and also holds the national record for appearances. At youth level, he won the 2005 FIFA World Youth Championship, finishing the tournament with both the Golden Ball and Golden Shoe, and an Olympic gold medal at the 2008 Summer Olympics. His style of play as a diminutive, left-footed dribbler drew comparisons with his compatriot Diego Maradona, who described Messi as his successor. After his senior debut in August 2005, Messi became the youngest Argentine to play and score in a FIFA World Cup (2006), and reached the final of the 2007 Copa América, where he was named young player of the tournament. As the squad\\'s captain from August 2011, he led Argentina to three consecutive finals: the 2014 FIFA World Cup, for which he won the Golden Ball, the 2015 Copa América, winning the Golden Ball, and the 2016 Copa América. After announcing his international retirement in 2016, he reversed his decision and led his country to qualification for the 2018 FIFA World Cup, a third-place finish at the 2019 Copa América, and victory in the 2021 Copa América, while winning the Golden Ball and Golden Boot for the latter. For this achievement, Messi received a record-extending seventh Ballon d\\'Or in 2021. In 2022, he led Argentina to win the 2022 FIFA World Cup, where he won a record second Golden Ball, scored seven goals including two in the final, and broke the record for most games played at the World Cup (26).\\nMessi has endorsed sportswear company Adidas since 2006. According to France Football, he was the world\\'s highest-paid footballer for five years out of six between 2009 and 2014, and was ranked the world\\'s highest-paid athlete by Forbes in 2019 and 2022. Messi was among Time\\'s 100 most influential people in the world in 2011, 2012 and 2023. In 2020 and 2023, he was named the Laureus World Sportsman of the Year, with Messi being the first team-sport athlete to win the award. In 2020, Messi became the second footballer and second team-sport athlete to surpass $1 billion in career earnings.\\n\\n\\n== Early life ==\\nMessi was born on 24 June 1987 in Rosario, Santa Fe, the third of four children of Jorge Messi, a steel factory manager, and his wife Celia Cuccittini, who worked in a magnet manufacturing workshop. On his father\\'s side, he is of Italian and Spanish descent, the great-grandson of immigrants from the north-central Adriatic Marche region of Italy, and on his mother\\'s side, he has primarily Italian ancestry. Growing up in a tight-knit, football-loving family, \"Leo\" developed a passion for the sport from an early age, playing constantly with his older brothers, Rodrigo and Matías, and his cousins, Maximiliano and Emanuel Biancucchi, both of whom became professional footballers. At the age of four he joined local club Grandoli, where he was coached by his father, though his earliest influence as a player came from his maternal grandmother, Celia, who accompanied him to training and matches. He was greatly affected by her death, shortly before his eleventh birthday; since then, as a devout Roman Catholic, he has celebrated his goals by looking up and pointing to the sky in tribute to his grandmother.\\n\\nA lifelong supporter of Newell\\'s Old Boys, Messi joined the Rosario club when he was six years old. During the six years he played for Newell\\'s, he scored almost 500 goals as a member of \"The Machine of \\'87\", the near-unbeatable youth side named for the year of their birth, and regularly entertained crowds by performing ball tricks during half-time of the first team\\'s home games. However, his future as a professional player was threatened when, aged 10, he was diagnosed with a growth hormone deficiency. As his father\\'s health insurance covered only two years of growth hormone treatment, which cost at least $1,000 per month, Newell\\'s agreed to contribute, but later reneged on their promise. He was scouted by Buenos Aires club River Plate, whose playmaker, Pablo Aimar, he idolised, but they declined to pay for his treatment. His goalscoring idol growing up was Ronaldo, with Messi calling him \"the best forward I\\'ve ever seen\".\\nAs the Messi family had relatives in Catalonia, they sought to arrange a trial with Barcelona in September 2000. First team director Charly Rexach immediately wanted to sign him, but the board of directors hesitated; at the time it was highly unusual for European clubs to sign foreign players of such a young age. On 14 December, an ultimatum was issued for Barcelona to prove their commitment, and Rexach, with no other paper at hand, offered a contract on a paper napkin. In February 2001, the family relocated to Barcelona, where they moved into an apartment near the club\\'s stadium, Camp Nou. During his first year in Spain, Messi rarely played with the Infantiles due to a transfer conflict with Newell\\'s; as a foreigner, he could only be fielded in friendlies and the Catalan league. Without football, he struggled to integrate into the team; already reserved by nature, he was so quiet that his teammates initially believed he was mute. At home, he suffered from homesickness after his mother moved back to Rosario with his brothers and little sister, María Sol, while he stayed in Barcelona with his father.After a year at Barcelona\\'s youth academy, La Masia, Messi was finally enrolled in the Royal Spanish Football Federation (RFEF) in February 2002. Now playing in all competitions, he befriended his teammates, among whom were Cesc Fàbregas and Gerard Piqué. After completing his growth hormone treatment aged 14, Messi became an integral part of the \"Baby Dream Team\", Barcelona\\'s greatest-ever youth side. During his first full season (2002–03), he was top scorer with 36 goals in 30 games for the Cadetes A, who won an unprecedented treble of the league and both the Spanish and Catalan cups. The Copa Catalunya final, a 4–1 victory over Espanyol, became known in club lore as the partido de la máscara, the final of the mask. A week after suffering a broken cheekbone during a league match, Messi was allowed to start the game on the condition that he wear a plastic protector; soon hindered by the mask, he took it off and scored two goals in 10 minutes before his substitution. At the close of the season, he received an offer to join Arsenal, his first from a foreign club, but while Fàbregas and Piqué soon left for England, he chose to remain in Barcelona.\\n\\n\\n== Club career ==\\n\\n\\n=== Barcelona ===\\n\\n\\n==== 2003–2005: Rise to the first team ====\\n\\nDuring the 2003–04 season, his fourth with Barcelona, Messi rapidly progressed through the club\\'s ranks, debuting for four youth teams in a single campaign. After being named player of the tournament in four international pre-season competitions with the Juveniles B, he played only one official match with the team before being promoted to the Juveniles A, where he scored 18 goals in 11 league games. Messi was then one of several youth players called up to strengthen a depleted first team during the international break. French winger Ludovic Giuly explained how Messi caught the eye in a training session with Frank Rijkaard\\'s first team: \"He destroyed us all... They were kicking him all over the place to avoid being ridiculed by this kid, he just got up and kept on playing. He would dribble past four players and score a goal. Even the team\\'s starting centre-backs were nervous. He was an alien.\"At 16 years, four months, and 23 days old, Messi made his first team debut when he came on in the 75th minute during a friendly against José Mourinho\\'s Porto on 16 November 2003. His performance, creating two chances and a shot on goal, impressed the technical staff, and he subsequently began training daily with the club\\'s reserve side, Barcelona B, as well as weekly with the first team. After his first training session with the senior squad, Barça\\'s new star player, Ronaldinho, told his teammates that he believed the 16-year-old would become an even better player than himself. Ronaldinho soon befriended Messi, whom he called \"little brother\", which greatly eased his transition into the first team.\\nTo gain further match experience, Messi joined Barcelona C in addition to the Juveniles A, playing his first game for the third team on 29 November. He helped save them from the relegation zone of the Tercera División, scoring five goals in ten games, including a hat-trick in eight minutes during a Copa del Rey match while man-marked by Sevilla\\'s Sergio Ramos. His progress was reflected in his first professional contract, signed on 4 February 2004, which lasted until 2012 and contained an initial buyout clause of €30 million. A month later, on 6 March, he made his debut for Barcelona B in the Segunda División B, and his buyout clause automatically increased to €80 million. He played five games with the B team that season but did not score. Physically he was weaker than his opponents, who were often much older and taller, and in training he worked on increasing his muscle mass and overall strength in order to be able to shake off defenders. Towards the end of the season, he returned to both youth teams, helping the Juveniles B win the league. He finished the campaign having scored for four of his five teams with a total of 36 goals in all official competitions.During the 2004–05 season, Messi was a guaranteed starter for the B team, playing 17 games throughout the campaign and scoring on six occasions. Since his debut the previous November, he had not been called up to the first team again, but in October 2004, the senior players asked manager Frank Rijkaard to promote him. Since Ronaldinho already played on the left wing, Rijkaard moved Messi from his usual position onto the right flank (though initially against the player\\'s wishes), allowing him to cut into the centre of the pitch and shoot with his dominant left foot. Messi made his league debut during the next match on 16 October, against Espanyol at Estadi Olímpic Lluís Companys in Montjuïc, coming on in the 82nd minute. At 17 years, three months, and 22 days old, he was at the time the youngest player to represent Barcelona in an official competition. As a substitute player, he played 244 minutes in nine matches for the first team that season, including his debut in the UEFA Champions League against Shakhtar Donetsk. He scored his first senior goal on 1 May 2005, against Albacete, from an assist by Ronaldinho, becoming – at that time – the youngest-ever scorer for the club. Barcelona, in their second season under Rijkaard, won the league for the first time in six years.\\n\\n\\n==== 2005–2008: Becoming a starting eleven player ====\\n\\nOn 24 June, his 18th birthday, Messi signed his first contract as a senior team player. It made him a Barcelona player until 2010, two years less than his previous contract, but his buyout clause increased to €150 million. His breakthrough came two months later, on 24 August, during the Joan Gamper Trophy, Barcelona\\'s pre-season competition. A starter for the first time, he gave a well-received performance against Fabio Capello\\'s Juventus, receiving an ovation from the Camp Nou. Capello sought to take Messi to Juventus on loan, but Inter Milan offered to pay his €150 million buyout clause and triple his wages. According to then-president Joan Laporta, it was the only time the club faced a real risk of losing Messi, but he ultimately decided to stay. On 16 September, his contract was updated for the second time in three months and extended to 2014.\\nDue to issues regarding his legal status in the Royal Spanish Football Federation, Messi missed the start of La Liga, but on 26 September, he acquired Spanish citizenship and became eligible to play. Wearing the number 19 shirt, he gradually established himself as the first-choice right winger, forming an attacking trio with Ronaldinho and striker Samuel Eto\\'o. He was in the starting line-up in major matches like his first Clásico against rivals Real Madrid on 19 November, as well as Barcelona\\'s away victory over Chelsea in the last 16 round of the Champions League, which came on back of an intense period of rivalry between the clubs leading a resentful Messi to state, \"We would rather play Arsenal, Manchester United or anyone else than be on the pitch with Chelsea.\" After he had scored 8 goals in 25 games, including his first in the Champions League, in a 5–0 win over Panathinaikos on 2 November 2005, his season ended prematurely during the return leg against Chelsea on 7 March 2006, when he suffered a torn hamstring. Messi worked to regain fitness in time for the Champions League final, but on 17 May, the day of the final, he was eventually ruled out. He was so disappointed that he did not celebrate his team\\'s victory over Arsenal in Paris, something he later came to regret.While Barcelona began a gradual decline, the 19-year-old Messi established himself as one of the best players in the world during the 2006–07 campaign. Already an idol to the culés, the club\\'s supporters, he scored 17 goals in 36 games across all competitions. However, he continued to be plagued by major injuries; a metatarsal fracture sustained on 12 November 2006 kept him out of action for three months. He recovered in time for the last 16 round of the Champions League against Liverpool, but was effectively marked out of the game; Barcelona, the reigning champions, were out of the competition. In the league, his goal contribution increased towards the end of the season; 11 of his 14 goals came from the last 13 games. On 10 March 2007, he scored his first hat-trick in a Clásico, the first player to do so in 12 years, equalising after each goal by Real Madrid to end the match in a 3–3 draw in injury time. His growing importance to the club was reflected in a new contract, signed that month, which greatly increased his wages.\\nAlready frequently compared to compatriot Diego Maradona, Messi proved their similarity when he nearly replicated Maradona\\'s two most famous goals in the span of seven weeks. During a Copa del Rey semi-final against Getafe on 18 April, he scored a goal remarkably similar to Maradona\\'s second goal in the quarter-finals of the 1986 FIFA World Cup, known as the Goal of the Century. Messi collected the ball on the right side near the halfway line, ran 60 metres (66 yd), and beat five defenders before scoring with an angled finish, just as Maradona had done. A league match against Espanyol on 9 June saw him score by launching himself at the ball and guiding it past the goalkeeper with his hand in similar fashion to Maradona\\'s Hand of God goal in the same World Cup match. As Messi continued his individual rise, Barcelona faltered; the team failed to reach the Copa del Rey final after Messi was rested during the second leg against Getafe and lost the league to Real Madrid on head-to-head results.After Ronaldinho lost form, Messi became Barça\\'s new star player at only 20 years old, receiving the nickname \"Messiah\" from the Spanish media. His efforts in 2007 also earned him award recognition; journalists voted him the third-best player of the year for the 2007 Ballon d\\'Or, behind Kaká and runner-up Cristiano Ronaldo, while international managers and national team captains voted him second for the FIFA World Player of the Year award, again behind Kaká. Although he managed to score 16 goals during the 2007–08 campaign, the second half of his season was again marred by injuries after he suffered a torn hamstring on 15 December. He returned to score twice in their away victory against Celtic in the last 16 round of the Champions League, becoming the competition\\'s top scorer at that point with six goals, but reinjured himself during the return leg on 4 March 2008. Rijkaard had fielded him despite warning from the medical staff, leading captain Carles Puyol to criticise the Spanish media for pressuring Messi to play every match. Barcelona finished the season without trophies, eliminated in the Champions League semi-finals by the eventual champions, Manchester United, and placed third in the league.\\n\\n\\n==== 2008–09: First treble ====\\nAfter two unsuccessful seasons, Barcelona were in need of an overhaul, leading to the departure of Rijkaard and Ronaldinho. Upon the latter\\'s departure, Messi was given the number 10 shirt. He signed a new contract in July with an annual salary of €7.8 million, becoming the club\\'s highest-paid player. Ahead of the new season, a major concern remained his frequent muscular injuries, which had left him side-lined for a total of eight months between 2006 and 2008. To combat the problem, the club implemented new training, nutrition, and lifestyle regimens, and assigned him a personal physiotherapist, who would travel with him during call-ups for the Argentina national team. As a result, Messi remained virtually injury-free during the next four years, allowing him to reach his full potential. Despite his injuries early in the year, his performances in 2008 saw him again voted runner-up for the Ballon d\\'Or and the FIFA World Player of the Year award, both times behind Cristiano Ronaldo.\\nIn his first uninterrupted campaign, the 2008–09 season, he scored 38 goals in 51 games, contributing alongside Eto\\'o and winger Thierry Henry to a total of 100 goals in all competitions, a record at the time for the club. During his first season under Barcelona\\'s new manager, former captain Pep Guardiola, Messi played mainly on the right wing, like he had under Rijkaard, though this time as a false winger with the freedom to cut inside and roam the centre. During the Clásico on 2 May 2009, however, he played for the first time as a false nine, positioned as a centre-forward but dropping deep into midfield to link up with Xavi and Andrés Iniesta. He set up his side\\'s first goal and scored twice to end the match in an emphatic 6–2 victory, the team\\'s greatest-ever score at Real Madrid\\'s Santiago Bernabéu Stadium. Returning to the wing, he played his first final since breaking into the first team on 13 May, scoring once and assisting a second goal as Barcelona defeated Athletic Bilbao 4–1 to win the Copa del Rey. With 23 league goals from Messi that season, Barcelona became La Liga champions three days later and achieved its fifth double.As the season\\'s Champions League top scorer with nine goals, the youngest in the tournament\\'s history, Messi scored two goals and assisted two more to ensure a 4–0 quarter-final victory over Bayern Munich. He returned as a false nine during the final on 27 May in Rome against Manchester United. Barcelona were crowned champions of Europe by winning the match 2–0, the second goal coming from a Messi header over goalkeeper Edwin van der Sar. Barcelona thus achieved the first treble in the history of Spanish football. This success was reflected in a new contract, signed on 18 September, which committed Messi to the club through 2016 with a new buyout clause of €250 million, while his salary increased to €12 million.\\n\\n\\n==== 2009–10: First Ballon d\\'Or ====\\nHis team\\'s prosperity continued into the second half of 2009, as Barcelona became the first club to achieve the sextuple, winning six top-tier trophies in a single year. After victories in the Supercopa de España and UEFA Super Cup in August, Barcelona won the FIFA Club World Cup against Estudiantes de La Plata on 19 December, with Messi scoring the winning 2–1 goal with his chest. At 22 years old, Messi won the Ballon d\\'Or and the FIFA World Player of the Year award, both times by the biggest voting margin in each trophy\\'s history.\\n\\nThe new year, however, started on a less positive note for Barcelona, as they were knocked out of the Copa del Rey by Sevilla in the Round of 16. Unsatisfied with his position on the right wing – with the club\\'s summer acquisition Zlatan Ibrahimović occupying the central forward role – Messi resumed playing as a false nine in early 2010, beginning with a Champions League last 16-round match against VfB Stuttgart. After a first-leg draw, Barcelona won the second leg 4–0 with two goals and an assist from Messi. At that point, he effectively became the tactical focal point of Guardiola\\'s team, and his goalscoring rate increased. Messi scored a total of 47 goals in all competitions that season, equaling Ronaldo\\'s club record from the 1996–97 campaign. He scored all of his side\\'s four goals in the Champions League quarter-final against Arsenal on 6 April while becoming Barcelona\\'s all-time top scorer in the competition. Although Barcelona were eliminated in the Champions League semi-finals by the eventual champions, Inter Milan, Messi finished the season as top scorer (with 8 goals) for the second consecutive year. As the league\\'s top scorer with 34 goals (again tying Ronaldo\\'s record), he helped Barcelona win a second consecutive La Liga trophy with only a single defeat and earned his first European Golden Shoe.\\n\\n\\n==== 2010–2011: Fifth La Liga title and third Champions League ====\\nMessi secured Barcelona\\'s first trophy of the 2010–11 campaign, the Supercopa de España, by scoring a hat-trick in his side\\'s second-leg 4–0 victory over Sevilla, after a first-leg defeat. Assuming a playmaking role, he was again instrumental in a Clásico on 29 November 2010, the first with José Mourinho in charge of Real Madrid, as Barcelona defeated their rivals 5–0. Messi helped the team achieve 16 consecutive league victories, a record in Spanish football, concluding with another hat-trick against Atlético Madrid on 5 February 2011. His club performances in 2010 earned him the inaugural FIFA Ballon d\\'Or, an amalgamation of the Ballon d\\'Or and the FIFA World Player of the Year award, though his win was met with some criticism due to his lack of success with Argentina at the 2010 FIFA World Cup. Under the award\\'s old format, he would have placed just outside the top three, owing his win to the votes from the international coaches and captains.Towards the end of the season, Barcelona played four Clásicos in the span of 18 days. A league match on 16 April ended in a draw after a penalty from Messi. After Barcelona lost the Copa del Rey final four days later, Messi scored both goals in his side\\'s 2–0 win in the first leg of the Champions League semi-finals in Madrid, the second of which – a slaloming dribble past three Real players – was acclaimed as one of the best ever in the competition. Although he did not score, he was again important in the second-leg draw that sent Barcelona through to the Champions League final, where they faced Manchester United in a repeat of the final two years earlier. As the competition\\'s top scorer for the third consecutive year, with 12 goals, Messi gave a man-of-the-match performance at Wembley on 28 May, scoring the match-winning goal of Barça\\'s 3–1 victory. Barcelona won a third consecutive La Liga title. In addition to his 31 goals, Messi was also the league\\'s top assist provider with 18. He finished the season with 53 goals in all competitions, becoming Barcelona\\'s all-time single-season top scorer and the first player in Spanish football to reach the 50-goal benchmark.\\nAs Messi developed into a combination of a number 8 (a creator), a 9 (scorer), and a 10 (assistant), he scored an unprecedented 73 goals and provided 29 assists in all club competitions during the 2011–12 season, producing a hat-trick or more on 10 occasions. He began the campaign by helping Barcelona win both the Spanish and European Super Cups; in the Supercopa de España, he scored three times to achieve a 5–4 aggregate victory over Real Madrid, overtaking Raúl as the competition\\'s all-time top scorer with eight goals. At the close of the year, on 18 December, he scored twice in the FIFA Club World Cup final, a 4–0 victory over Santos, earning the Golden Ball as the best player of the tournament, as he had done two years previously. For his efforts in 2011, he again received the FIFA Ballon d\\'Or, becoming only the fourth player in history to win the Ballon d\\'Or three times, after Johan Cruyff, Michel Platini, and Marco van Basten. Additionally, he won the inaugural UEFA Best Player in Europe Award, a revival of the old-style Ballon d\\'Or. By then, Messi was already widely considered one of the best footballers in history, alongside players like Diego Maradona and Pelé.\\n\\n\\n==== 2012: A record-breaking year ====\\n\\nAs Messi maintained his goalscoring form into the second half of the season, the year 2012 saw him break several longstanding records. On 7 March, two weeks after scoring four goals in a league fixture against Valencia, he scored five times in a Champions League last 16-round match against Bayer Leverkusen, an unprecedented achievement in the history of the competition. In addition to being the joint top assist provider with five assists, this feat made him top scorer with 14 goals, tying José Altafini\\'s record from the 1962–63 season, as well as becoming only the second player after Gerd Müller to be top scorer in four campaigns. Two weeks later, on 20 March, Messi became the top goalscorer in Barcelona\\'s history at 24 years old, overtaking the 57-year record of César Rodríguez\\'s 232 goals with a hat-trick against Granada.\\nDespite Messi\\'s individual form, Barcelona\\'s four-year cycle of success under Guardiola – one of the greatest eras in the club\\'s history – drew to an end. Although Barcelona won the Copa del Rey against Athletic Bilbao on 25 May, its 14th title of that period, the team lost the league to Real Madrid and was eliminated in the Champions League semi-finals by the eventual champions, Chelsea, with Messi sending a crucial second-leg penalty kick against the crossbar. In Barça\\'s last home league match on 5 May, against Espanyol, Messi scored all four goals before approaching the bench to embrace Guardiola, who had announced his resignation as manager. He finished the season as league top scorer in Spain and Europe for a second time, with 50 goals, a La Liga record, while his 73 goals in all competitions surpassed Gerd Müller\\'s 67 goals in the 1972–73 Bundesliga season, making him the single-season top scorer in the history of European club football.Under manager Tito Vilanova, who had first coached him aged 14 at La Masia, Messi helped the club achieve its best-ever start to a La Liga season during the second half of 2012, amassing 55 points by the competition\\'s midway point, a record in Spanish football. A double scored on 9 December against Real Betis saw Messi break two longstanding records: he surpassed César Rodríguez\\'s record of 190 league goals, becoming Barcelona\\'s all-time top scorer in La Liga, and Gerd Müller\\'s record of most goals scored in a calendar year, overtaking his 85 goals scored in 1972 for Bayern Munich and West Germany. Messi sent Müller a number 10 Barcelona shirt, signed \"with respect and admiration\", after breaking his 40-year record. At the close of the year, Messi had scored a record 91 goals in all competitions for Barcelona and Argentina. Although FIFA did not acknowledge the achievement, citing verifiability issues, he received the Guinness World Records title for most goals scored in a calendar year. As the odds-on favourite, Messi again won the FIFA Ballon d\\'Or, becoming the only player in history to win the Ballon d\\'Or four times.\\n\\n\\n==== 2013–2014: Messidependencia ====\\nBarcelona had virtually secured their La Liga title by the start of 2013, eventually equalling Real Madrid\\'s 100-point record of the previous season. However, their performances deteriorated in the second half of the 2012–13 campaign, concurrently with Vilanova\\'s absence due to ill health. After losing successive Clásicos, including the Copa del Rey semi-finals, they were nearly eliminated in the first knockout round of the Champions League by AC Milan, but a revival of form in the second leg led to a 4–0 comeback, with two goals and an assist from Messi. Now in his ninth senior season with Barcelona, Messi signed a new contract on 7 February, committing himself to the club through 2018, while his fixed wage rose to €13 million. He wore the captain\\'s armband for the first time a month later, on 17 March, in a league match against Rayo Vallecano; by then, he had become the team\\'s tactical focal point to a degree that was arguably rivalled only by former Barcelona players Josep Samitier, László Kubala and Johan Cruyff. Since his evolution into a false nine three years earlier, his input into the team\\'s attack had increased; from 24% in their treble-winning campaign, his goal contribution rose to more than 40% that season.\\n\\nAfter four largely injury-free seasons, the muscular injuries that had previously plagued Messi reoccurred. After he suffered a hamstring strain on 2 April, during the first quarter-final against Paris Saint-Germain (PSG), his appearances became sporadic. In the second leg against PSG, with an underperforming Barcelona down a goal, Messi came off the bench in the second half and within nine minutes helped create their game-tying goal, which allowed them to progress to the semi-finals. Still unfit, he proved ineffective during the first leg against Bayern Munich and was unable to play at all during the second, as Barcelona were defeated 7–0 on aggregate by the eventual champions. These matches gave credence to the notion of Messidependencia, Barcelona\\'s perceived tactical and psychological dependence on their star player.\\nMessi continued to struggle with injury throughout 2013, eventually parting ways with his long-time personal physiotherapist. Further damage to his hamstring sustained on 12 May ended his goalscoring streak of 21 consecutive league games, a worldwide record; he had netted 33 goals during his run, including a four-goal display against Osasuna, while becoming the first player to score consecutively against all 19 opposition teams in La Liga. With 60 goals in all competitions, including 46 goals in La Liga, he finished the campaign as league top scorer in Spain and Europe for the second consecutive year, becoming the first player in history to win the European Golden Shoe three times. Following an irregular start to the new season under manager Gerardo Martino, formerly of his boyhood club Newell\\'s Old Boys, Messi suffered his fifth injury of 2013 when he tore his hamstring on 10 November, leaving him sidelined for two months. Despite his injuries, he was voted runner-up for the FIFA Ballon d\\'Or, relinquishing the award after a four-year monopoly to Cristiano Ronaldo.During the second half of the 2013–14 season, doubts persisted over Messi\\'s form, leading to a perception among the culés that he was reserving himself for the 2014 FIFA World Cup. Statistically, his contribution of goals, shots, and passes had dropped significantly compared to previous seasons. He still managed to break two longstanding records in a span of seven days: a hat-trick on 16 March against Osasuna saw him overtake Paulino Alcántara\\'s 369 goals to become Barcelona\\'s top goalscorer in all competitions including friendlies, while another hat-trick against Real Madrid on 23 March made him the all-time top scorer in El Clásico, ahead of the 18 goals scored by former Real Madrid player Alfredo Di Stéfano. Messi finished the campaign with his worst output in five seasons, though he still managed to score 41 goals in all competitions. For the first time in five years, Barcelona ended the season without a major trophy; they were defeated in the Copa del Rey final by Real Madrid and lost the league in the last game to Atlético Madrid, causing Messi to be booed by sections of fans at the Camp Nou. After prolonged speculation over his future with the club, Messi signed a new contract on 19 May 2014, only a year after his last contractual update; his salary increased to €20 million, or €36 million before taxes, the highest wage in the sport. It was reported that Vilanova played a key role in convincing Messi to stay amid strong interest from José Mourinho\\'s Chelsea.\\n\\n\\n==== 2014–15: Second treble ====\\nUnder new manager and former captain Luis Enrique, Messi experienced a largely injury-free start to the 2014–15 season, allowing him to break three more longstanding records towards the end of the year. A hat-trick scored against Sevilla on 22 November made him the all-time top scorer in La Liga, as he surpassed the 59-year record of 251 league goals held by Telmo Zarra. A third hat-trick, scored against city rivals Espanyol on 7 December, allowed him to surpass César Rodríguez as the all-time top scorer in the Derbi barceloní with 12 goals. Messi again placed second in the FIFA Ballon d\\'Or behind Cristiano Ronaldo, largely owing to his second-place achievement with Argentina at the World Cup.At the start of 2015, Barcelona were perceived to be headed for another disappointing end to the season, with renewed speculation in the media that Messi was leaving the club. A turning point came on 11 January during a 3–1 victory over Atlético Madrid, the first time Barça\\'s attacking trident of Messi, Luis Suárez and Neymar, dubbed \"MSN\", each scored in a match, marking the beginning of a highly successful run. After five years of playing in the centre of the pitch, Messi had returned to his old position on the right wing late the previous year, by his own suggestion according to Suárez, their striker. From there, he regained his best form, while Suárez and Neymar ended the team\\'s attacking dependency on their star player. With 58 goals from Messi, the trio scored a total of 122 goals in all competitions that season, a record in Spanish football.\\nTowards the end of the campaign, Messi scored in a 1–0 away win over Atlético Madrid on 17 May, securing the La Liga title. Among his 43 league goals that season was a hat-trick scored in 11 minutes against Rayo Vallecano on 8 March, the fastest of his senior career; it was his 32nd hat-trick overall for Barcelona, allowing him to overtake Telmo Zarra with the most hat-tricks in Spanish football. As the season\\'s top assist provider with 18 he surpassed Luís Figo with the most assists in La Liga; he made his record 106th assist in a fixture against Levante on 15 February, in which he also scored a hat-trick. Messi scored twice as Barcelona defeated Athletic Bilbao 3–1 in the Copa del Rey final on 30 May, achieving the sixth double in their history. His opening goal was hailed as one of the greatest in his career; he collected the ball near the halfway line and beat four opposing players, before feinting the goalkeeper to score in a tight space by the near post.In the Champions League, Messi scored twice and set up another in their 3–0 semi-final victory over Bayern Munich, now under the stewardship of Guardiola. His second goal, which came only three minutes after his first, saw him chip the ball over goalkeeper Manuel Neuer after his dribble past Jérôme Boateng had made the defender drop to the ground; it went viral, becoming the year\\'s most tweeted about sporting moment, and was named the best goal of the season by UEFA. Despite a second-leg loss, Barcelona progressed to the final on 6 June in Berlin, where they defeated Juventus 3–1 to win their second treble, becoming the first team in history to do so. Although Messi did not score, he participated in each of his side\\'s goals, particularly the second as he forced a parried save from goalkeeper Gianluigi Buffon from which Suárez scored the match-winning goal on the rebound. In addition to being the top assist provider with six assists, Messi finished the competition as the joint top scorer with ten goals, which earned him the distinction of being the first player ever to achieve the top scoring mark in five Champions League seasons. For his efforts during the season, he received the UEFA Best Player in Europe award for a second time.\\n\\n\\n==== 2015–16: Domestic success ====\\nMessi opened the 2015–16 season by scoring twice from free kicks in Barcelona\\'s 5–4 victory (after extra time) over Sevilla in the UEFA Super Cup. On 16 September, he became the youngest player to make 100 appearances in the UEFA Champions League in a 1–1 away draw to Roma. After a knee injury, he returned to the pitch on 21 November, making a substitute appearance in Barcelona\\'s 4–0 away win over rivals Real Madrid in El Clásico. Messi capped off the year by winning the 2015 FIFA Club World Cup final on 20 December, collecting his fifth club trophy of 2015 as Barcelona defeated River Plate 3–0 in Yokohama. On 30 December, Messi scored on his 500th appearance for Barcelona, in a 4–0 home win over Real Betis.On 11 January 2016, Messi won the FIFA Ballon d\\'Or for a record fifth time in his career. On 3 February, he scored a hat-trick in Barcelona\\'s 7–0 win against Valencia in the first leg of the Copa del Rey semi-final at the Camp Nou. In a 6–1 home win against Celta Vigo in the league, Messi assisted Suárez from a penalty kick. Some saw it as \"a touch of genius\", while others criticised it as being disrespectful to the opponent. The Celta players never complained and their coach defended the penalty, stating, \"Barca\\'s forwards are very respectful.\" The penalty routine has been compared to that of Barça icon Johan Cruyff in 1982, who was battling lung cancer, leading many fans to indicate that the penalty was a tribute to him. Cruyff himself was \"very happy\" with the play, insisting \"it was legal and entertaining\".On 17 February, Messi reached his 300th league goal in a 3–1 away win against Sporting de Gijón. A few days later, he scored both goals in Barcelona\\'s 2–0 win against Arsenal at the Emirates Stadium, in the first leg of the 2015–16 UEFA Champions League round of 16, with the second goal being Barcelona\\'s 10,000th in official competitions. On 17 April, Messi ended a five-match scoring drought with his 500th senior career goal for club and country in Barcelona\\'s 2–1 home loss to Valencia. Messi finished the 2015–16 season by setting up both goals in Barcelona\\'s 2–0 extra time win over Sevilla in the 2016 Copa del Rey final, at the Vicente Calderón Stadium, on 22 May 2016, as the club celebrated winning the domestic double for the second consecutive season. In total, Messi scored 41 goals as Barcelona\\'s attacking trio managed a Spanish record of 131 goals throughout the season, breaking the record they had set the previous season.\\n\\n\\n==== 2016–17: Fourth Golden Boot ====\\n\\nMessi opened the 2016–17 season by lifting the 2016 Supercopa de España as Barcelona\\'s captain in the absence of the injured Andrés Iniesta; he set-up Munir\\'s goal in a 2–0 away win over Sevilla in the first leg on 14 August, and subsequently scored in a 3–0 win in the return leg on 17 August. Three days later, he scored two goals as Barcelona won 6–2 against Real Betis in the opening game of the 2016–17 La Liga season. On 13 September, Messi scored his first hat-trick of the season in the opening game of the 2016–17 UEFA Champions League campaign against Celtic in a 7–0 victory; this was also Messi\\'s sixth hat-trick in the Champions League, the most by any player. A week later, Messi sustained a groin injury in a 1–1 draw against Atlético Madrid and was ruled out with injury for three weeks. He marked his return with a goal, scoring three minutes after coming off the bench in a 4–0 home win over Deportivo de La Coruña, on 16 October. Three days after this, he netted his thirty-seventh club hat-trick as Barcelona defeated Manchester City 4–0. On 1 November, Messi scored his 54th Champions League group stage goal in Barcelona\\'s 3–1 away loss to Manchester City, surpassing the previous record of 53 goals held by Raúl.\\nMessi finished the year with 51 goals, making him Europe\\'s top scorer, one ahead of Zlatan Ibrahimović. After placing second in the 2016 Ballon d\\'Or, on 9 January 2017 Messi also finished in second place – behind Cristiano Ronaldo once again – in the 2016 Best FIFA Men\\'s Player Award. On 11 January, Messi scored from a free-kick in Barcelona\\'s 3–1 victory against Athletic Bilbao in the second leg of the round of 16 of the Copa del Rey, which enabled Barcelona to advance to the quarter-finals of the competition; with his 26th goal from a free-kick for Barcelona in all competitions, he equalled the club\\'s all-time record, which had previously been set by Ronald Koeman. In his next league match, on 14 January, Messi scored in a 5–0 win against Las Palmas; with this goal, he equalled Raúl\\'s record for the most teams scored against in La Liga (35).On 4 February 2017, Messi scored his 27th free-kick for Barcelona in a 3–0 home win over Athletic Bilbao in the league, overtaking Koeman as the club\\'s all-time top-scorer from free-kicks. On 23 April, Messi scored twice in a 3–2 away win over Real Madrid. His game-winning goal in stoppage time was his 500th for Barcelona. His memorable celebration saw him taking off his Barcelona shirt and holding it up to incensed Real Madrid fans – with his name and number facing the crowd. On 27 May, Messi scored a goal and set up another for Paco Alcácer in the 2017 Copa del Rey final, helping Barcelona to a 3–1 victory over Alavés, and was named Man of the Match. In total, Messi finished the 2016–17 season with 54 goals, while his 37 goals in La Liga saw him claim both the Pichichi and European Golden Boot Awards for the fourth time in his career.\\n\\n\\n==== 2017–18: Domestic double and a record fifth Golden Boot ====\\nMessi opened the 2017–18 season by converting a penalty in Barcelona\\'s 1–3 first leg home defeat to Real Madrid in Supercopa de España. Thereby, Messi also extended his El Clásico goalscoring record with the goal being his 24th official and 25th overall.\\nOn 9 September, Messi scored his first hat-trick of the 2017–18 league campaign, against Espanyol in Derbi barceloní, thus helping to secure a 5–0 home victory for Blaugrana over local rivals. Messi netted twice against Gianluigi Buffon, on 12 September, as Barça defeated the last season\\'s Italian champions Juventus 3–0 at home in the UEFA Champions League. On 19 September, Messi found the net four times in a 6–1 trashing of Eibar at the Camp Nou in La Liga. Three weeks later, on 1 October, Messi surpassed his former teammate Carles Puyol to become the third highest appearance maker in the club\\'s history, as he helped Barça defeat Las Palmas 3–0 by assisting Sergio Busquets\\' opener and later adding two himself in his 594th official game for the club; the league game was played behind closed doors at the Camp Nou due to violence in Catalonia relating to an ongoing independence referendum.On 18 October, in his 122nd European club appearance, Messi scored his 97th UEFA Champions League goal, and his 100th in all UEFA club competitions, in a 3–1 home victory over Olympiacos. Messi became only the second player after Cristiano Ronaldo to reach this century milestone, but accomplished it in 21 fewer appearances than the Portuguese counterpart. On 4 November, he made his 600th appearance for Barcelona in a 2–1 home win over Sevilla in La Liga. Following the reception of his fourth Golden Boot, Messi signed a new deal with Barcelona on 25 November, keeping him with the club through the 2020–21 season. His buyout clause was set at €700 million. On 7 January 2018, Messi made his 400th La Liga appearance with Barcelona in a 3–0 home win over Levante, marking the occasion with his 144th league assist and 365th league goal for the club, the latter of which saw him equal Gerd Müller\\'s record for the most league goals scored for the same club in one of Europe\\'s top five divisions. A week later, he broke the record, scoring his 366th La Liga goal from a free kick in a 4–2 away win against Real Sociedad.On 4 March, he scored his 600th senior career goal from a free kick in a 1–0 home win over Atlético Madrid, in La Liga. On 14 March, Messi scored his 99th and 100th Champions League goals in a 3–0 home win over Chelsea, becoming only the second player after Cristiano Ronaldo to reach this landmark, in fewer appearances, at a younger age and having taken fewer shots than his Portuguese counterpart. His opening goal, which came after only two minutes and eight seconds, was also the fastest of his career, as Barcelona advanced to the quarter-finals of the competition for the eleventh consecutive season. On 7 April, he scored a hat-trick in a 3–1 win over Leganés including his sixth goal scored from a free-kick for the season, matching the record set by former teammate Ronaldinho. He once again finished the season as the top scorer in La Liga, with 34 goals, which also saw him win his fifth Golden Shoe award. On 21 April, Messi scored Barcelona\\'s second goal – his 40th of the season – in a 5–0 win over Sevilla in the 2018 Copa del Rey final, later also setting up Suárez\\'s second goal; this was Barcelona\\'s fourth consecutive title and their 30th overall. On 29 April, Messi scored a hat-trick in a 4–2 away win over Deportivo de La Coruña, which saw Barcelona claim their 25th league title. On 9 May, Messi scored as Barcelona defeated Villarreal 5–1 to set the longest unbeaten streak (43 games) in La Liga history.\\n\\n\\n==== 2018–19: Captaincy, 10th La Liga title, and a record sixth Golden Boot ====\\nWith the departure of former captain Andrés Iniesta in May 2018, Messi was named the team\\'s new captain for the following season. On 12 August, he lifted his first title as Barcelona\\'s captain, the Supercopa de España, following a 2–1 victory over Sevilla. On 19 August, Messi scored twice in helping Barcelona defeat Alavés 3–0 in their first La Liga match of the season, with his first goal, a free kick that he rolled under the jumping Alavés wall, making history in being Barcelona\\'s 6000th goal in La Liga. On 18 September, Messi scored a hat-trick in a 4–0 home win over PSV Eindhoven in Barcelona\\'s opening Champions League group stage match of the season, setting a new record for most hat-tricks in the competition, with eight. On 20 October, Messi scored in a 4–2 home win over Sevilla, but was later forced off in the 26th minute after falling awkwardly and injuring his right arm; tests later confirmed that he had fractured his radial bone, ruling him out for approximately three weeks. On 8 December, Messi scored two free kicks – his ninth and tenth goals from set pieces during the calendar year – in a 4–0 away win over Derbi barceloní rivals Espanyol in La Liga; this was the first time ever that he had managed such a feat in the league. His first goal was also his 10th league goal of the season, making him the first player ever to reach double figures in La Liga for 13 consecutive seasons.\\nOn 13 January 2019, Messi scored his 400th La Liga goal in his 435th league appearance in a 3–0 home win over Eibar, becoming the first player ever to manage this tally in just one of Europe\\'s top five leagues. On 2 February, Messi scored twice in a 2–2 draw against Valencia, with his first goal coming from the penalty spot, his 50th La Liga penalty goal; as such, he became only the third player in La Liga history after Cristiano Ronaldo and Hugo Sánchez to score 50 penalties in the competition. Later that month, the club admitted they had begun preparations for Messi\\'s future retirement. On 23 February, Messi scored the 50th hat-trick of his career and also provided an assist for Suárez, as he helped Barcelona come from behind to achieve a 4–2 away victory over Sevilla in La Liga; the goal was also his 650th career goal for club and country at senior level. On 16 April, Messi scored twice in a 3–0 home victory over Manchester United in the second leg of the Champions League quarter-finals to give Barcelona a 4–0 aggregate win, which saw Barcelona progress to the semi-finals of the competition for the first time since 2015; these were also his first goals in the Champions League quarter-finals since 2013.On 27 April, Messi came off the bench and scored the only goal in a 1–0 home win over Levante, which allowed Barcelona to clinch the league title; this was his 450th La Liga appearance, and his first league title as Barcelona\\'s captain. On 1 May, Messi scored twice in a 3–0 home win over Liverpool in the first leg of the Champions League semi-finals; his second goal of the match, a 35-yard free kick, was the 600th senior club goal of his career, all of which had been scored with Barcelona. In the return leg six days later at Anfield, Barcelona suffered a 4–0 away defeat, which saw Liverpool advance to the final 4–3 on aggregate. On 19 May, in Barcelona\\'s final La Liga match of the season, Messi scored twice in a 2–2 away draw against Eibar (his 49th and 50th goals of the season in all competitions), which saw him capture his sixth Pichichi Trophy as the league\\'s top scorer, with 36 goals in 34 appearances; with six titles, he equalled Zarra as the player with the most top-scorer awards in La Liga. He also captured his sixth Golden Shoe award, and a record third consecutive award since the 2016–17 season. On 25 May, Messi scored his final goal of the season in a 2–1 defeat to Valencia in the 2019 Copa del Rey final.\\n\\n\\n==== 2019–20: Record sixth Ballon d\\'Or ====\\nOn 5 August 2019, it was announced that Messi would miss Barcelona\\'s US tour after sustaining a right calf injury. On 19 August, Messi\\'s chipped goal from the edge of the box against Real Betis was nominated for the 2019 FIFA Puskás Award. Later that month, he suffered another setback following the return of his calf injury, which ruled him out of the opening game of the season; as a result, he was sidelined indefinitely, and was only expected to return to action with Barcelona after the September international break. On 2 September, Messi was shortlisted as one of the three finalists for both the 2019 FIFA Puskás Award and the 2019 Best FIFA Men\\'s Player Award, with Messi winning the latter on 23 September.\\nMessi made his first appearance of the season on 17 September, and on 6 October he scored his first goal of the season with a free kick in a 4–0 home win over Sevilla; this was his 420th goal in La Liga, which saw him break Cristiano Ronaldo\\'s record of 419 goals scored in Europe\\'s top five leagues. On 23 October, Messi scored his first Champions League goal of the season in a 2–1 away win over Slavia Prague, becoming the first player to score in 15 consecutive Champions League seasons (excluding qualifying rounds). He also equalled Raúl and Cristiano Ronaldo\\'s shared record of the most sides scored against in the competition (33). On 29 October, Messi scored in a 5–1 home win over Real Valladolid in La Liga; his first goal – a set piece from 35 yards – was the 50th free-kick of his career. His goals (608) also saw him overtake Cristiano Ronaldo\\'s senior goal tally (606) at club level. On 9 November, Messi scored three goals (including two free kicks) in a 4–1 home win against Celta Vigo. This was his 34th hat-trick in La Liga, equalling Cristiano Ronaldo\\'s Spanish top-flight record. On 27 November, in what was his 700th appearance for Barcelona, Messi scored one goal and assisted two more in a 3–1 home win over Borussia Dortmund in the UEFA Champions League. Dortmund were the 34th team he had scored against in the competition, breaking the previous record of 33 held by Cristiano Ronaldo and Raúl. On 2 December, Messi was awarded a record-breaking sixth Ballon d\\'Or. On 8 December, Messi scored his record-breaking 35th hat-trick in La Liga with three goals in Barcelona\\'s 5–2 home win over Mallorca.On 22 February 2020, Messi scored four goals in a 5–0 home win over Eibar in La Liga. On 14 June, he scored in a 4–0 away win against Mallorca, becoming the first player ever in La Liga to score 20 goals or more in 12 consecutive seasons. On 30 June, he scored a panenka in a 2–2 home draw against Atlético Madrid in La Liga, to reach his 700th goal in his senior career for Barcelona and Argentina. On 11 July, Messi provided his 20th assist of the league season for Arturo Vidal in a 1–0 away win over Real Valladolid, equalling Xavi\\'s record of 20 assists in a single La Liga season from 2008 to 2009; with 22 goals, he also became only the second player ever, after Thierry Henry in the 2002–03 FA Premier League season with Arsenal (24 goals and 20 assists), to record at least 20 goals and 20 assists in a single league season in one of Europe\\'s top-five leagues. Following his brace in a 5–0 away win against Alavés in the final match of the season on 20 May, Messi finished the season as both the top scorer and top assist provider in La Liga, with 25 goals and 21 assists respectively, which saw him win his record seventh Pichichi trophy, overtaking Zarra; however, Barcelona missed out on the league title to Real Madrid. On 9 August, in the Champions League round of 16 second leg versus Napoli at the Camp Nou, Messi scored the second goal and earned a penalty which led to a third goal and led his side to a 3–1 home victory and qualified 4–2 on aggregate for the quarter-finals against Bayern Munich. On 15 August, Messi suffered his worst defeat as a player as Bayern Munich beat Barcelona 8–2 in a one-off tie in Lisbon, leading to another disappointing exit from the Champions League.\\n\\n\\n==== August 2020: Desire to leave Barcelona ====\\n\\nFollowing growing dissatisfaction with the direction of Barcelona on and off the field, Barcelona announced that Messi sent the club \"a document expressing his desire to leave\" on 25 August 2020. The announcement garnered a significant media response, including from current and former teammates (who supported Messi\\'s statement) and Catalan president Quim Torra. On 26 August, Barcelona\\'s sporting director Ramon Planes iterated the club\\'s desire to \"build a team around the most important player in the world\" and affirmed Messi will only be able to leave should a buyer pay his €700 million buyout clause; a reported early termination option available in Messi\\'s contract (which would have allowed him to leave the club for free) could only be exercised if he had communicated his decision to Barcelona by 31 May 2020, although the player\\'s representatives argued the deadline should be set to 31 August, due to the adjourned 2019–20 season. On 30 August, La Liga issued a statement stating Messi\\'s contract and buyout clause were still active.On 4 September, Jorge Messi, Lionel\\'s father and agent, released a statement in response to La Liga claiming the release clause \"is not valid when the termination of the contract is by the player\\'s unilateral decision from the end of the 2019–20 season\", as stated in Messi\\'s contract with Barcelona; moments later, La Liga issued a response reiterating their statement published on 30 August. Later that evening, Messi announced in an interview with Goal that he would continue at Barcelona for the final year of his contract. In the interview, Messi claimed to have informed Barcelona of his desire to leave multiple times, and club president Josep Maria Bartomeu said Messi could decide at the end of every season if he wanted to stay or leave, only for Bartomeu to refer to the release clause. This left Messi with two options: to stay or go to court against the club, with the player saying \"I would never go to court against the club of my life\".\\n\\n\\n==== 2020–21: Final season at Barcelona ====\\nOn 27 September, Messi began the 2020–21 season by scoring a penalty in a 4–0 home win against Villarreal in La Liga. Two days prior to the opening game, he again criticised the club, this time for the manner of Luis Suárez\\'s departure, stating, \"at this stage nothing surprises me any more\". On 20 October, Messi scored a penalty in a 5–1 home victory against Ferencváros in the Champions League, becoming the first player in history to score in sixteen consecutive Champions League seasons. On 25 November, Messi was nominated for the 2020 Best FIFA Men\\'s Player award, and was later shortlisted as one of the final three candidates. On 29 November, Messi scored his side\\'s fourth goal in their 4–0 victory over Osasuna. After scoring, he unveiled a shirt of his former side Newell\\'s Old Boys, in tribute to Argentine compatriot Diego Maradona, who had died four days earlier, and raised both hands to the screen showing Maradona\\'s face in the stadium. The shirt was a number 10 replica of the same one Maradona had worn during his stint with the club in 1993. On 17 December, Messi finished third in The Best FIFA Men\\'s Player award behind Robert Lewandowski and Cristiano Ronaldo, and was included in the FIFA FIFPro World XI for the fourteenth consecutive year.\\n\\nOn 23 December, Messi scored his 644th goal for Barcelona against Real Valladolid in La Liga, surpassing Pelé with Santos as the player with the most goals scored for a single club. In order to celebrate his achievement, Budweiser sent personalised bottles of beer to every goalkeeper whom Messi has scored against. On 17 January 2021, Messi was sent off for the first time in his club career for violent conduct (swinging an arm at the head of Asier Villalibre, missed initially by the referee but reviewed via VAR) in the final minutes of Barcelona\\'s 2–3 extra time defeat to Athletic Bilbao in the 2020–21 Supercopa de España Final. On 10 March, Messi scored from 35 yards out and later had a penalty saved in a 1–1 draw against Paris Saint-Germain at the Parc des Princes in the second leg of the Champions League round of 16 as Barcelona were eliminated at this stage for the first time in 14 years by an aggregate score of 2–5 after having lost 1–4 at home on 16 February, with Messi scoring Barcelona\\'s only goal in that game. On 15 March, Messi scored two goals in a 4–1 win against Huesca, and became the first player in history to score at least 20 goals in 13 consecutive seasons in the top five European leagues. On 21 March, he surpassed Xavi\\'s record to reach a club record of 768 appearances, in which he also scored a brace in a 6–1 away win against Real Sociedad.On 17 April, Messi scored twice as Barcelona defeated Athletic Bilbao 4–0 in the 2021 Copa del Rey final. With his second goal, he broke Gerd Müller\\'s record of 30 plus goals in 12 consecutive club seasons, setting a new record of 13. With his 35th trophy with Barcelona, Messi also overtook former Manchester United winger Ryan Giggs as the most decorated footballer for a single club. On 16 May, Messi scored his 30th league goal of the campaign in a 1–2 home defeat against Celta Vigo, which later turned out to be his final goal and match in a Barcelona shirt. The top goalscorer in La Liga, Messi received the Pichichi trophy for a record eighth time in his career. It was also his record fifth consecutive win in La Liga, surpassing Alfredo Di Stéfano and Hugo Sánchez who both had four for Real Madrid.\\n\\nOn 1 July, Messi became a free agent after his contract expired, with negotiations on a new deal complicated due to financial issues at Barcelona. On 5 August, Barcelona announced that Messi would not be staying at the club, even though both parties reached an agreement and were due to sign a contract that day. The club cited financial and structural obstacles posed by La Liga regulations as a reason for Messi\\'s departure. Club president Joan Laporta also blamed the previous board for Messi\\'s exit by saying \"the basis of everything is the calamitous and disastrous situation left by the previous board\", he added by saying \"the expected debt is much higher and we had some sports contracts in place that meant we had no margin on salary\". Three days later, in a tearful press conference held at the Camp Nou, Messi confirmed that he would be leaving Barcelona.\\n\\n\\n=== Paris Saint-Germain ===\\n\\n\\n==== 2021–22: First season adjustments ====\\nOn 10 August, Messi joined French club Paris Saint-Germain (PSG). He signed a two-year deal until June 2023 with an option for an extra year. Messi chose 30 as his squad number, the same he wore as a teenager when he made his senior debut for Barcelona.Messi made his debut for the club on 29 August, coming on as a substitute in the second half of a 2–0 away win over Reims in Ligue 1. He made his first start and Champions League debut for the club in a 1–1 away draw against Club Brugge on 15 September. Four days later, Messi made his home debut for PSG in a 2–1 win over Lyon. On 28 September, he scored his first goal for the club, a strike from the edge of the 18-yard box in a 2–0 Champions League group stage win over former manager Pep Guardiola\\'s Manchester City. On 21 November, Messi scored his first Ligue 1 goal in a 3–1 home victory over Nantes. Later that month, he provided a hat-trick of assists for the fifth time in his career as PSG beat Saint-Étienne 3–1 away from home. Having scored 40 goals at club and international level for the calendar year and helped Argentina win the 2021 Copa América, Messi received a record seventh Ballon d\\'Or on 29 November.\\n\\nOn 2 January 2022, PSG announced that Messi had tested positive for COVID-19, missing two league games and a cup game as a result. He made his return against on 23 January in the league against Reims where he came on as a substitute in the second half and assisted PSG\\'s third goal in a 4–0 home victory. On 13 March, following their Champions League elimination against Real Madrid in the round of 16, Messi and his team-mate Neymar were booed by some of the PSG fans at the Parc des Princes in the league match against Bordeaux. Then-PSG manager Mauricio Pochettino defended Messi by saying \"To judge Messi in this way is unfair,\" adding \"It was a year of learning, and not just on a professional level coming to Paris Saint-Germain, in a new league and with new teammates, but also on a family level.\" On 23 April, he helped PSG clinch their 10th Ligue 1 title after scoring from a strike outside the 18-yard box in a 1–1 draw against Lens at home. Messi finished his debut season with 11 goals and 14 assists across all competitions. He failed to reach double figure league goals for the first time since 2005–06, ending the campaign with six.\\n\\n\\n==== 2022–23: Return to form and departure ====\\nAfter adjusting to his new surroundings and settling in Paris, under new coach Christophe Galtier, Messi returned to his preferred free attacking role; being placed in his favoured position as the playmaker behind two strikers, in an attacking trident with Neymar and Kylian Mbappé, quickly regaining his form from his previous season by starting off the new season on 31 July by scoring PSG\\'s first goal in a 4–0 victory over Nantes in the Trophée des Champions, winning his second trophy with PSG.Due to his form in the previous season, Messi was not nominated for the Ballon d\\'Or award for the first time since 2005. On 21 August, Messi provided a long-range assist for Mbappé, clocked at eight seconds, for Ligue 1\\'s second-fastest goal ever scored, before also scoring a goal in 7–1 away win over Lille. The following matches, after registering six goal contributions, including one goal and five assists, Messi was named Ligue 1\\'s Player of the Month in September. On 5 October, he scored in a 1–1 draw away to Benfica in the Champions League, becoming the only player in the competition\\'s history to score against 40 different Champions League opponents. On 25 October, he scored twice in a 7–2 Champions League win at home to Maccabi Haifa, setting the record for the most goals scored from outside the 18-yard box than any other player in the competition, with 23 goals. Four days later, Messi scored and provided an assist as PSG won 4–3 against Troyes to remain top of the Ligue 1 table. The goal was his seventh of the league season and his twelfth overall, surpassing his total output of the prior season in just 18 matches.On 26 February 2023, PSG defeated Marseille 3–0 in Le Classique, with Messi scoring his 700th senior career club goal as well as assisting two goals for Mbappé. On 11 March, PSG defeated Brest 2–1, with Messi setting up a last-minute winner for Mbappé, registering his 300th career assist. On 8 April, he scored and provided an assist in a 2–0 away win over Nice in Ligue 1, which saw him overtake Cristiano Ronaldo as the all-time highest goalscorer in European club football with 702 goals; during the match, he also achieved 1,000 career direct goal contributions at club level. On 2 May, Messi was suspended for two weeks and fined after taking an unauthorised trip to Saudi Arabia with his family as part of a promotional commercial agreement. His visit to Saudi Arabia meant he did not show up to training the previous day following a 3–1 defeat to Lorient. The next day, on 3 May, it was reported that Messi would leave PSG at the end of the season, following the expiry of his contract. Afterwards, several PSG supporters demanded his exit from the club, viewing his absence as evidence of a team not fighting for the shirt, within a context of perceived disconnect between themselves and the club\\'s identity. Two days later, Messi apologised to the club and his teammates for the trip, stating he thought he had a free day after the match [against Lorient], and already had the trip planned, which he had canceled previously. On 28 May, Messi scored in a 1–1 draw against Strasbourg helping PSG clinch their 11th Ligue 1 title and his second in a row; in the process Messi became the player with the most goals in the history of Europe\\'s top five leagues, with 496 goals.On 1 June, Galtier confirmed that PSG\\'s home game against Clermont on 3 June would be Messi\\'s last for the club, with the club confirming his departure two days later; the match ended in 3–2 defeat. He ended the season with the highest number of assists in the league with 16 and was also included in the UNFP\\'s Ligue 1 Team of the Season alongside teammates Achraf Hakimi, Nuno Mendes and Mbappé.\\n\\n\\n=== Inter Miami ===\\nFollowing confirmation of his departure from PSG, Messi was linked with a return to former club Barcelona, as well as with a big-money move to Saudi Professional League club Al-Hilal, but his eventual decision to sign for Major League Soccer club Inter Miami was communicated to Barcelona president Joan Laporta by 5 June 2023. Barcelona were unable to sign him due to financial constraints.On 7 June, Inter Miami posted a video on their social media hinting at the club\\'s impending signing of Messi. On the same day, Messi confirmed his intention to join Miami in a joint interview with Mundo Deportivo and Sport, in which he said that they \"haven\\'t closed it 100 percent\"; MLS also stated that the deal had not been finalised. He explained that even though La Liga had accepted everything and was fine for him to return to Barcelona, there were many things left to be done such as lowering salaries and selling players, and he did not want to go through it again or be responsible for it. He confirmed that other European clubs approached him, but that Barcelona was the only European team he wanted to play for.On 15 July 2023, Inter Miami announced the signing of Messi on a two-and-a-half year contract. He was formally introduced to fans at a live-streamed event, dubbed \"La PresentaSÍon\", at DRV PNK Stadium the following day alongside fellow signee and former Barcelona teammate Sergio Busquets. Messi made his debut for the club on 21 July in a Leagues Cup match against Cruz Azul, scoring with a free-kick in stoppage time for a 2–1 victory. After scoring nine goals in his first six games for Miami, Messi opened the scoring in the 2023 Leagues Cup final against Nashville SC on 19 August before Nashville equalised in the second half. The game ended in a penalty shoot-out which Miami won, 10–9, with Messi scoring the first, giving the club their first-ever trophy.\\n\\n\\n== International career ==\\n\\n\\n=== 2004–2005: Success at youth level ===\\nAs a dual Argentine-Spanish national, Messi was eligible to play for the national team of both countries. Selectors for Spain\\'s Under-17 squad began pursuing him in 2003 after Barcelona\\'s director of football, Carles Rexach, alerted the Royal Spanish Football Federation to their young player. Messi declined the offer, having aspired to represent La Albiceleste since childhood. To further prevent Spain from taking him, the Argentine Football Association organised two under-20 friendlies in June 2004, against Paraguay and Uruguay, with the purpose of finalising his status as an Argentina player in FIFA. Five days after his 17th birthday, on 29 June, he made his debut for his country against Paraguay, scoring once and providing two assists in their 8–0 victory. He was subsequently included in the squad for the South American Youth Championship, held in Colombia in February 2005. As he lacked the stamina of his teammates, the result of his former growth hormone deficiency, he was used as a substitute in six of the nine games. After being named man of the match against Venezuela, he scored the winning 2–1 goal in the crucial last match against Brazil, thereby securing their third-place qualification for the FIFA World Youth Championship.Aware of his physical limitations, Messi employed a personal trainer to increase his muscle mass, returning to the squad in an improved condition in time for the World Youth Championship, hosted by the Netherlands in June. After he was left out of the starting line-up in their first match against the United States, a 1–0 defeat, the squad\\'s senior players asked manager Francisco Ferraro to let Messi start, as they considered him their best player. After helping the team defeat Egypt and Germany to progress past the group stage, Messi proved decisive in the knockout phase as he scored their equaliser against Colombia, provided a goal and an assist against title favourites Spain, and scored their opening goal against reigning champions Brazil. Ahead of the final, he was awarded the Golden Ball as the best player of the tournament. He scored two penalties in their 2–1 victory over Nigeria, clinching Argentina\\'s fifth championship and finishing the tournament as top scorer with 6 goals. His performances drew comparisons with compatriot Diego Maradona, who had led Argentina to the title in 1979.\\n\\n\\n=== 2005–2006: Senior and World Cup debuts ===\\nIn recognition of his achievements with the under-20 side, senior manager José Pékerman gave Messi his first call-up for a friendly against Hungary on 17 August 2005. Aged 18, Messi made his senior debut for Argentina in the Ferenc Puskás Stadium when he came on in the 63rd minute, only to be sent off after two minutes for a perceived foul against Vilmos Vanczák, who had grabbed his shirt; Messi had struck the defender with his arm while trying to shake him off, which the referee interpreted as an intentional elbowing, a contentious decision. Messi was reportedly found weeping in the dressing room after his sending-off. He returned to the team on 3 September in their World Cup qualifier defeat to Paraguay, which he had declared his \"re-debut\" ahead of the match. Messi started his first game in the next qualifying match against Peru, in which he was able to win a crucial penalty that secured their victory. After the match, Pékerman described him as \"a jewel\". He subsequently made regular appearances for the team ahead of Argentina\\'s participation in the 2006 FIFA World Cup, scoring his first goal in a friendly against Croatia on 1 March 2006. A hamstring injury sustained a week later jeopardised his presence in the World Cup, but he was nevertheless selected for Pékerman\\'s squad and regained fitness in time for the start of the tournament.During the World Cup in Germany, Messi witnessed their opening match victory against the Ivory Coast from the substitutes\\' bench. In the next match, against Serbia and Montenegro, he became the youngest player to represent Argentina at a FIFA World Cup when he came on as a substitute in the 74th minute. He assisted their fourth strike within minutes and scored the final goal in their 6–0 victory, making him the youngest scorer in the tournament and the sixth-youngest goalscorer in the history of the World Cup. As their progression to the knockout phase was secured, several starters were rested during the last group match. Messi consequently started the game against the Netherlands, a 0–0 draw, as they won their group on goal differential. In the round of 16 match against Mexico, played on his 19th birthday, Messi came on in the 84th minute, with the score tied at 1–1. He appeared to score a goal, but it was contentiously ruled offside, with the team needing a late goal in extra time to proceed. He did not play in the quarter-final against Germany, during which Argentina were eliminated 4–2 in a penalty shootout. Back home, Pékerman\\'s decision to leave him on the bench against Germany led to widespread criticism from those who believed Messi could have changed the outcome of the match in Argentina\\'s favour.\\n\\n\\n=== 2007–2008: Copa América final and Olympic gold ===\\nAs Messi evolved into one of the best players in the world, he secured a place in Alfio Basile\\'s starting line-up, as part of a team considered favourites to win the 2007 Copa América, held in Venezuela. He set up the game-winning goal of their 4–1 victory over the United States in the opening match, before winning a penalty that led to the game-tying first strike of their 4–2 win in the next match against Colombia. At the quarter-final stage, where the group winners faced Peru, he scored the second goal of a 4–0 victory that saw them through to the semi-final, during which he chipped the ball over Mexico\\'s goalkeeper to ensure another 3–0 win. In a surprise defeat, Argentina lost the final 3–0 to a Brazil squad that lacked several of the nation\\'s best players. Their unexpected loss was followed by much criticism in Argentina, though Messi was mostly exempt due to his young age and secondary status to star player Juan Román Riquelme. He was named the best young player of the tournament by CONMEBOL.Ahead of the 2008 Summer Olympics, Barcelona legally barred Messi from representing Argentina at the tournament as it coincided with their Champions League qualifying matches. After interference from newly appointed Barcelona manager Pep Guardiola, who had won the tournament in 1992, Messi was permitted to join Sergio Batista\\'s under-23 squad in Beijing. During the first match, he scored the opening goal in their 2–1 victory over the Ivory Coast. Following a 1–0 win in the next group match against Australia, ensuring their quarter-final qualification, Messi was rested during the game against Serbia, while his side won the match to finish first in their group. Against the Netherlands, he again scored the first goal and assisted a second strike to help his team to a 2–1 win in extra time. After a 3–0 semi-final victory over Brazil, Messi assisted the only goal in the final as Argentina defeated Nigeria to claim Olympic gold medals. Along with Riquelme, Messi was singled out by FIFA as the stand-out player from the tournament\\'s best team.\\n\\n\\n=== 2008–2011: Collective decline ===\\nFrom late 2008, the national team experienced a three-year period marked by poor performances. Under manager Diego Maradona, who had led Argentina to World Cup victory as a player, the team struggled to qualify for the 2010 World Cup, securing their place in the tournament only after defeating Uruguay 1–0 in their last qualifying match. Maradona was criticised for his strategic decisions, which included playing Messi out of his usual position. In eight qualifying matches under Maradona\\'s stewardship, Messi scored only one goal, netting the opening goal in the first such match, a 4–0 victory over Venezuela. During that game, played on 28 March 2009, he wore Argentina\\'s number 10 shirt for the first time, following the international retirement of Riquelme. Overall, Messi scored four goals in 18 appearances during the qualifying process. Ahead of the tournament, Maradona visited Messi in Barcelona to request his tactical input; Messi then outlined a 4–3–1–2 formation with himself playing behind the two strikers, a playmaking position known as the enganche in Argentine football, which had been his preferred position since childhood.\\nDespite their poor qualifying campaign, Argentina were considered title contenders at the World Cup in South Africa. At the start of the tournament, the new formation proved effective; Messi managed at least four attempts on goal during their opening match but was repeatedly denied by Nigeria\\'s goalkeeper, resulting in a 1–0 win. During the next match, against South Korea, he excelled in his playmaking role, participating in all four goals of his side\\'s 4–1 victory. As their place in the knockout phase was guaranteed, most of the starters were rested during the last group match, but Messi reportedly refused to be benched. He wore the captain\\'s armband for the first time in their 2–0 win against Greece; as the focal point of their play, he helped create their second goal to see Argentina finish as group winners.Argentina were eliminated in the quarter-final against Germany, at the same stage of the tournament and by the same opponent as four years earlier. Their 4–0 loss was their worst margin of defeat at a World Cup since 1974. FIFA subsequently identified Messi as one of the tournament\\'s 10 best players, citing his \"outstanding\" pace and creativity and \"spectacular and efficient\" dribbling, shooting and passing. Back home, however, Messi was the subject of harsher judgement. As the perceived best player in the world, he had been expected to lead an average team to the title, as Maradona arguably did in 1986, but he had failed to replicate his performances at Barcelona with the national team, leading to the accusation that he cared less about his country than his club.Maradona was replaced by Sergio Batista, who had orchestrated Argentina\\'s Olympic victory. Batista publicly stated that he intended to build the team around Messi, employing him as a false nine within a 4–3–3 system, as used to much success by Barcelona. Although Messi scored a record 53 goals during the 2010–11 club season, he had not scored for Argentina in an official match since March 2009. Despite the tactical change, his goal drought continued during the 2011 Copa América, hosted by Argentina. Their first two matches, against Bolivia and Colombia, ended in draws. Media and fans noted that he did not combine well with striker Carlos Tevez, who enjoyed greater popularity among the Argentine public; Messi was consequently booed by his own team\\'s supporters for the first time in his career. During the crucial next match, with Tevez on the bench, he gave a well-received performance, assisting two goals in their 3–0 victory over Costa Rica. After the quarter-final against Uruguay ended in a 1–1 draw following extra time, with Messi having assisted their equaliser, Argentina were eliminated 4–5 in the penalty shootout by the eventual champions.\\n\\n\\n=== 2011–2013: Assuming the captaincy ===\\nAfter Argentina\\'s unsuccessful performance in the Copa América, Batista was replaced by Alejandro Sabella. Upon his appointment in August 2011, Sabella awarded the 24-year-old Messi the captaincy of the squad, in accord with then-captain Javier Mascherano. Reserved by nature, Messi went on to lead his squad by example as their best player, while Mascherano continued to fulfil the role of the team\\'s on-field leader and motivator. In a further redesign of the team, Sabella dismissed Tevez and brought in players with whom Messi had won the World Youth Championship and Olympic Games. Now playing in a free role in an improving team, Messi ended his goal drought by scoring during their first World Cup qualifying match against Chile on 7 October, his first official goal for Argentina in two-and-a-half years.Under Sabella, Messi\\'s goalscoring rate drastically increased; where he had scored only 17 goals in 61 matches under his previous managers, he scored 25 times in 32 appearances during the following three years. He netted a total of 12 goals in 9 games for Argentina in 2012, equalling the record held by Gabriel Batistuta for the most goals scored in a calendar year for their country. His first international hat-trick came in a friendly against Switzerland on 29 February 2012, followed by two more hat-tricks over the next year-and-a-half in friendlies against Brazil and Guatemala. Messi then helped the team secure their place in the 2014 World Cup with a 5–2 victory over Paraguay on 10 September 2013 when he scored twice from penalty kicks, taking his international tally to 37 goals to become Argentina\\'s second-highest goalscorer behind Batistuta. Overall, he had scored a total of 10 goals in 14 matches during the qualifying campaign. Concurrently with his bettered performances, his relationship with his compatriots improved, as he gradually began to be perceived more favourably in Argentina.\\n\\n\\n=== 2014–2015: World Cup and Copa América finals ===\\nAhead of the World Cup in Brazil, doubts persisted over Messi\\'s form, as he finished an unsuccessful and injury-plagued season with Barcelona. At the start of the tournament, however, he gave strong performances, being elected man of the match in their first four matches. In his first World Cup match as captain, he led them to a 2–1 victory over Bosnia and Herzegovina; he helped create Sead Kolašinac\\'s own goal and scored their second strike after a dribble past three players, his first World Cup goal since his debut in the tournament eight years earlier. During the second match against Iran, he scored an injury-time goal from 25 yards out to end the game in a 1–0 win, securing their qualification for the knockout phase. He scored twice in the last group match, a 3–2 victory over Nigeria, his second goal coming from a free kick, as they finished first in their group. Messi assisted a late goal in extra time to ensure a 1–0 win against Switzerland in the round of 16, and played in the 1–0 quarter-final win against Belgium as Argentina progressed to the semi-final of the World Cup for the first time since 1990. Following a 0–0 draw in extra time, they eliminated the Netherlands 4–2 in a penalty shootout to reach the final, with Messi scoring his team\\'s first penalty.\\nBilled as Messi versus Germany, the world\\'s best player against the best team, the final was a repeat of the 1990 final featuring Diego Maradona. Within the first half-hour, Messi had started the play that led to a goal, but it was ruled offside. He missed several opportunities to open the scoring throughout the match, in particular at the start of the second half when his breakaway effort went wide of the far post. Substitute Mario Götze finally scored in the 113th minute, followed in the last minute of extra time by a free kick that Messi sent over the net, as Germany won the match 1–0 to claim the World Cup. At the conclusion of the final, Messi was awarded the Golden Ball as the best player of the tournament. In addition to being the joint third-highest goalscorer, with four goals and an assist, he created the most chances, completed the most dribbling runs, made the most deliveries into the penalty area and produced the most throughballs in the competition. However, his selection drew criticism due to his lack of goals in the knockout round; FIFA President Sepp Blatter expressed his surprise, while Maradona suggested that Messi had undeservedly been chosen for marketing purposes.Another final appearance, the third of Messi\\'s senior international career, followed in the 2015 Copa América, held in Chile. Under the stewardship of former Barcelona manager Gerardo Martino, Argentina entered the tournament as title contenders due to their second-place achievement at the World Cup. During the opening match against Paraguay, they were ahead two goals by half-time but lost their lead to end the match in a 2–2 draw; Messi had scored from a penalty kick, netting his only goal in the tournament. Following a 1–0 win against defending champions Uruguay, Messi earned his 100th cap for his country in the final group match, a 1–0 win over Jamaica, becoming only the fifth Argentine to achieve this milestone. In his 100 appearances, he had scored a total of 46 goals for Argentina, 22 of which came in official competitive matches.As Messi evolved from the team\\'s symbolic captain into a genuine leader, he led Argentina to the knockout stage as group winners. In the quarter-final, they created numerous chances, including a rebound header by Messi, but were repeatedly denied by Colombia\\'s goalkeeper, and ultimately ended the match scoreless, leading to a 5–4 penalty shootout in their favour, with Messi netting his team\\'s first spot kick. At the semi-final stage, Messi excelled as a playmaker as he provided three assists and helped create three more goals in his side\\'s 6–1 victory over Paraguay, receiving applause from the initially hostile crowd. Argentina started the final as the odds-on title favourites, but were defeated by Chile 4–1 in a penalty shootout after a 0–0 extra-time draw. Faced with aggression from opposing players, including taking a boot to the midriff, Messi played below his standards, though he was the only Argentine to successfully convert his penalty. At the close of the tournament, he was reportedly selected to receive the Most Valuable Player award but rejected the honour. As Argentina continued a trophy drought that began in 1993, the World Cup and Copa América defeats again brought intense criticism for Messi from Argentine media and fans.\\n\\n\\n=== 2016–2017: Third Copa América final, first retirement, and return ===\\nMessi\\'s place in Argentina\\'s Copa América Centenario squad was initially put in jeopardy when he sustained a back injury in a 1–0 friendly win over Honduras in a pre-Copa América warm-up match on 27 May 2016. It was later reported that he had suffered a deep bruise in his lumbar region. He was later left on the bench in Argentina\\'s 2–1 opening win over defending champions Chile on 6 June due to concerns regarding his fitness. Although Messi was declared match-fit for his nation\\'s second group match against Panama on 10 June, Martino left him on the bench once again; he replaced Augusto Fernández in the 61st minute and subsequently scored a hat-trick in 19 minutes, also starting the play which led to Sergio Agüero\\'s goal, as the match ended in a 5–0 victory, sealing Argentina\\'s place in the quarter-finals of the competition; he was elected man of the match for his performance.\\n\\nOn 18 June, in the quarter-final of the Copa América against Venezuela, Messi produced another man of the match performance, assisting two goals and scoring another in a 4–1 victory, which enabled him to equal Gabriel Batistuta\\'s national record of 54 goals in official international matches. This record was broken three days later when Messi scored a free kick in a 4–0 semi-final win against hosts the United States; he also assisted two goals during the match as Argentina sealed a place in the final of the competition for a second consecutive year, and was named man of the match once again.During a repeat of the previous year\\'s final on 26 June, Argentina once again lost to Chile on penalties after a 0–0 deadlock, resulting in Messi\\'s third consecutive defeat in a major tournament final with Argentina, and his fourth overall. After the match, Messi, who had missed his penalty in the shootout, announced his retirement from international football. He stated, \"I tried my hardest. The team has ended for me, a decision made.\" Chile coach Juan Antonio Pizzi said after the match, \"My generation can\\'t compare him to Maradona that\\'s for my generation, because of what Maradona did for Argentine football. But I think the best player ever played today here in the United States.\" Messi finished the tournament as the second highest scorer, behind Eduardo Vargas, with five goals, and was the highest assist provider with four assists, also winning more Man of the Match awards than any other player in the tournament (3); he was named to the team of the tournament for his performances, but missed out on the Golden Ball Award for best player, which went to Alexis Sánchez.Following his announcement, a campaign began in Argentina for Messi to change his mind about retiring. He was greeted by fans with signs like \"Don\\'t go, Leo\" when the team landed in Buenos Aires. President of Argentina Mauricio Macri urged Messi not to quit, stating, \"We are lucky, it is one of life\\'s pleasures, it is a gift from God to have the best player in the world in a footballing country like ours... Lionel Messi is the greatest thing we have in Argentina and we must take care of him.\" Mayor of Buenos Aires Horacio Rodríguez Larreta unveiled a statue of Messi in the capital to convince him to reconsider retirement. The campaign also continued in the streets and avenues of the Argentine capital, with about 50,000 supporters going to the Obelisco de Buenos Aires on 2 July, using the same slogan.\\n\\nJust a week after Messi announced his international retirement, Argentine newspaper La Nación reported that he was reconsidering playing for Argentina at the 2018 FIFA World Cup qualifiers in September. On 12 August, it was confirmed that Messi had reversed his decision to retire from international football, and he was included in the squad for the national team\\'s upcoming 2018 World Cup qualifiers. On 1 September, in his first game back, he scored in a 1–0 home win over Uruguay in a 2018 World Cup qualifier.\\nOn 28 March 2017, Messi was suspended for four international games for insulting an assistant referee in a game against Chile on 23 March 2017. He was also fined CHF 10,000. On 5 May, Messi\\'s four match ban as well as his 10,000 CHF fine was lifted by FIFA after Argentina Football Association appealed against his suspension, which meant he could now play Argentina\\'s remaining World Cup Qualifiers. Argentina\\'s place in the 2018 World Cup was in jeopardy going into their final qualifying match as they were sixth in their group, outside the five possible CONMEBOL World Cup qualifying spots, meaning they risked failing to qualify for the World Cup for the first time since 1970. On 10 October, Messi led his country to World Cup qualification in scoring a hat-trick as Argentina came from behind to defeat Ecuador 3–1 away; Argentina had not defeated Ecuador in Quito since 2001. Messi\\'s three goals saw him become the joint all-time leading scorer in CONMEBOL World Cup qualifiers with 21 goals, alongside Uruguay\\'s Luis Suárez, overtaking the previous record which was held by compatriot Hernán Crespo.\\n\\n\\n=== 2018: World Cup ===\\n\\nFollowing on from their poor qualification campaign, expectations were not high going into the 2018 World Cup, with the team, without an injured Messi, losing 6–1 to Spain in March 2018. Prior to Argentina\\'s opener, there was speculation in the media over whether this would be Messi\\'s final World Cup. In the team\\'s opening group match against Iceland on 16 June, Messi missed a potential match-winning penalty in an eventual 1–1 draw. In Argentina\\'s second game on 21 June, the team lost 3–0 to Croatia in a huge upset. Post-match the Argentina coach Jorge Sampaoli spoke of the lack of quality in the team surrounding Messi, saying \"we quite simply couldn\\'t pass to him to help him generate the situations he is used to. We worked to give him the ball but the opponent also worked hard to prevent him from getting the ball. We lost that battle\". Croatia captain and midfielder Luka Modrić also stated post match, \"Messi is an incredible player but he can\\'t do everything alone.\"\\nIn Argentina\\'s final group match against Nigeria at the Krestovsky Stadium, Saint Petersburg on 26 June, Messi scored the opening goal in an eventual 2–1 victory, becoming the third Argentine after Diego Maradona and Gabriel Batistuta to score in three different World Cups; he also became the first player to score in the World Cup in his teens, twenties, and his thirties. A goal of the tournament contender, Messi received a long pass from midfield and controlled the ball on the run with two touches before striking it across goal into the net with his weaker right foot. He was awarded Man of the Match. Argentina progressed to the second round as group runners-up behind Croatia. In the round of 16 match against eventual champions France on 30 June, Messi set up Gabriel Mercado\\'s and Sergio Agüero\\'s goals in a 3–4 defeat, which saw Argentina eliminated from the World Cup. With his two assists in his team\\'s second round fixture, Messi became the first player to provide an assist in the last four World Cups, and also became the first player to provide two assists in a match for Argentina since Maradona had managed the same feat against South Korea in 1986.Following the tournament, Messi stated that he would not participate in Argentina\\'s friendlies against Guatemala and Colombia in September, and commented that it would be unlikely that he would represent his nation for the remainder of the calendar year. Messi\\'s absence from the national team and his continued failure to win a title with Argentina prompted speculation in the media that Messi might retire from international football once again. In March 2019, however, he was called up to the Argentina squad once again for the team\\'s friendlies against Venezuela and Morocco later that month. A conversation with Lionel Scaloni and his idol Pablo Aimar made Messi reconsider his decision to retire. He made his international return on 22 March, in a 3–1 friendly defeat to Venezuela, in Madrid.\\n\\n\\n=== 2019–2020: Copa América third-place and suspension ===\\nOn 21 May, Messi was included in Scaloni\\'s final 23-man squad for the 2019 Copa América. In Argentina\\'s second group match on 19 June, Messi scored the equalising goal from the penalty spot in a 1–1 draw against Paraguay. After coming under criticism in the media over his performance following Argentina\\'s 2–0 quarter-final victory over Venezuela on 28 June, Messi commented that it had not been his best Copa América, while also criticising the poor quality of the pitches. Following Argentina\\'s 2–0 semi-final defeat to hosts Brazil on 2 July, Messi was critical of the refereeing, and alleged the competition was \"set up\" for Brazil to win.In the third-place match against Chile on 6 July, Messi set-up Agüero\\'s opening goal from a free kick in an eventual 2–1 win, to help Argentina win the bronze medal; however, he was sent off along with Gary Medel in the 37th minute of play, after being involved in an altercation with the Chilean defender. Following the match, Messi refused to collect his medal, and implied in a post-match interview that his comments following the semi-final led to his sending off. Messi later issued an apology for his comments, but was fined $1,500 and was handed a one-match ban by CONMEBOL, which ruled him out of Argentina\\'s next World Cup qualifier. On 2 August, Messi was banned for three months from international football and was fined $50,000 by CONMEBOL for his comments against the referee\\'s decisions; this ban meant he would miss Argentina\\'s friendly matches against Chile, Mexico and Germany in September and October. On 15 November, Messi played in the 2019 Superclásico de las Américas versus Brazil, scoring the winning goal by a rebound of his saved penalty. On 8 October 2020, Messi scored a penalty in a 1–0 victory against Ecuador, giving Argentina a winning start to their 2022 World Cup qualifying campaign.\\n\\n\\n=== 2021–2022: Copa América and World Cup triumphs ===\\n\\nOn 14 June 2021, Messi scored from a free kick in a 1–1 draw against Chile in Argentina\\'s opening group match of the 2021 Copa América in Brazil. On 21 June, Messi played in his 147th match as he equalled Javier Mascherano\\'s record for most appearances for Argentina in a 1–0 win over Paraguay in their third game of the tournament. A week later, he broke the record when he featured in a 4–1 win against Bolivia in his team\\'s final group match, assisting Papu Gómez\\'s opening goal and later scoring two. On 3 July, Messi assisted twice and scored from a free-kick in a 3–0 win over Ecuador in the quarter-finals of the competition. On 6 July, in a 1–1 draw in the semi-finals against Colombia, Messi made his 150th appearance for his country and registered his fifth assist of the tournament, a cut-back for Lautaro Martínez, matching his record of nine goal contributions in a single tournament from five years earlier; he later scored his spot kick in Argentina\\'s eventual 3–2 penalty shoot-out victory to progress to his fifth international final. On 10 July, Argentina defeated hosts and defending champions Brazil 1–0 in the final, giving Messi his first major international title and Argentina\\'s first since 1993, as well as his nation\\'s joint record 15th Copa América overall. Messi was directly involved in nine out of the 12 goals scored by Argentina, scoring four and assisting five; he was named the player of the tournament for his performances, an honour he shared with Neymar. He also finished as top scorer with four goals tied with Colombia\\'s Luis Díaz, with the Golden Boot awarded to Messi as he had more assists.On 9 September, Messi scored a hat-trick in a 3–0 home win over Bolivia in a 2022 World Cup qualifier which also moved him above Pelé as South America\\'s top male international scorer with 79 goals. In the 2022 Finalissima, the third edition of the CONMEBOL–UEFA Cup of Champions, at Wembley on 2 June 2022, Messi assisted twice in a 3–0 victory against Italy and was named player of the match, securing his second trophy for Argentina at the senior level. Messi then followed this on 6 June with all five Argentina goals in a 5–0 victory in a friendly win over Estonia, overtaking Ferenc Puskás among the all-time international men\\'s top scorers.\\nAt the 2022 FIFA World Cup in Qatar, Messi scored a penalty in Argentina\\'s opening game, a 2–1 defeat to Saudi Arabia, before scoring with a low 20-yard strike in their next match against Mexico in which Argentina won 2–0, also recording an assist on Enzo Fernández\\'s goal. In the last 16 game against Australia, Messi scored the opening goal in Argentina\\'s 2–1 win in what was his 1,000th senior career appearance, and became the most-capped male South American (CONMEBOL member) footballer of all time, surpassing the previous record set by Ecuador\\'s Iván Hurtado, as well as surpassing and equalling several other FIFA World Cup and national team records. In the quarter-final against the Netherlands, Messi assisted Argentina\\'s first goal for Nahuel Molina with a reverse pass and then scored a penalty as the game finished 2–2 after extra time. Argentina won 4–3 in the penalty shootout, with Messi scoring the first penalty. In the semi-final against Croatia, Messi made a record-equalling 25th World Cup finals appearance, drawing level with Germany\\'s Lothar Matthäus, and scored the opening goal with a penalty before he assisted Argentina\\'s third goal scored by Julián Álvarez in a 3–0 win; with his 11th World Cup goal, Messi overtook Batistuta to become Argentina\\'s all-time top-scorer at the World Cup. Argentina advanced to the final against France, with Messi stating that it would be his final World Cup appearance.In the 2022 FIFA World Cup final on 18 December, Messi made his record 26th World Cup match appearance at Lusail Stadium. He scored Argentina\\'s opening goal with a penalty, becoming in the process the first player since the last-16 round was introduced in 1986 to score a goal in every round of a single World Cup edition. After Argentina\\'s eventual two-goal lead was erased by France forward Kylian Mbappé, who scored twice inside two minutes, Messi would score again in extra-time to restore Argentina\\'s lead, before Mbappé again drew France level. Tied 3–3 after extra-time, the match went to a penalty shoot-out. Messi scored Argentina\\'s first goal in the shoot-out, with Argentina eventually winning 4–2, ending the nation\\'s 36-year wait for the trophy. Messi received the Golden Ball for player of the tournament, becoming the first player to win it twice. He finished second in the Golden Boot race with seven goals in seven games, one behind Mbappé. With his appearance and two goals in the final, Messi overtook Matthaüs as the player with most appearances at the World Cup (26), and Pelé as the player with most direct goal contributions at the World Cup (21 – 13 goals and 8 assists). The championship game was widely acclaimed as one of the best of all time, with media coverage heavily framing it as a duel between Messi and Mbappé. Following the game, Messi confirmed that he had no plans to retire from the national team, saying \"I want to continue playing as a champion\".\\n\\n\\n=== 2023–present: 100 international goals ===\\nIn March 2023, Messi made his return to Argentina as a world champion with two appearances in friendlies in his home country. He scored his 99th international goal with a free-kick in Argentina\\'s 2–0 win over Panama; this also marked his 800th senior career goal for club and country. In the following match against Curaçao, Messi scored a hat-trick, his ninth for Argentina, and recorded an assist in a 7–0 win. The first of his three goals saw him reach 100 international goals, making Messi the third player in history to reach the milestone.\\n\\n\\n== Player profile ==\\n\\n\\n=== Style of play ===\\nDue to his short stature, Messi has a lower centre of gravity than taller players, which gives him greater agility, allowing him to change direction more quickly and evade opposing tackles; this has led the Spanish media to dub him La Pulga Atómica (\"The Atomic Flea\"). Despite being physically unimposing, he possesses significant upper-body strength, which, combined with his low centre of gravity and resulting balance, aids him in withstanding physical challenges from opponents; he has consequently been noted for his lack of diving in a sport rife with playacting. His short, strong legs allow him to excel in short bursts of acceleration while his quick feet enable him to retain control of the ball when dribbling at speed. His former Barcelona manager Pep Guardiola once stated, \"Messi is the only player that runs faster with the ball than he does without it.\" Although he has improved his ability with his weaker foot since his mid-20s, Messi is predominantly a left-footed player; with the outside of his left foot, he usually begins dribbling runs, while he uses the inside of his foot to finish and provide passes and assists.A prolific goalscorer, Messi is known for his finishing, positioning, quick reactions, and ability to make attacking runs to beat the defensive line. He also functions in a playmaking role, courtesy of his vision and range of passing. He has often been described as a magician; a conjurer, creating goals and opportunities where seemingly none exist. Moreover, he is an accurate free kick and penalty kick taker. As of October 2022, Messi ranks 9th all time in goals scored from direct free kicks with 60, the most among active players. He also has a penchant for scoring from chips.\\nMessi\\'s pace and technical ability enable him to undertake individual dribbling runs towards goal, in particular during counterattacks, usually starting from the halfway line or the right side of the pitch. Widely considered to be the best dribbler in the world, and one of the greatest dribblers of all time, with regard to this ability, his former Argentina manager Diego Maradona has said of him, \"The ball stays glued to his foot; I\\'ve seen great players in my career, but I\\'ve never seen anyone with Messi\\'s ball control.\" Beyond his individual qualities, he is also a well-rounded, hard-working team player, known for his creative combinations, in particular with former Barcelona midfielders Xavi and Andrés Iniesta.Tactically, Messi plays in a free attacking role; a versatile player, he is capable of attacking on either wing or through the centre of the pitch. His favoured position in childhood was the playmaker behind two strikers, known as the enganche in Argentine football, but he began his career in Spain as a left-winger or left-sided forward. Upon his first-team debut, he was moved onto the right wing by manager Frank Rijkaard; from this position, he could more easily cut through the defence into the middle of the pitch and curl shots on goal with his left foot, rather than predominantly cross balls for teammates. Under Guardiola and subsequent managers, he most often played in a false nine role; positioned as a centre-forward or lone striker, he would roam the centre, often moving deep into midfield and drawing defenders with him, in order to create and exploit spaces for passes, other teammates\\' attacking runs off the ball, Messi\\'s own dribbling runs, or combinations with Xavi and Iniesta. Under the stewardship of Luis Enrique, Messi initially returned to playing in the right-sided position that characterised much of his early career in the manager\\'s 4–3–3 formation, while he was increasingly deployed in a deeper, free playmaking role in later seasons. Under manager Ernesto Valverde, Messi played in a variety of roles. While he occasionally continued to be deployed in a deeper role, from which he could make runs from behind into the box, or even on the right wing or as a false nine, he was also used in a more offensive, central role in a 4–2–3–1, or as a second striker in a 4–4–2 formation, where he was once again given the licence to drop deep, link-up with midfielders, orchestrate his team\\'s attacking plays, and create chances for his attacking partner Suárez.\\nAs his career advanced, and his tendency to dribble diminished slightly with age, Messi began to dictate play in deeper areas of the pitch and developed into one of the best passers and playmakers in football history. His work-rate off the ball and defensive responsibilities also decreased as his career progressed; by covering less ground on the pitch, and instead conserving his energy for short bursts of speed, he was able to improve his efficiency, movement, and positional play, and was also able to avoid muscular injuries, despite often playing a large number of matches throughout a particular season on a consistent basis. Indeed, while he was injury-prone in his early career, he was later able to improve his injury record by running less off the ball, and by adopting a stricter diet, training regime, and sleep schedule. With the Argentina national team, Messi has similarly played anywhere along the frontline; under various managers, he has been employed on the right wing, as a false nine, as an out-and-out striker, in a supporting role alongside another forward, or in a deeper, free creative role as a classic number 10 playmaker or attacking midfielder behind the strikers.\\n\\n\\n=== Reception and comparisons to Diego Maradona ===\\n\\nA prodigious talent as a teenager, Messi established himself among the world\\'s best players before age 20. Diego Maradona considered the 18-year-old Messi the best player in the world alongside Ronaldinho, while the Brazilian himself, shortly after winning the Ballon d\\'Or, commented, \"I\\'m not even the best at Barça\", in reference to his protégé. Four years later, after Messi had won his first Ballon d\\'Or by a record margin, the public debate regarding his qualities as a player moved beyond his status in contemporary football to the possibility that he was one of the greatest players in history. An early proponent was his then-manager Pep Guardiola, who, as early as August 2009, declared Messi to be the best player he had ever seen. In the following years, this opinion gained greater acceptance among pundits, managers, former and current players, and by the end of Barça\\'s second treble-winning season, the view of Messi as one of the greatest footballers of all time had become the apparent view among many fans and pundits in continental Europe. He initially received several dismissals by critics, based on the fact that he had not won an international trophy at senior level with Argentina, until he won his first at the 2021 Copa América.\\n\\nThroughout his career, Messi has been compared with his late compatriot Diego Maradona, due to their similar playing styles as diminutive, left-footed dribblers. Initially, he was merely one of many young Argentine players, including his boyhood idol Pablo Aimar, to receive the \"New Maradona\" moniker, but as his career progressed, Messi proved his similarity beyond all previous contenders, establishing himself as the greatest player Argentina had produced since Maradona. Jorge Valdano, who won the 1986 World Cup alongside Maradona, said in October 2013, \"Messi is Maradona every day. For the last five years, Messi has been the Maradona of the World Cup in Mexico.\" César Menotti, who as manager orchestrated their 1978 World Cup victory, echoed this sentiment when he opined that Messi plays \"at the level of the best Maradona\". Other notable Argentines in the sport, such as Osvaldo Ardiles, Javier Zanetti, and Diego Simeone, have expressed their belief that Messi has overtaken Maradona as the best player in history.In Argentine society, prior to 2019, Messi was generally held in lesser esteem than Maradona, a consequence of not only his perceived uneven performances with the national team, but also of differences in class, personality, and background. Messi is in some ways the antithesis of his predecessor: where Maradona was an extroverted, controversial character who rose to greatness from the slums, Messi is reserved and unassuming, an unremarkable man outside of football. An enduring mark against him is the fact that, through no fault of his own, he never proved himself in the Argentine Primera División as an upcoming player, achieving stardom overseas from a young age, while his lack of outward passion for the Albiceleste shirt (until 2019 he did not sing the national anthem and is disinclined to emotional displays) have in the past led to the false perception that he felt Catalan rather than truly Argentine. Football journalist Tim Vickery states the view among Argentines is that Messi \"was always seen as more Catalan than one of them\". Despite having lived in Spain since age 13, Messi rejected the option of representing Spain internationally. He has said: \"Argentina is my country, my family, my way of expressing myself. I would change all my records to make the people in my country happy.\" Moreover, several pundits and footballing figures, including Maradona, questioned Messi\\'s leadership with Argentina at times, despite his playing ability. Vickery states the perception of Messi among Argentines changed in 2019, with Messi making a conscious effort to become \"more one of the group, more Argentine\", with Vickery adding that following the World Cup victory in 2022 Messi would now be held in the same esteem by his compatriots as Maradona.\\n\\n\\n=== Comparisons with Cristiano Ronaldo ===\\n\\nAmong his contemporary peers, Messi is most often compared and contrasted with Portuguese forward Cristiano Ronaldo, as part of an ongoing rivalry that has been compared to past sports rivalries like the Muhammad Ali–Joe Frazier rivalry in boxing, the Roger Federer–Rafael Nadal rivalry in tennis, and the Prost–Senna rivalry from Formula One motor racing.Although Messi has at times denied any rivalry, they are widely believed to push one another in their aim to be the best player in the world. Since 2008, Messi has won seven Ballons d\\'Or to Ronaldo\\'s five, six FIFA World\\'s Best Player awards to Ronaldo\\'s five, and six European Golden Shoes to Ronaldo\\'s four. Pundits and fans regularly argue the individual merits of both players. Beyond their playing styles, the debate also revolves around their differing physiques – Ronaldo is 1.87 m (6 ft 1+1⁄2 in) with a muscular build – and contrasting public personalities with Ronaldo\\'s self-confidence and theatrics a foil to Messi\\'s humility. From 2009–10 to 2017–18, Messi faced Ronaldo at least twice every season in El Clásico, which ranks among the world\\'s most viewed annual sports events. Off the pitch, Ronaldo is his direct competitor in terms of salary, sponsorships, and social media fanbase.After Messi led Argentina to victory in the 2022 FIFA World Cup, a number of football critics, commentators, and players have opined that Messi has settled the debate between the two players.\\n\\n\\n== In popular culture ==\\nAccording to France Football, Messi was the world\\'s highest-paid footballer for five years out of six between 2009 and 2014; he was the first player to exceed the €40 million benchmark, with earnings of €41 million in 2013, and the €50–€60 million points, with income of €65 million in 2014. Messi was second on Forbes list of the world\\'s highest-paid athletes (after Cristiano Ronaldo) with income of $81.4 million from his salary and endorsements in 2015–16. In 2018 he was the first player to exceed the €100m benchmark for a calendar year, with earnings of €126m ($154m) in combined income from salaries, bonuses and endorsements. Forbes ranked him the world\\'s highest-paid athlete in 2019. From 2008, he was Barcelona\\'s highest-paid player, receiving a salary that increased incrementally from €7.8 million to €13 million over the next five years. Signing a new Barcelona contract in 2017, he earned $667,000 per week in wages, and Barcelona also paid him $59.6 million as a signing on bonus. His buyout clause was set at $835 million (€700 million). In 2020, Messi became the second footballer, as well as the second athlete in a team sport, after Cristiano Ronaldo, to surpass $1 billion in earnings during their careers.\\nIn addition to his salary and bonuses, much of his income derives from endorsements; SportsPro has consequently cited him as one of the world\\'s most marketable athletes every year since their research began in 2010. His main sponsor since 2006 is the sportswear company Adidas. As Barcelona\\'s leading youth prospect, he had been signed with Nike since age 14, but transferred to Adidas after they successfully challenged their rival\\'s claim to his image rights in court. Over time, Messi established himself as their leading brand endorser; from 2008, he had a long-running signature collection of Adidas F50 boots, and in 2015, he became the first footballer to receive his own sub-brand of Adidas boots, the Adidas Messi. Since 2017, he has worn the latest version of the Adidas Nemeziz. In 2015, a Barcelona jersey with Messi\\'s name and number was the best-selling replica jersey worldwide. At the 2022 World Cup, Adidas were sold out of Messi\\'s Argentina No.10 jersey worldwide.\\nAs a commercial entity, Messi\\'s marketing brand has been based exclusively on his talents and achievements as a player, in contrast to arguably more glamorous players like Cristiano Ronaldo and David Beckham. At the start of his career, he thus mainly held sponsorship contracts with companies that employ sports-oriented marketing, such as Adidas, Pepsi, and Konami. From 2010 onwards, concurrently with his increased achievements as a player, his marketing appeal widened, leading to long-term endorsement deals with luxury brands Dolce & Gabbana and Audemars Piguet. Messi is also a global brand ambassador for Gillette, Turkish Airlines, Ooredoo, and Tata Motors, among other companies. Additionally, Messi was the face of Konami\\'s video game series Pro Evolution Soccer, appearing on the covers of PES 2009, PES 2010, PES 2011 and PES 2020. He subsequently signed with rival company EA Sports to become the face of their series FIFA and has since appeared on four consecutive covers from FIFA 13 to FIFA 16.Messi\\'s global popularity and influence are well documented. He was among the Time 100, an annual list of the world\\'s most influential people as published by Time, in 2011, 2012 and 2023. His fanbase on the social media website Facebook is among the largest of all public figures: within seven hours of its launch in April 2011, Messi\\'s Facebook page had nearly seven million followers, and by July 2023 he had over 114 million followers, the second highest for a sportsperson after Cristiano Ronaldo. He also has over 450 million Instagram followers, the second highest for an individual and sportsperson after Cristiano Ronaldo. His World Cup celebration post from 18 December 2022 is the most liked post on Instagram with over 70 million likes. According to a 2014 survey by sports research firm Repucom in 15 international markets, Messi was familiar to 87% of respondents around the world, of whom 78% perceived him favourably, making him the second-most recognised player globally, behind Ronaldo, and the most likable of all contemporary players. On Messi\\'s economic impact on the city in which he plays, Terry Gibson called him a \"tourist attraction\".\\nOther events have illustrated Messi\\'s presence in popular culture. Madame Tussauds unveiled their first wax sculpture of Messi at Wembley Stadium in 2012. A gold replica of his left foot, weighing 25 kg (55 lb) and valued at $5.25 million, went on sale in Japan in March 2013 to raise funds for victims of the 2011 Tōhoku earthquake and tsunami. In 2013, a Turkish Airlines advertisement starring Messi, in which he engages in a selfie competition with then-Los Angeles Lakers star Kobe Bryant, was the most-watched ad on YouTube in the year of its release, receiving 137 million views, and was subsequently voted the best advertisement of the 2005–15 decade to commemorate YouTube\\'s founding. World Press Photo selected \"The Final Game\", a photograph of Messi facing the World Cup trophy after Argentina\\'s final defeat to Germany, as the best sports image of 2014. Messi, a documentary about his life by filmmaker Álex de la Iglesia, premiered at the Venice Film Festival in August 2014.In June 2021, Messi signed a five-year deal to become an ambassador for the Hard Rock Cafe brand. He stated, \"sports and music are an integral part of my life. It is an honor to be the first athlete to partner with a brand who has a history of teaming with music legends.\" In May 2022, Messi was unveiled as Saudi Arabia\\'s tourism ambassador. Due to Saudi Arabia\\'s poor human rights record, Messi was condemned for taking on the role which was viewed as an attempt of Saudi sportswashing. In April 2023, Messi was featured in the 200 year old Thrissur Pooram festival in Kerala, India. During Thrissur Pooram, which is one of the largest festivals in Asia, umbrellas carrying the illuminated cut outs of Messi holding the World Cup trophy were displayed on the top of caparisoned elephants during the Kudamattam ceremony.\\n\\n\\n== Personal life ==\\n\\n\\n=== Family and relationships ===\\nSince 2008, Messi has been in a relationship with Antonela Roccuzzo, a fellow native of Rosario. He has known Roccuzzo since he was five years old, as she is the cousin of his childhood best friend, Lucas Scaglia, who is also a football player. After keeping their relationship private for a year, Messi first confirmed their romance in an interview in January 2009, before going public a month later during a carnival in Sitges after the Barcelona–Espanyol derby.\\n\\nMessi and Roccuzzo have three sons. To celebrate his partner\\'s first pregnancy, Messi placed the ball under his shirt after scoring in Argentina\\'s 4–0 win against Ecuador on 2 June 2012, before confirming the pregnancy in an interview two weeks later. Thiago was born in Barcelona on 2 November 2012. In April 2015, Messi confirmed that they were expecting another child. On 30 June 2017, he married Roccuzzo at a luxury hotel named Hotel City Center in Rosario. In October 2017, his wife announced they were expecting their third child. Messi and his family are Catholic Christians.Messi enjoys a close relationship with his immediate family members, particularly his mother, Celia, whose face he has tattooed on his left shoulder. His professional affairs are largely run as a family business: his father, Jorge, has been his agent since he was 14, and his oldest brother, Rodrigo, handles his daily schedule and publicity. His mother and other brother, Matías, manage his charitable organization, the Leo Messi Foundation, and take care of personal and professional matters in Rosario.Since leaving for Spain aged 13, Messi has maintained close ties to his hometown of Rosario, even preserving his distinct Rosarino accent. He has kept ownership of his family\\'s old house, although it has long stood empty; he maintains a penthouse apartment in an exclusive residential building for his mother, as well as a family compound just outside the city. Once when he was in training with the national team in Buenos Aires, he made a three-hour trip by car to Rosario immediately after practice to have dinner with his family, spent the night with them, and returned to Buenos Aires the next day in time for practice. Messi keeps in daily contact via phone and text with a small group of confidants in Rosario, most of whom were fellow members of \"The Machine of \\'87\" at Newell\\'s Old Boys. While at Barcelona he lived in Castelldefels, a village near Barcelona. He was on bad terms with the club after his transfer to Barcelona, but by 2012 their public feud had ended, with Newell\\'s embracing their ties with Messi, even issuing a club membership card to his newborn son. Messi has long planned to return to Rosario to end his playing career at Newell\\'s. Messi holds triple citizenship, as he is a citizen of Argentina, Italy, and Spain. His favourite meals include asado (traditional South American barbecue), milanesa and pasta, and he prefers his mate unsweetened.\\n\\n\\n=== Philanthropy ===\\nThroughout his career, Messi has been involved in charitable efforts aimed at vulnerable children, a commitment that stems in part from the medical difficulties he faced in his own childhood. Since 2004, he has contributed his time and finances to the United Nations Children\\'s Fund (UNICEF), an organisation with which Barcelona also have a strong association. Messi has served as a UNICEF goodwill ambassador since his appointment in March 2010, completing his first field mission for the organisation four months later as he travelled to Haiti to bring public awareness to the plight of the country\\'s children in the wake of the recent earthquake. He has since participated in UNICEF campaigns targeting HIV prevention, education, and the social inclusion of disabled children. To celebrate his son\\'s first birthday, in November 2013, Messi and Thiago were part of a publicity campaign to raise awareness of mortality rates among disadvantaged children.\\nIn addition to his work with UNICEF, Messi founded his own charitable organisation, the Leo Messi Foundation, which supports access to health care, education, and sport for children. It was established in 2007 following a visit Messi paid to a hospital for terminally ill children in Boston, an experience that resonated with him to the point that he decided to reinvest part of his earnings into society. Through his foundation, Messi has awarded research grants, financed medical training, and invested in the development of medical centres and projects in Argentina, Spain, and elsewhere in the world. In addition to his own fundraising activities, such as his global \"Messi and Friends\" football matches, his foundation receives financial support from various companies to which he has assigned his name in endorsement agreements, with Adidas as their main sponsor.Messi has also invested in youth football in Argentina: he financially supports Sarmiento, a football club based in the Rosario neighbourhood where he was born, committing in 2013 to the refurbishment of their facilities and the installation of all-weather pitches, and funds the management of several youth players at Newell\\'s Old Boys and rival club Rosario Central, as well as at River Plate and Boca Juniors in Buenos Aires. At Newell\\'s Old Boys, his boyhood club, he funded the 2012 construction of a new gymnasium and a dormitory inside the club\\'s stadium for their youth academy. His former youth coach at Newell\\'s, Ernesto Vecchio, is employed by the Leo Messi Foundation as a talent scout for young players. On 7 June 2016, Messi won a libel case against La Razón newspaper and was awarded €65,000 in damages, which he donated to the charity Médecins Sans Frontières. Messi made a donation worth €1 million ($1.1 million) to fight the spread of coronavirus. This was split between Clinic Barcelona hospital in Barcelona, Spain and his native Argentina. In addition to this, Messi along with his fellow FC Barcelona teammates announced he will be taking a 70% cut in salaries during the 2020 coronavirus emergency, and contribute further to the club to provide fully to salaries of all the clubs employees.In November 2016, with the Argentine Football Association being run by a FIFA committee for emergency due to an economic crisis, it was reported that three of the national team\\'s security staff told Messi that they had not received their salaries for six months. He stepped in and paid the salaries of the three members. In February 2021, Messi donated to the Museu Nacional d\\'Art de Catalunya his Adidas shoes which he wore when he scored his 644th goal for Barcelona and broke Pelé\\'s record for most goals scored for a single club; the shoes were later auctioned off in April by the museum for charity to help children with cancer and were sold for £125,000.In advance of the 2021 Copa América in Uruguay, Messi donated three signed shirts to the Chinese pharmaceutical firm Sinovac Biotech—whose directors spoke of their admiration for Messi—in order to secure 50,000 doses of Sinovac\\'s COVID-19 vaccine, CoronaVac, in the hope of vaccinating all of South America\\'s football players. A deal brokered by Uruguay\\'s president Luis Lacalle Pou, the plan to prioritise football players caused some controversy given widespread vaccine scarcity in the region, with the Mayor of Canelones Yamandú Orsi remarking that \"Just as the president manifested cooperation with CONMEBOL to vaccinate for the Copa América, he could just as well have the same consideration for Canelones\".\\n\\n\\n=== Tax fraud ===\\nMessi\\'s financial affairs came under investigation in 2013 for suspected tax evasion. Offshore companies in tax havens Uruguay and Belize were used to evade €4.1 million in taxes related to sponsorship earnings between 2007 and 2009. An unrelated shell company in Panama set up in 2012 was subsequently identified as belonging to the Messis in the Panama Papers data leak. Messi, who pleaded ignorance of the alleged scheme, voluntarily paid arrears of €5.1 million in August 2013. On 6 July 2016, Messi and his father were both found guilty of tax fraud and were handed suspended 21-month prison sentences and respectively ordered to pay €1.7 million and €1.4 million in fines. Facing the judge, he said, \"I just played football. I signed the contracts because I trusted my dad and the lawyers and we had decided that they would take charge of those things.\"\\n\\n\\n== Career statistics ==\\n\\n\\n=== Club ===\\nAs of match played 23 August 2023\\n\\n\\n=== International ===\\n\\nAs of match played 15 June 2023\\n\\n\\n== Honours ==\\n\\nBarcelona\\nLa Liga: 2004–05, 2005–06, 2008–09, 2009–10, 2010–11, 2012–13, 2014–15, 2015–16, 2017–18, 2018–19\\nCopa del Rey: 2008–09, 2011–12, 2014–15, 2015–16, 2016–17, 2017–18, 2020–21\\nSupercopa de España: 2006, 2009, 2010, 2011, 2013, 2016, 2018\\nUEFA Champions League: 2005–06, 2008–09, 2010–11, 2014–15\\nUEFA Super Cup: 2009, 2011, 2015\\nFIFA Club World Cup: 2009, 2011, 2015Paris Saint-Germain\\nLigue 1: 2021–22, 2022–23\\nTrophée des Champions: 2022Inter Miami\\n\\nLeagues Cup: 2023Argentina U20\\n\\nFIFA World Youth Championship: 2005Argentina U23\\n\\nSummer Olympics: 2008Argentina\\n\\nFIFA World Cup: 2022\\nCopa América: 2021\\nCONMEBOL–UEFA Cup of Champions: 2022Individual\\n\\nBallon d\\'Or/FIFA Ballon d\\'Or: 2009, 2010, 2011, 2012, 2015, 2019, 2021\\nFIFA World Player of the Year: 2009\\nThe Best FIFA Men\\'s Player: 2019, 2022\\nEuropean Golden Shoe: 2009–10, 2011–12, 2012–13, 2016–17, 2017–18, 2018–19\\nFIFA World Cup Golden Ball: 2014, 2022\\nFIFA World Cup Silver Boot: 2022\\nFIFA Club World Cup Golden Ball: 2009, 2011\\nFIFA U-20 World Cup Golden Ball: 2005\\nFIFA U-20 World Cup Golden Boot: 2005\\nUEFA Men\\'s Player of the Year Award: 2008–09, 2010–11, 2014–15\\nCopa América Best Player: 2015, 2021\\nCopa América Top Goalscorer: 2021\\nLa Liga Best Player: 2008–09, 2009–10, 2010–11, 2011–12, 2012–13, 2014–15\\nPichichi Trophy: 2009−10, 2011–12, 2012−13, 2016–17, 2017−18, 2018–19, 2019–20, 2020–21\\nLaureus World Sportsman of the Year: 2020, 2023\\nArgentine Footballer of the Year: 2005, 2007, 2008, 2009, 2010, 2011, 2012, 2013, 2015, 2016, 2017, 2019, 2020, 2021, 2022\\n\\n\\n== See also ==\\n\\n\\n== Notes ==\\n\\n\\n== References ==\\n\\nBibliography\\n\\n\\n== External links ==\\n\\nOfficial website \\nLionel Messi on Facebook\\nLionel Messi on Instagram\\nProfile at Inter Miami\\nProfile at PSG\\nProfile at FC Barcelona\\nProfile at La Liga\\nProfile at Ligue 1\\nProfile at MLS\\nLionel Messi at BDFutbol \\nLionel Messi at Soccerbase \\nLionel Messi at Soccerway \\nLionel Messi at National-Football-Teams.com \\nLionel Messi – FIFA competition record (archived) \\nLionel Messi – UEFA competition record (archive)'"
            ],
            "application/vnd.google.colaboratory.intrinsic+json": {
              "type": "string"
            }
          },
          "metadata": {},
          "execution_count": 4
        }
      ]
    },
    {
      "cell_type": "code",
      "source": [
        "print (len(wiki_input))"
      ],
      "metadata": {
        "colab": {
          "base_uri": "https://localhost:8080/"
        },
        "id": "0wul6TIkvows",
        "outputId": "cb368f10-c891-495a-8f24-27747f9170d5"
      },
      "execution_count": 5,
      "outputs": [
        {
          "output_type": "stream",
          "name": "stdout",
          "text": [
            "131765\n"
          ]
        }
      ]
    },
    {
      "cell_type": "markdown",
      "source": [
        "### Preprocessing and Data Chunking\n",
        "Here we will use tiktoken library from OpenAI to overcome the token limitation."
      ],
      "metadata": {
        "id": "Kqm52KfnF5im"
      }
    },
    {
      "cell_type": "code",
      "source": [
        "!pip install tiktoken"
      ],
      "metadata": {
        "colab": {
          "base_uri": "https://localhost:8080/"
        },
        "id": "UqEXZDwQBvwz",
        "outputId": "cf5f6202-2240-47ea-f973-1242b09d2307"
      },
      "execution_count": 6,
      "outputs": [
        {
          "output_type": "stream",
          "name": "stdout",
          "text": [
            "Collecting tiktoken\n",
            "  Downloading tiktoken-0.4.0-cp310-cp310-manylinux_2_17_x86_64.manylinux2014_x86_64.whl (1.7 MB)\n",
            "\u001b[2K     \u001b[90m━━━━━━━━━━━━━━━━━━━━━━━━━━━━━━━━━━━━━━━━\u001b[0m \u001b[32m1.7/1.7 MB\u001b[0m \u001b[31m17.1 MB/s\u001b[0m eta \u001b[36m0:00:00\u001b[0m\n",
            "\u001b[?25hRequirement already satisfied: regex>=2022.1.18 in /usr/local/lib/python3.10/dist-packages (from tiktoken) (2023.6.3)\n",
            "Requirement already satisfied: requests>=2.26.0 in /usr/local/lib/python3.10/dist-packages (from tiktoken) (2.31.0)\n",
            "Requirement already satisfied: charset-normalizer<4,>=2 in /usr/local/lib/python3.10/dist-packages (from requests>=2.26.0->tiktoken) (3.2.0)\n",
            "Requirement already satisfied: idna<4,>=2.5 in /usr/local/lib/python3.10/dist-packages (from requests>=2.26.0->tiktoken) (3.4)\n",
            "Requirement already satisfied: urllib3<3,>=1.21.1 in /usr/local/lib/python3.10/dist-packages (from requests>=2.26.0->tiktoken) (2.0.4)\n",
            "Requirement already satisfied: certifi>=2017.4.17 in /usr/local/lib/python3.10/dist-packages (from requests>=2.26.0->tiktoken) (2023.7.22)\n",
            "Installing collected packages: tiktoken\n",
            "Successfully installed tiktoken-0.4.0\n"
          ]
        }
      ]
    },
    {
      "cell_type": "code",
      "source": [
        "## Let's check the total number of tokens present in the above text\n",
        "import tiktoken\n",
        "enc = tiktoken.encoding_for_model(\"gpt-3.5-turbo\")\n",
        "print (\"Number of tokens in corpus \", len(enc.encode(wiki_input)))"
      ],
      "metadata": {
        "colab": {
          "base_uri": "https://localhost:8080/"
        },
        "id": "xSVebIHFGGJm",
        "outputId": "231fa2fe-fdbb-4b36-a046-b8e735d7d240"
      },
      "execution_count": 6,
      "outputs": [
        {
          "output_type": "stream",
          "name": "stdout",
          "text": [
            "Number of tokens in corpus  29762\n"
          ]
        }
      ]
    },
    {
      "cell_type": "markdown",
      "source": [
        "As we can see, the number of token are large. So we will need to do some processing to divide the corpous into batches for sending it to OpenAI.\n",
        "\n",
        "We will start by splitting the input text into logical sub-parts - sentences with the help of the NLTK library."
      ],
      "metadata": {
        "id": "H63XisVEKWWi"
      }
    },
    {
      "cell_type": "code",
      "source": [
        "# Let's see token count for a sample string\n",
        "print (\"Number of tokens present in the string \", len(enc.encode(\"Hello World!\")))"
      ],
      "metadata": {
        "colab": {
          "base_uri": "https://localhost:8080/"
        },
        "id": "VgNZHvZITPeU",
        "outputId": "33830e9d-e1f8-4f49-d669-ce2ee7de9ed5"
      },
      "execution_count": 7,
      "outputs": [
        {
          "output_type": "stream",
          "name": "stdout",
          "text": [
            "Number of tokens present in the string  3\n"
          ]
        }
      ]
    },
    {
      "cell_type": "code",
      "source": [
        "import nltk\n",
        "nltk.download('punkt')\n",
        "from nltk.tokenize import sent_tokenize\n",
        "# Return a sentence-tokenized copy of text, using NLTK’s recommended sentence tokenizer (currently PunktSentenceTokenizer for the specified language).\n",
        "def split_text (input_text):\n",
        "  split_texts = sent_tokenize(input_text)\n",
        "  return split_texts"
      ],
      "metadata": {
        "colab": {
          "base_uri": "https://localhost:8080/"
        },
        "id": "qJmgJJX_KX-O",
        "outputId": "1ee6cda6-61c7-4051-ac9e-434aeff32cc9"
      },
      "execution_count": 8,
      "outputs": [
        {
          "output_type": "stream",
          "name": "stderr",
          "text": [
            "[nltk_data] Downloading package punkt to /root/nltk_data...\n",
            "[nltk_data]   Unzipping tokenizers/punkt.zip.\n"
          ]
        }
      ]
    },
    {
      "cell_type": "code",
      "source": [
        "def create_chunks(split_sents, max_token_len=2500):\n",
        "  current_token_len = 0\n",
        "  input_chunks = []\n",
        "  current_chunk = \"\"\n",
        "  for sents in split_sents:\n",
        "    sent_token_len = len(enc.encode(sents))\n",
        "    if (current_token_len + sent_token_len) > max_token_len:\n",
        "      input_chunks.append(current_chunk)\n",
        "      current_chunk = \"\"\n",
        "      current_token_len = 0\n",
        "    current_chunk = current_chunk + sents\n",
        "    current_token_len = current_token_len + sent_token_len\n",
        "  if current_chunk != \"\":\n",
        "    input_chunks.append(current_chunk)\n",
        "  return input_chunks"
      ],
      "metadata": {
        "id": "rTeQkmqzKjcU"
      },
      "execution_count": 9,
      "outputs": []
    },
    {
      "cell_type": "markdown",
      "source": [
        "Splitting the tokens into chunks of 2500 tokens."
      ],
      "metadata": {
        "id": "fHhUPeBOMnVh"
      }
    },
    {
      "cell_type": "code",
      "source": [
        "split_sents = split_text(wiki_input)\n",
        "input_chunks = create_chunks(split_sents, max_token_len=2500)\n",
        "print(f'Batch size: {len(input_chunks)}')"
      ],
      "metadata": {
        "colab": {
          "base_uri": "https://localhost:8080/"
        },
        "id": "d9e2Ag-rMoPK",
        "outputId": "583655ef-b728-470f-a9d3-a812790ba1f4"
      },
      "execution_count": 10,
      "outputs": [
        {
          "output_type": "stream",
          "name": "stdout",
          "text": [
            "Batch size: 13\n"
          ]
        }
      ]
    },
    {
      "cell_type": "code",
      "source": [
        "input_chunks[0]"
      ],
      "metadata": {
        "colab": {
          "base_uri": "https://localhost:8080/",
          "height": 143
        },
        "id": "vSXMb83ha4pg",
        "outputId": "c6558b79-840e-443c-aa0c-77e827dc93e7"
      },
      "execution_count": 11,
      "outputs": [
        {
          "output_type": "execute_result",
          "data": {
            "text/plain": [
              "'Lionel Andrés Messi (Spanish pronunciation: [ljoˈnel anˈdɾes ˈmesi] (listen); born 24 June 1987), also known as Leo Messi, is an Argentine professional footballer who plays as a forward for and captains both Major League Soccer club Inter Miami and the Argentina national team.Widely regarded as one of the greatest players of all time, Messi has won a record seven Ballon d\\'Or awards and a record six European Golden Shoes, and in 2020 he was named to the Ballon d\\'Or Dream Team.Until leaving the club in 2021, he had spent his entire professional career with Barcelona, where he won a club-record 34 trophies, including ten La Liga titles, seven Copa del Rey titles and the UEFA Champions League four times.With his country, he won the 2021 Copa América and the 2022 FIFA World Cup.A prolific goalscorer and creative playmaker, Messi holds the records for most goals in La Liga (474), most hat-tricks in La Liga (36) and the UEFA Champions League (eight), and most assists in La Liga (192) and the Copa América (17).He also has the most international goals by a South American male (103).Messi has scored over 800 senior career goals for club and country, and has the most goals by a player for a single club (672).Messi relocated to Spain from Argentina aged 13 to join Barcelona, for whom he made his competitive debut aged 17 in October 2004.He established himself as an integral player for the club within the next three years, and in his first uninterrupted season in 2008–09 he helped Barcelona achieve the first treble in Spanish football; that year, aged 22, Messi won his first Ballon d\\'Or.Three successful seasons followed, with Messi winning four consecutive Ballons d\\'Or, making him the first player to win the award four times.During the 2011–12 season, he set the La Liga and European records for most goals scored in a single season, while establishing himself as Barcelona\\'s all-time top scorer.The following two seasons, Messi finished second for the Ballon d\\'Or behind Cristiano Ronaldo (his perceived career rival), before regaining his best form during the 2014–15 campaign, becoming the all-time top scorer in La Liga and leading Barcelona to a historic second treble, after which he was awarded a fifth Ballon d\\'Or in 2015.Messi assumed captaincy of Barcelona in 2018, and won a record sixth Ballon d\\'Or in 2019.Out of contract, he signed for French club Paris Saint-Germain in August 2021, spending two seasons at the club and winning Ligue 1 twice.Messi joined American club Inter Miami in July 2023, winning the 2023 Leagues Cup in August of that year.An Argentine international, Messi is the country\\'s all-time leading goalscorer and also holds the national record for appearances.At youth level, he won the 2005 FIFA World Youth Championship, finishing the tournament with both the Golden Ball and Golden Shoe, and an Olympic gold medal at the 2008 Summer Olympics.His style of play as a diminutive, left-footed dribbler drew comparisons with his compatriot Diego Maradona, who described Messi as his successor.After his senior debut in August 2005, Messi became the youngest Argentine to play and score in a FIFA World Cup (2006), and reached the final of the 2007 Copa América, where he was named young player of the tournament.As the squad\\'s captain from August 2011, he led Argentina to three consecutive finals: the 2014 FIFA World Cup, for which he won the Golden Ball, the 2015 Copa América, winning the Golden Ball, and the 2016 Copa América.After announcing his international retirement in 2016, he reversed his decision and led his country to qualification for the 2018 FIFA World Cup, a third-place finish at the 2019 Copa América, and victory in the 2021 Copa América, while winning the Golden Ball and Golden Boot for the latter.For this achievement, Messi received a record-extending seventh Ballon d\\'Or in 2021.In 2022, he led Argentina to win the 2022 FIFA World Cup, where he won a record second Golden Ball, scored seven goals including two in the final, and broke the record for most games played at the World Cup (26).Messi has endorsed sportswear company Adidas since 2006.According to France Football, he was the world\\'s highest-paid footballer for five years out of six between 2009 and 2014, and was ranked the world\\'s highest-paid athlete by Forbes in 2019 and 2022.Messi was among Time\\'s 100 most influential people in the world in 2011, 2012 and 2023.In 2020 and 2023, he was named the Laureus World Sportsman of the Year, with Messi being the first team-sport athlete to win the award.In 2020, Messi became the second footballer and second team-sport athlete to surpass $1 billion in career earnings.== Early life ==\\nMessi was born on 24 June 1987 in Rosario, Santa Fe, the third of four children of Jorge Messi, a steel factory manager, and his wife Celia Cuccittini, who worked in a magnet manufacturing workshop.On his father\\'s side, he is of Italian and Spanish descent, the great-grandson of immigrants from the north-central Adriatic Marche region of Italy, and on his mother\\'s side, he has primarily Italian ancestry.Growing up in a tight-knit, football-loving family, \"Leo\" developed a passion for the sport from an early age, playing constantly with his older brothers, Rodrigo and Matías, and his cousins, Maximiliano and Emanuel Biancucchi, both of whom became professional footballers.At the age of four he joined local club Grandoli, where he was coached by his father, though his earliest influence as a player came from his maternal grandmother, Celia, who accompanied him to training and matches.He was greatly affected by her death, shortly before his eleventh birthday; since then, as a devout Roman Catholic, he has celebrated his goals by looking up and pointing to the sky in tribute to his grandmother.A lifelong supporter of Newell\\'s Old Boys, Messi joined the Rosario club when he was six years old.During the six years he played for Newell\\'s, he scored almost 500 goals as a member of \"The Machine of \\'87\", the near-unbeatable youth side named for the year of their birth, and regularly entertained crowds by performing ball tricks during half-time of the first team\\'s home games.However, his future as a professional player was threatened when, aged 10, he was diagnosed with a growth hormone deficiency.As his father\\'s health insurance covered only two years of growth hormone treatment, which cost at least $1,000 per month, Newell\\'s agreed to contribute, but later reneged on their promise.He was scouted by Buenos Aires club River Plate, whose playmaker, Pablo Aimar, he idolised, but they declined to pay for his treatment.His goalscoring idol growing up was Ronaldo, with Messi calling him \"the best forward I\\'ve ever seen\".As the Messi family had relatives in Catalonia, they sought to arrange a trial with Barcelona in September 2000.First team director Charly Rexach immediately wanted to sign him, but the board of directors hesitated; at the time it was highly unusual for European clubs to sign foreign players of such a young age.On 14 December, an ultimatum was issued for Barcelona to prove their commitment, and Rexach, with no other paper at hand, offered a contract on a paper napkin.In February 2001, the family relocated to Barcelona, where they moved into an apartment near the club\\'s stadium, Camp Nou.During his first year in Spain, Messi rarely played with the Infantiles due to a transfer conflict with Newell\\'s; as a foreigner, he could only be fielded in friendlies and the Catalan league.Without football, he struggled to integrate into the team; already reserved by nature, he was so quiet that his teammates initially believed he was mute.At home, he suffered from homesickness after his mother moved back to Rosario with his brothers and little sister, María Sol, while he stayed in Barcelona with his father.After a year at Barcelona\\'s youth academy, La Masia, Messi was finally enrolled in the Royal Spanish Football Federation (RFEF) in February 2002.Now playing in all competitions, he befriended his teammates, among whom were Cesc Fàbregas and Gerard Piqué.After completing his growth hormone treatment aged 14, Messi became an integral part of the \"Baby Dream Team\", Barcelona\\'s greatest-ever youth side.During his first full season (2002–03), he was top scorer with 36 goals in 30 games for the Cadetes A, who won an unprecedented treble of the league and both the Spanish and Catalan cups.The Copa Catalunya final, a 4–1 victory over Espanyol, became known in club lore as the partido de la máscara, the final of the mask.A week after suffering a broken cheekbone during a league match, Messi was allowed to start the game on the condition that he wear a plastic protector; soon hindered by the mask, he took it off and scored two goals in 10 minutes before his substitution.At the close of the season, he received an offer to join Arsenal, his first from a foreign club, but while Fàbregas and Piqué soon left for England, he chose to remain in Barcelona.== Club career ==\\n\\n\\n=== Barcelona ===\\n\\n\\n==== 2003–2005: Rise to the first team ====\\n\\nDuring the 2003–04 season, his fourth with Barcelona, Messi rapidly progressed through the club\\'s ranks, debuting for four youth teams in a single campaign.After being named player of the tournament in four international pre-season competitions with the Juveniles B, he played only one official match with the team before being promoted to the Juveniles A, where he scored 18 goals in 11 league games.Messi was then one of several youth players called up to strengthen a depleted first team during the international break.French winger Ludovic Giuly explained how Messi caught the eye in a training session with Frank Rijkaard\\'s first team: \"He destroyed us all...They were kicking him all over the place to avoid being ridiculed by this kid, he just got up and kept on playing.He would dribble past four players and score a goal.Even the team\\'s starting centre-backs were nervous.He was an alien.\"At 16 years, four months, and 23 days old, Messi made his first team debut when he came on in the 75th minute during a friendly against José Mourinho\\'s Porto on 16 November 2003.His performance, creating two chances and a shot on goal, impressed the technical staff, and he subsequently began training daily with the club\\'s reserve side, Barcelona B, as well as weekly with the first team.After his first training session with the senior squad, Barça\\'s new star player, Ronaldinho, told his teammates that he believed the 16-year-old would become an even better player than himself.Ronaldinho soon befriended Messi, whom he called \"little brother\", which greatly eased his transition into the first team.To gain further match experience, Messi joined Barcelona C in addition to the Juveniles A, playing his first game for the third team on 29 November.'"
            ],
            "application/vnd.google.colaboratory.intrinsic+json": {
              "type": "string"
            }
          },
          "metadata": {},
          "execution_count": 11
        }
      ]
    },
    {
      "cell_type": "markdown",
      "source": [
        "##Data Summarization\n",
        "In this section we will design a prompt for the LLM to take in the input text corpus and create a summary. We do this to identify the key themes and highlights of the chosen topic so that we can subsequently generate the podcast script based on that.\n",
        "\n",
        "Keep in mind that a generic summary will probably be too short and not have enough context to explore in a podcast discussion."
      ],
      "metadata": {
        "id": "l1zpFFbTd_-5"
      }
    },
    {
      "cell_type": "code",
      "source": [
        "# Let's now install the openai package and also test whether it works with our API key.\n",
        "!pip install openai"
      ],
      "metadata": {
        "colab": {
          "base_uri": "https://localhost:8080/"
        },
        "id": "GByzt149b-kl",
        "outputId": "4ccd0ebf-9464-46cc-9d99-76eefc30093e"
      },
      "execution_count": 7,
      "outputs": [
        {
          "output_type": "stream",
          "name": "stdout",
          "text": [
            "Collecting openai\n",
            "  Downloading openai-0.27.9-py3-none-any.whl (75 kB)\n",
            "\u001b[?25l     \u001b[90m━━━━━━━━━━━━━━━━━━━━━━━━━━━━━━━━━━━━━━━━\u001b[0m \u001b[32m0.0/75.5 kB\u001b[0m \u001b[31m?\u001b[0m eta \u001b[36m-:--:--\u001b[0m\r\u001b[2K     \u001b[91m━━━━━━━━━━━━━━━━━━━━━━━━━━━━━━━━━━━━━\u001b[0m\u001b[91m╸\u001b[0m\u001b[90m━━\u001b[0m \u001b[32m71.7/75.5 kB\u001b[0m \u001b[31m2.1 MB/s\u001b[0m eta \u001b[36m0:00:01\u001b[0m\r\u001b[2K     \u001b[90m━━━━━━━━━━━━━━━━━━━━━━━━━━━━━━━━━━━━━━━━\u001b[0m \u001b[32m75.5/75.5 kB\u001b[0m \u001b[31m1.7 MB/s\u001b[0m eta \u001b[36m0:00:00\u001b[0m\n",
            "\u001b[?25hRequirement already satisfied: requests>=2.20 in /usr/local/lib/python3.10/dist-packages (from openai) (2.31.0)\n",
            "Requirement already satisfied: tqdm in /usr/local/lib/python3.10/dist-packages (from openai) (4.66.1)\n",
            "Requirement already satisfied: aiohttp in /usr/local/lib/python3.10/dist-packages (from openai) (3.8.5)\n",
            "Requirement already satisfied: charset-normalizer<4,>=2 in /usr/local/lib/python3.10/dist-packages (from requests>=2.20->openai) (3.2.0)\n",
            "Requirement already satisfied: idna<4,>=2.5 in /usr/local/lib/python3.10/dist-packages (from requests>=2.20->openai) (3.4)\n",
            "Requirement already satisfied: urllib3<3,>=1.21.1 in /usr/local/lib/python3.10/dist-packages (from requests>=2.20->openai) (2.0.4)\n",
            "Requirement already satisfied: certifi>=2017.4.17 in /usr/local/lib/python3.10/dist-packages (from requests>=2.20->openai) (2023.7.22)\n",
            "Requirement already satisfied: attrs>=17.3.0 in /usr/local/lib/python3.10/dist-packages (from aiohttp->openai) (23.1.0)\n",
            "Requirement already satisfied: multidict<7.0,>=4.5 in /usr/local/lib/python3.10/dist-packages (from aiohttp->openai) (6.0.4)\n",
            "Requirement already satisfied: async-timeout<5.0,>=4.0.0a3 in /usr/local/lib/python3.10/dist-packages (from aiohttp->openai) (4.0.3)\n",
            "Requirement already satisfied: yarl<2.0,>=1.0 in /usr/local/lib/python3.10/dist-packages (from aiohttp->openai) (1.9.2)\n",
            "Requirement already satisfied: frozenlist>=1.1.1 in /usr/local/lib/python3.10/dist-packages (from aiohttp->openai) (1.4.0)\n",
            "Requirement already satisfied: aiosignal>=1.1.2 in /usr/local/lib/python3.10/dist-packages (from aiohttp->openai) (1.3.1)\n",
            "Installing collected packages: openai\n",
            "Successfully installed openai-0.27.9\n"
          ]
        }
      ]
    },
    {
      "cell_type": "code",
      "source": [
        "import openai\n",
        "from getpass import getpass\n",
        "\n",
        "openai.api_key = getpass('Enter your OPENAI_API_KEY')"
      ],
      "metadata": {
        "colab": {
          "base_uri": "https://localhost:8080/"
        },
        "id": "tkARu_r7fY6B",
        "outputId": "b3bc63bb-f067-4594-e5a3-64df1579f315"
      },
      "execution_count": 10,
      "outputs": [
        {
          "name": "stdout",
          "output_type": "stream",
          "text": [
            "Enter your OPENAI_API_KEY··········\n"
          ]
        }
      ]
    },
    {
      "cell_type": "code",
      "source": [
        "# we can confirm that the API key works by listing all the OpenAI models\n",
        "# we will be using the gpt-3.5-turbo version for this project\n",
        "models = openai.Model.list()\n",
        "for model in models[\"data\"]:\n",
        "  print (model[\"root\"])"
      ],
      "metadata": {
        "colab": {
          "base_uri": "https://localhost:8080/"
        },
        "id": "DX0yQZmofpAn",
        "outputId": "881aecc1-83a3-42ba-db1e-a3f66e983716"
      },
      "execution_count": 12,
      "outputs": [
        {
          "output_type": "stream",
          "name": "stdout",
          "text": [
            "davinci\n",
            "text-davinci-001\n",
            "text-search-curie-query-001\n",
            "gpt-3.5-turbo\n",
            "babbage\n",
            "text-babbage-001\n",
            "curie-instruct-beta\n",
            "davinci-similarity\n",
            "code-davinci-edit-001\n",
            "text-similarity-curie-001\n",
            "ada-code-search-text\n",
            "gpt-3.5-turbo-0613\n",
            "text-search-ada-query-001\n",
            "gpt-3.5-turbo-16k-0613\n",
            "babbage-search-query\n",
            "ada-similarity\n",
            "text-curie-001\n",
            "gpt-3.5-turbo-16k\n",
            "text-search-ada-doc-001\n",
            "text-search-babbage-query-001\n",
            "code-search-ada-code-001\n",
            "curie-search-document\n",
            "davinci-002\n",
            "text-search-davinci-query-001\n",
            "text-search-curie-doc-001\n",
            "babbage-search-document\n",
            "babbage-002\n",
            "babbage-code-search-text\n",
            "text-embedding-ada-002\n",
            "davinci-instruct-beta\n",
            "davinci-search-query\n",
            "text-similarity-babbage-001\n",
            "text-davinci-002\n",
            "code-search-babbage-text-001\n",
            "text-davinci-003\n",
            "text-search-davinci-doc-001\n",
            "code-search-ada-text-001\n",
            "ada-search-query\n",
            "text-similarity-ada-001\n",
            "ada-code-search-code\n",
            "whisper-1\n",
            "text-davinci-edit-001\n",
            "davinci-search-document\n",
            "curie-search-query\n",
            "babbage-similarity\n",
            "ada\n",
            "ada-search-document\n",
            "text-ada-001\n",
            "text-similarity-davinci-001\n",
            "curie-similarity\n",
            "babbage-code-search-code\n",
            "code-search-babbage-code-001\n",
            "text-search-babbage-doc-001\n",
            "gpt-3.5-turbo-0301\n",
            "curie\n"
          ]
        }
      ]
    },
    {
      "cell_type": "markdown",
      "source": [
        "Let's proceed to instruct ChatGPT to craft a summary from our text corpus. We've reached the stage where we've segmented our source text into chunks, and now it's time to collaborate with ChatGPT for generating the podcast's summary.\n"
      ],
      "metadata": {
        "id": "f2vAyJoYiJbm"
      }
    },
    {
      "cell_type": "code",
      "source": [
        "topic = \"Sports\"\n",
        "\n",
        "instructPrompt = f\"\"\"\n",
        "You are a {topic} enthusiast who is doing a research for a podcast. Your task is to extract relevant information from the Result delimited by triple quotes.\n",
        "Please identify 2 interesting questions and answers which can be used for a podcast discussion.\n",
        "The identified discussions should be returned in the following format.\n",
        "- Highlight 1 from the text\n",
        "- Highlight 2 from the text\n",
        "\"\"\""
      ],
      "metadata": {
        "id": "pfCBg374hiJv"
      },
      "execution_count": 15,
      "outputs": []
    },
    {
      "cell_type": "code",
      "source": [
        "requestMessages = []\n",
        "for text in input_chunks:\n",
        "  requestMessage = instructPrompt + f\"Result: ```{text}```\"\n",
        "  requestMessages.append(requestMessage)"
      ],
      "metadata": {
        "id": "sg98sVhBlxHp"
      },
      "execution_count": 16,
      "outputs": []
    },
    {
      "cell_type": "code",
      "source": [
        "requestMessages[0]"
      ],
      "metadata": {
        "colab": {
          "base_uri": "https://localhost:8080/",
          "height": 143
        },
        "id": "JYZa0ZbgnSWp",
        "outputId": "1826988b-af2c-4040-a3d5-65ac90570f46"
      },
      "execution_count": 17,
      "outputs": [
        {
          "output_type": "execute_result",
          "data": {
            "text/plain": [
              "'\\nYou are a Sports enthusiast who is doing a research for a podcast. Your task is to extract relevant information from the Result delimited by triple quotes. \\nPlease identify 2 interesting questions and answers which can be used for a podcast discussion.\\nThe identified discussions should be returned in thr following format.\\n- Highlight 1 from the text\\n- Highlight 2 from the text\\nResult: ```Lionel Andrés Messi (Spanish pronunciation: [ljoˈnel anˈdɾes ˈmesi] (listen); born 24 June 1987), also known as Leo Messi, is an Argentine professional footballer who plays as a forward for and captains both Major League Soccer club Inter Miami and the Argentina national team.Widely regarded as one of the greatest players of all time, Messi has won a record seven Ballon d\\'Or awards and a record six European Golden Shoes, and in 2020 he was named to the Ballon d\\'Or Dream Team.Until leaving the club in 2021, he had spent his entire professional career with Barcelona, where he won a club-record 34 trophies, including ten La Liga titles, seven Copa del Rey titles and the UEFA Champions League four times.With his country, he won the 2021 Copa América and the 2022 FIFA World Cup.A prolific goalscorer and creative playmaker, Messi holds the records for most goals in La Liga (474), most hat-tricks in La Liga (36) and the UEFA Champions League (eight), and most assists in La Liga (192) and the Copa América (17).He also has the most international goals by a South American male (103).Messi has scored over 800 senior career goals for club and country, and has the most goals by a player for a single club (672).Messi relocated to Spain from Argentina aged 13 to join Barcelona, for whom he made his competitive debut aged 17 in October 2004.He established himself as an integral player for the club within the next three years, and in his first uninterrupted season in 2008–09 he helped Barcelona achieve the first treble in Spanish football; that year, aged 22, Messi won his first Ballon d\\'Or.Three successful seasons followed, with Messi winning four consecutive Ballons d\\'Or, making him the first player to win the award four times.During the 2011–12 season, he set the La Liga and European records for most goals scored in a single season, while establishing himself as Barcelona\\'s all-time top scorer.The following two seasons, Messi finished second for the Ballon d\\'Or behind Cristiano Ronaldo (his perceived career rival), before regaining his best form during the 2014–15 campaign, becoming the all-time top scorer in La Liga and leading Barcelona to a historic second treble, after which he was awarded a fifth Ballon d\\'Or in 2015.Messi assumed captaincy of Barcelona in 2018, and won a record sixth Ballon d\\'Or in 2019.Out of contract, he signed for French club Paris Saint-Germain in August 2021, spending two seasons at the club and winning Ligue 1 twice.Messi joined American club Inter Miami in July 2023, winning the 2023 Leagues Cup in August of that year.An Argentine international, Messi is the country\\'s all-time leading goalscorer and also holds the national record for appearances.At youth level, he won the 2005 FIFA World Youth Championship, finishing the tournament with both the Golden Ball and Golden Shoe, and an Olympic gold medal at the 2008 Summer Olympics.His style of play as a diminutive, left-footed dribbler drew comparisons with his compatriot Diego Maradona, who described Messi as his successor.After his senior debut in August 2005, Messi became the youngest Argentine to play and score in a FIFA World Cup (2006), and reached the final of the 2007 Copa América, where he was named young player of the tournament.As the squad\\'s captain from August 2011, he led Argentina to three consecutive finals: the 2014 FIFA World Cup, for which he won the Golden Ball, the 2015 Copa América, winning the Golden Ball, and the 2016 Copa América.After announcing his international retirement in 2016, he reversed his decision and led his country to qualification for the 2018 FIFA World Cup, a third-place finish at the 2019 Copa América, and victory in the 2021 Copa América, while winning the Golden Ball and Golden Boot for the latter.For this achievement, Messi received a record-extending seventh Ballon d\\'Or in 2021.In 2022, he led Argentina to win the 2022 FIFA World Cup, where he won a record second Golden Ball, scored seven goals including two in the final, and broke the record for most games played at the World Cup (26).Messi has endorsed sportswear company Adidas since 2006.According to France Football, he was the world\\'s highest-paid footballer for five years out of six between 2009 and 2014, and was ranked the world\\'s highest-paid athlete by Forbes in 2019 and 2022.Messi was among Time\\'s 100 most influential people in the world in 2011, 2012 and 2023.In 2020 and 2023, he was named the Laureus World Sportsman of the Year, with Messi being the first team-sport athlete to win the award.In 2020, Messi became the second footballer and second team-sport athlete to surpass $1 billion in career earnings.== Early life ==\\nMessi was born on 24 June 1987 in Rosario, Santa Fe, the third of four children of Jorge Messi, a steel factory manager, and his wife Celia Cuccittini, who worked in a magnet manufacturing workshop.On his father\\'s side, he is of Italian and Spanish descent, the great-grandson of immigrants from the north-central Adriatic Marche region of Italy, and on his mother\\'s side, he has primarily Italian ancestry.Growing up in a tight-knit, football-loving family, \"Leo\" developed a passion for the sport from an early age, playing constantly with his older brothers, Rodrigo and Matías, and his cousins, Maximiliano and Emanuel Biancucchi, both of whom became professional footballers.At the age of four he joined local club Grandoli, where he was coached by his father, though his earliest influence as a player came from his maternal grandmother, Celia, who accompanied him to training and matches.He was greatly affected by her death, shortly before his eleventh birthday; since then, as a devout Roman Catholic, he has celebrated his goals by looking up and pointing to the sky in tribute to his grandmother.A lifelong supporter of Newell\\'s Old Boys, Messi joined the Rosario club when he was six years old.During the six years he played for Newell\\'s, he scored almost 500 goals as a member of \"The Machine of \\'87\", the near-unbeatable youth side named for the year of their birth, and regularly entertained crowds by performing ball tricks during half-time of the first team\\'s home games.However, his future as a professional player was threatened when, aged 10, he was diagnosed with a growth hormone deficiency.As his father\\'s health insurance covered only two years of growth hormone treatment, which cost at least $1,000 per month, Newell\\'s agreed to contribute, but later reneged on their promise.He was scouted by Buenos Aires club River Plate, whose playmaker, Pablo Aimar, he idolised, but they declined to pay for his treatment.His goalscoring idol growing up was Ronaldo, with Messi calling him \"the best forward I\\'ve ever seen\".As the Messi family had relatives in Catalonia, they sought to arrange a trial with Barcelona in September 2000.First team director Charly Rexach immediately wanted to sign him, but the board of directors hesitated; at the time it was highly unusual for European clubs to sign foreign players of such a young age.On 14 December, an ultimatum was issued for Barcelona to prove their commitment, and Rexach, with no other paper at hand, offered a contract on a paper napkin.In February 2001, the family relocated to Barcelona, where they moved into an apartment near the club\\'s stadium, Camp Nou.During his first year in Spain, Messi rarely played with the Infantiles due to a transfer conflict with Newell\\'s; as a foreigner, he could only be fielded in friendlies and the Catalan league.Without football, he struggled to integrate into the team; already reserved by nature, he was so quiet that his teammates initially believed he was mute.At home, he suffered from homesickness after his mother moved back to Rosario with his brothers and little sister, María Sol, while he stayed in Barcelona with his father.After a year at Barcelona\\'s youth academy, La Masia, Messi was finally enrolled in the Royal Spanish Football Federation (RFEF) in February 2002.Now playing in all competitions, he befriended his teammates, among whom were Cesc Fàbregas and Gerard Piqué.After completing his growth hormone treatment aged 14, Messi became an integral part of the \"Baby Dream Team\", Barcelona\\'s greatest-ever youth side.During his first full season (2002–03), he was top scorer with 36 goals in 30 games for the Cadetes A, who won an unprecedented treble of the league and both the Spanish and Catalan cups.The Copa Catalunya final, a 4–1 victory over Espanyol, became known in club lore as the partido de la máscara, the final of the mask.A week after suffering a broken cheekbone during a league match, Messi was allowed to start the game on the condition that he wear a plastic protector; soon hindered by the mask, he took it off and scored two goals in 10 minutes before his substitution.At the close of the season, he received an offer to join Arsenal, his first from a foreign club, but while Fàbregas and Piqué soon left for England, he chose to remain in Barcelona.== Club career ==\\n\\n\\n=== Barcelona ===\\n\\n\\n==== 2003–2005: Rise to the first team ====\\n\\nDuring the 2003–04 season, his fourth with Barcelona, Messi rapidly progressed through the club\\'s ranks, debuting for four youth teams in a single campaign.After being named player of the tournament in four international pre-season competitions with the Juveniles B, he played only one official match with the team before being promoted to the Juveniles A, where he scored 18 goals in 11 league games.Messi was then one of several youth players called up to strengthen a depleted first team during the international break.French winger Ludovic Giuly explained how Messi caught the eye in a training session with Frank Rijkaard\\'s first team: \"He destroyed us all...They were kicking him all over the place to avoid being ridiculed by this kid, he just got up and kept on playing.He would dribble past four players and score a goal.Even the team\\'s starting centre-backs were nervous.He was an alien.\"At 16 years, four months, and 23 days old, Messi made his first team debut when he came on in the 75th minute during a friendly against José Mourinho\\'s Porto on 16 November 2003.His performance, creating two chances and a shot on goal, impressed the technical staff, and he subsequently began training daily with the club\\'s reserve side, Barcelona B, as well as weekly with the first team.After his first training session with the senior squad, Barça\\'s new star player, Ronaldinho, told his teammates that he believed the 16-year-old would become an even better player than himself.Ronaldinho soon befriended Messi, whom he called \"little brother\", which greatly eased his transition into the first team.To gain further match experience, Messi joined Barcelona C in addition to the Juveniles A, playing his first game for the third team on 29 November.```'"
            ],
            "application/vnd.google.colaboratory.intrinsic+json": {
              "type": "string"
            }
          },
          "metadata": {},
          "execution_count": 17
        }
      ]
    },
    {
      "cell_type": "code",
      "source": [
        "chatOutputs = []\n",
        "for request in requestMessages:\n",
        "  chatOutput = openai.ChatCompletion.create(model=\"gpt-3.5-turbo\",\n",
        "                                            messages=[{\"role\": \"system\", \"content\": \"You are a helpful assistant.\"},\n",
        "                                                      {\"role\": \"user\", \"content\": request}\n",
        "                                                      ]\n",
        "                                            )\n",
        "  chatOutputs.append(chatOutput)"
      ],
      "metadata": {
        "id": "1YHP6mvCnyOr"
      },
      "execution_count": 18,
      "outputs": []
    },
    {
      "cell_type": "code",
      "source": [
        "chatOutputs[0]"
      ],
      "metadata": {
        "colab": {
          "base_uri": "https://localhost:8080/"
        },
        "id": "45IIF0NIoeTT",
        "outputId": "038d6ece-a534-4162-8b37-c8f35baa9976"
      },
      "execution_count": 19,
      "outputs": [
        {
          "output_type": "execute_result",
          "data": {
            "text/plain": [
              "<OpenAIObject chat.completion id=chatcmpl-7qieq0qjm8dW05n5lAlkeY7FFk0HB at 0x7beb7fcae3e0> JSON: {\n",
              "  \"id\": \"chatcmpl-7qieq0qjm8dW05n5lAlkeY7FFk0HB\",\n",
              "  \"object\": \"chat.completion\",\n",
              "  \"created\": 1692799076,\n",
              "  \"model\": \"gpt-3.5-turbo-0613\",\n",
              "  \"choices\": [\n",
              "    {\n",
              "      \"index\": 0,\n",
              "      \"message\": {\n",
              "        \"role\": \"assistant\",\n",
              "        \"content\": \"- Highlight 1: Messi's record-breaking achievements include winning a record seven Ballon d'Or awards and a record six European Golden Shoes, as well as holding the records for most goals in La Liga and the UEFA Champions League.\\n- Highlight 2: Messi's journey to Barcelona involved a trial at a young age, during which the club's director, Charly Rexach, famously offered him a contract on a paper napkin. Messi then moved to Barcelona with his family and joined the club's youth academy, La Masia, where he thrived and became an integral part of Barcelona's greatest-ever youth side.\"\n",
              "      },\n",
              "      \"finish_reason\": \"stop\"\n",
              "    }\n",
              "  ],\n",
              "  \"usage\": {\n",
              "    \"prompt_tokens\": 2524,\n",
              "    \"completion_tokens\": 125,\n",
              "    \"total_tokens\": 2649\n",
              "  }\n",
              "}"
            ]
          },
          "metadata": {},
          "execution_count": 19
        }
      ]
    },
    {
      "cell_type": "code",
      "source": [
        "podcastFacts = \"\"\n",
        "for chats in chatOutputs:\n",
        "  podcastFacts = podcastFacts + chats.choices[0].message.content"
      ],
      "metadata": {
        "id": "lDRESEkRoiYG"
      },
      "execution_count": 20,
      "outputs": []
    },
    {
      "cell_type": "code",
      "source": [
        "# Check the summary created by ChatGPT\n",
        "podcastFacts"
      ],
      "metadata": {
        "colab": {
          "base_uri": "https://localhost:8080/",
          "height": 143
        },
        "id": "UHwDKJkvpSY6",
        "outputId": "d0658182-cf47-4f9b-ce18-d5de7585c50b"
      },
      "execution_count": 21,
      "outputs": [
        {
          "output_type": "execute_result",
          "data": {
            "text/plain": [
              "'- Highlight 1: Messi\\'s record-breaking achievements include winning a record seven Ballon d\\'Or awards and a record six European Golden Shoes, as well as holding the records for most goals in La Liga and the UEFA Champions League.\\n- Highlight 2: Messi\\'s journey to Barcelona involved a trial at a young age, during which the club\\'s director, Charly Rexach, famously offered him a contract on a paper napkin. Messi then moved to Barcelona with his family and joined the club\\'s youth academy, La Masia, where he thrived and became an integral part of Barcelona\\'s greatest-ever youth side.- Highlight 1: On his 18th birthday, Messi signed his first contract as a senior team player and his breakthrough came two months later, during the Joan Gamper Trophy, where he gave a well-received performance against Juventus.\\n\\n- Highlight 2: In the 2008-09 season, Messi played mainly on the right-wing but also as a false nine, dropping deep into midfield to link up with Xavi and Iniesta. During a Clásico match, he played as a false nine for the first time, contributing with a goal and two assists in an emphatic 6-2 victory.- Highlight 1: In the 2010-2011 season, Messi played a crucial role in Barcelona\\'s success, helping them win the Supercopa de España and achieving a record-breaking 16 consecutive league victories. He was also instrumental in Barcelona\\'s 5-0 victory over Real Madrid in the Clásico, scoring a hat-trick.\\n\\n- Highlight 2: In 2012, Messi broke several longstanding records, including scoring five goals in a Champions League match against Bayer Leverkusen, becoming the top goalscorer in Barcelona\\'s history, and surpassing Gerd Müller\\'s record of most goals scored in a calendar year. He finished the year with a record-breaking 91 goals in all competitions for Barcelona and Argentina.- Highlight 1: Messi became Barcelona\\'s top goalscorer in all competitions, including friendlies, and the all-time top scorer in El Clásico.\\n- Highlight 2: Messi broke the record for the most hat-tricks in Spanish football and achieved the top scoring mark in five Champions League seasons.\\n\\nThese highlights can be used to discuss Messi\\'s incredible goal-scoring abilities and his impact on Barcelona\\'s success during these seasons.- Highlight 1: On 14 March, Messi scored his 99th and 100th Champions League goals in a 3–0 home win over Chelsea, becoming only the second player after Cristiano Ronaldo to reach this landmark, in fewer appearances, at a younger age and having taken fewer shots than his Portuguese counterpart. His opening goal, which came after only two minutes and eight seconds, was also the fastest of his career, as Barcelona advanced to the quarter-finals of the competition for the eleventh consecutive season.\\n\\n- Highlight 2: On 1 May, Messi scored twice in a 3–0 home win over Liverpool in the first leg of the Champions League semi-finals; his second goal of the match, a 35-yard free kick, was the 600th senior club goal of his career, all of which had been scored with Barcelona. In the return leg, six days later at Anfield, Barcelona suffered a 4–0 away defeat, which saw Liverpool advance to the final 4–3 on aggregate.- Highlight 1 from the text:\\n\"On 15 August, Messi suffered his worst defeat as a player as Bayern Munich beat Barcelona 8–2 in a one-off tie in Lisbon, leading to another disappointing exit from the Champions League.\"\\n\\n- Highlight 2 from the text:\\n\"On 10 August, Messi joined French club Paris Saint-Germain (PSG).He signed a two-year deal until June 2023 with an option for an extra year.\"- Highlight 1: Messi\\'s record-breaking season with PSG\\n- Highlight 2: Messi\\'s debut and success in the Argentina national team\\n\\nDiscussion 1:\\nHost: Welcome to our podcast, today we\\'re going to talk about Lionel Messi\\'s incredible season with PSG. Messi had some truly remarkable moments, didn\\'t he?\\nCo-host: Absolutely! Messi had a fantastic season with PSG, quickly regaining his form and settling into his preferred attacking role. He started off the new season by scoring PSG\\'s first goal in a 4-0 victory over Nantes, winning his second trophy with the club.\\nHost: That\\'s impressive! I also heard that Messi became the only player in Champions League history to score against 40 different opponents. And he even set a record for the most goals scored from outside the 18-yard box in the competition!\\nCo-host: Yes, that\\'s right! Messi\\'s scoring prowess was unmatched. He scored a total of 702 goals, overtaking Cristiano Ronaldo as the all-time highest goalscorer in European club football. He also achieved 1,000 career direct goal contributions at club level. It\\'s truly remarkable.\\nHost: What an incredible season for Messi! It\\'s no wonder he was named Ligue 1\\'s Player of the Month in September and broke so many records. He really made his mark with PSG.\\n\\nDiscussion 2:\\nHost: Let\\'s shift gears now and talk about Messi\\'s international career. He has had quite the journey playing for the Argentina national team, hasn\\'t he?\\nCo-host: Absolutely! Messi\\'s international career started at a young age. He made his debut for Argentina when he was just 17 years old, scoring once and providing two assists in an 8-0 victory over Paraguay. It was clear right from the start that he had immense talent.\\nHost: That\\'s incredible! And he continued to make waves in international competitions. I remember Messi\\'s performance in the 2005 World Youth Championship, where he won the Golden Ball as the best player of the tournament and scored the winning goal in the final against Nigeria.\\nCo-host: Yes, that was a turning point for Messi. He proved himself on the international stage and drew comparisons to Diego Maradona, who had also led Argentina to victory in the past. Messi\\'s journey with the national team continued, with him earning regular call-ups and scoring goals in World Cup qualifiers.\\nHost: And let\\'s not forget about the 2006 FIFA World Cup, where Messi became the youngest player to represent Argentina in a World Cup and scored the final goal in their 6-0 victory over Serbia and Montenegro. He was a rising star.\\nCo-host: Definitely! And Messi\\'s international career didn\\'t stop there. He went on to play in the Copa América and won Olympic gold with Argentina. It\\'s been an incredible journey for him representing his country.\\n\\nHost: Absolutely, Messi\\'s journey with Argentina is filled with memorable moments. From his early debut to his success in international competitions, he has truly made his mark on the national team. It\\'s always exciting to see him play for Argentina.\\n\\nCo-host: Definitely, and it will be interesting to see what the future holds for Messi, both with PSG and the Argentina national team. He\\'s a true legend in the world of football.- Highlight 1: During the 2014 World Cup, Messi gave strong performances and led Argentina to the final, where they faced Germany. Despite creating chances and coming close to scoring, Messi was unable to lead his team to victory as Germany won 1-0. Messi was awarded the Golden Ball as the tournament\\'s best player, but his lack of goals in the knockout round drew criticism.\\n\\n- Highlight 2: In the 2015 Copa América, under the leadership of Gerardo Martino, Argentina reached the final for the third time in Messi\\'s senior international career. They entered the tournament as title contenders but ended up drawing 2-2 with Paraguay in the opening match. Despite Argentina\\'s progress to the knockout stage, they were unable to win the tournament, with Messi scoring only one goal from a penalty kick. Messi\\'s leadership and evolution as a player were evident as he reached his 100th cap for Argentina, becoming only the fifth Argentine to achieve this milestone.1. Highlight 1: Messi\\'s retirement and return to international football\\n- In 2016, Messi announced his retirement from international football after Argentina\\'s loss to Chile in the Copa América final.\\n- However, he reversed his decision and returned to the national team for the 2018 World Cup qualifiers.\\n- The fans and even the President of Argentina urged him not to retire, highlighting his importance to the team.\\n\\n2. Highlight 2: Messi\\'s performance in the 2018 World Cup\\n- Argentina had a poor qualification campaign and went into the World Cup with low expectations.\\n- Messi missed a crucial penalty in the team\\'s opening group match against Iceland.\\n- The team suffered a big upset with a 3-0 loss to Croatia, leading to their elimination from the tournament in the round of 16.- Highlight 1: \"On 10 July, Argentina defeated hosts and defending champions Brazil 1–0 in the final, giving Messi his first major international title and Argentina\\'s first since 1993, as well as his nation\\'s joint record 15th Copa América overall. Messi was directly involved in nine out of the 12 goals scored by Argentina...\"\\n- Highlight 2: \"Messi\\'s pace and technical ability enable him to undertake individual dribbling runs towards goal, in particular during counterattacks, usually starting from the halfway line or the right side of the pitch. Widely considered to be the best dribbler in the world, and one of the greatest dribblers of all time...\"Highlighted discussions for a podcast:\\n\\n1. The perception of Lionel Messi in Argentina:\\n- Before 2019, Messi was generally held in lesser esteem than Maradona in Argentina.\\n- Differences in class, personality, and background contributed to this perception.\\n- However, following the World Cup victory in 2022, Messi is now held in the same esteem as Maradona by his compatriots.\\n\\n2. Comparisons between Lionel Messi and Cristiano Ronaldo:\\n- Messi and Ronaldo are often compared and contrasted, with a rivalry likened to past sports rivalries in other disciplines.\\n- Both players have a long list of individual accolades, including Ballons d\\'Or and FIFA World\\'s Best Player awards.\\n- Messi\\'s victory in the 2022 World Cup has led some critics and players to declare him as the superior player, settling the debate between the two.\\n\\nPlease note that these discussions are based on the provided text, and further research and analysis can enhance the depth of the podcast episode.- Highlight 1 from the text: Messi\\'s involvement in philanthropy and charitable efforts, including his work with UNICEF and the establishment of the Leo Messi Foundation.\\n- Highlight 2 from the text: Messi\\'s financial controversy and investigation for suspected tax evasion, including his voluntary payment of arrears and the subsequent guilty verdict for tax fraud.\\n\\nPossible podcast discussion questions:\\n1. How has Lionel Messi used his platform and success in football to make a positive impact through philanthropy?\\n2. What are the implications of the financial controversy and tax fraud case involving Messi, and how do such incidents affect the image and reputation of top athletes?\\n\\nThese questions can lead to in-depth discussions on the role of athletes in giving back to society, the challenges they face in managing their finances, and the impact of legal issues on their careers and public perception.Highlight 1: \\n- Lionel Messi has won numerous individual awards throughout his career, including the Ballon d\\'Or/FIFA Ballon d\\'Or seven times - in 2009, 2010, 2011, 2012, 2015, 2019, and 2021. \\n\\nHighlight 2: \\n- Messi has had a remarkable club career, winning a total of 10 La Liga titles with Barcelona and 2 Ligue 1 titles with Paris Saint-Germain.'"
            ],
            "application/vnd.google.colaboratory.intrinsic+json": {
              "type": "string"
            }
          },
          "metadata": {},
          "execution_count": 21
        }
      ]
    },
    {
      "cell_type": "markdown",
      "source": [
        "The output above should present a list of significant facts, themes, or highlights from our chosen topic. These are the aspects we'd like to address in the podcast conversation."
      ],
      "metadata": {
        "id": "WLnEfoWCqMGI"
      }
    },
    {
      "cell_type": "markdown",
      "source": [
        "## Generate the Podcast Script"
      ],
      "metadata": {
        "id": "e6AveEyetUXq"
      }
    },
    {
      "cell_type": "code",
      "source": [
        "podcast_name = \"Sport 101\"\n",
        "podcastPrompt = f\"\"\"\n",
        "You are a writer creating the script for the another episode of a podcast {podcast_name} hosted by \\\"Tom\\\" and \\\"Jerry\\\".\n",
        "Use \\\"Tom\\\" as the person asking questions and \\\"Jerry\\\" as the person providing interesting insights to those questions.\n",
        "Always specify speaker name as  \\\"Tom\\\" or \\\"Jerry\\\" to identify who is speaking.\n",
        "Make the convesation casual and interesting.\n",
        "Extract relevant information for the podcast conversation from the Result delimited by triple quotes.\n",
        "Use the below format for the podcast conversation.\n",
        "1. Introduction about the topic and welcome everyone for another episode of the podcast {podcast_name}.\n",
        "2. Tom is the main host.\n",
        "2. Introduce both the speakers in brief.\n",
        "3. Then start the conversation.\n",
        "4. Start the conversation with some casual discussion like what they are doing right now at this moment.\n",
        "5. End the conversation with thank you speech to everyone.\n",
        "6. Do not use the word \\\"conversation\\\" response.\n",
        "7. Do not use the word \\\"Introduction\\\" response.\n",
        "\n",
        "\"\"\""
      ],
      "metadata": {
        "id": "ykIkMDaWpz93"
      },
      "execution_count": 32,
      "outputs": []
    },
    {
      "cell_type": "code",
      "source": [
        "requestMessage = podcastPrompt + f\"Result: ```{podcastFacts}```\"\n",
        "requestMessage"
      ],
      "metadata": {
        "colab": {
          "base_uri": "https://localhost:8080/",
          "height": 143
        },
        "id": "vUywjr0j_JIF",
        "outputId": "d75d0dee-62c4-4469-c973-f910ebab7702"
      },
      "execution_count": 33,
      "outputs": [
        {
          "output_type": "execute_result",
          "data": {
            "text/plain": [
              "'\\nYou are a writer creating the script for the another episode of a podcast Sport 101 hosted by \"Tom\" and \"Jerry\".\\nUse \"Tom\" as the person asking questions and \"Jerry\" as the person providing interesting insights to those questions.\\nAlways specify speaker name as  \"Tom\" or \"Jerry\" to identify who is speaking.\\nMake the convesation casual and interesting.\\nExtract relevant information for the podcast conversation from the Result delimited by triple quotes.\\nUse the below format for the podcast conversation.\\n1. Introduction about the topic and welcome everyone for another episode of the podcast Sport 101.\\n2. Tom is the main host.\\n2. Introduce both the speakers in brief.\\n3. Then start the conversation.\\n4. Start the conversation with some casual discussion like what they are doing right now at this moment.\\n5. End the conversation with thank you speech to everyone.\\n6. Do not use the word \"conversation\" response.\\n7. Do not use the word \"Introduction\" response.\\n\\nResult: ```- Highlight 1: Messi\\'s record-breaking achievements include winning a record seven Ballon d\\'Or awards and a record six European Golden Shoes, as well as holding the records for most goals in La Liga and the UEFA Champions League.\\n- Highlight 2: Messi\\'s journey to Barcelona involved a trial at a young age, during which the club\\'s director, Charly Rexach, famously offered him a contract on a paper napkin. Messi then moved to Barcelona with his family and joined the club\\'s youth academy, La Masia, where he thrived and became an integral part of Barcelona\\'s greatest-ever youth side.- Highlight 1: On his 18th birthday, Messi signed his first contract as a senior team player and his breakthrough came two months later, during the Joan Gamper Trophy, where he gave a well-received performance against Juventus.\\n\\n- Highlight 2: In the 2008-09 season, Messi played mainly on the right-wing but also as a false nine, dropping deep into midfield to link up with Xavi and Iniesta. During a Clásico match, he played as a false nine for the first time, contributing with a goal and two assists in an emphatic 6-2 victory.- Highlight 1: In the 2010-2011 season, Messi played a crucial role in Barcelona\\'s success, helping them win the Supercopa de España and achieving a record-breaking 16 consecutive league victories. He was also instrumental in Barcelona\\'s 5-0 victory over Real Madrid in the Clásico, scoring a hat-trick.\\n\\n- Highlight 2: In 2012, Messi broke several longstanding records, including scoring five goals in a Champions League match against Bayer Leverkusen, becoming the top goalscorer in Barcelona\\'s history, and surpassing Gerd Müller\\'s record of most goals scored in a calendar year. He finished the year with a record-breaking 91 goals in all competitions for Barcelona and Argentina.- Highlight 1: Messi became Barcelona\\'s top goalscorer in all competitions, including friendlies, and the all-time top scorer in El Clásico.\\n- Highlight 2: Messi broke the record for the most hat-tricks in Spanish football and achieved the top scoring mark in five Champions League seasons.\\n\\nThese highlights can be used to discuss Messi\\'s incredible goal-scoring abilities and his impact on Barcelona\\'s success during these seasons.- Highlight 1: On 14 March, Messi scored his 99th and 100th Champions League goals in a 3–0 home win over Chelsea, becoming only the second player after Cristiano Ronaldo to reach this landmark, in fewer appearances, at a younger age and having taken fewer shots than his Portuguese counterpart. His opening goal, which came after only two minutes and eight seconds, was also the fastest of his career, as Barcelona advanced to the quarter-finals of the competition for the eleventh consecutive season.\\n\\n- Highlight 2: On 1 May, Messi scored twice in a 3–0 home win over Liverpool in the first leg of the Champions League semi-finals; his second goal of the match, a 35-yard free kick, was the 600th senior club goal of his career, all of which had been scored with Barcelona. In the return leg, six days later at Anfield, Barcelona suffered a 4–0 away defeat, which saw Liverpool advance to the final 4–3 on aggregate.- Highlight 1 from the text:\\n\"On 15 August, Messi suffered his worst defeat as a player as Bayern Munich beat Barcelona 8–2 in a one-off tie in Lisbon, leading to another disappointing exit from the Champions League.\"\\n\\n- Highlight 2 from the text:\\n\"On 10 August, Messi joined French club Paris Saint-Germain (PSG).He signed a two-year deal until June 2023 with an option for an extra year.\"- Highlight 1: Messi\\'s record-breaking season with PSG\\n- Highlight 2: Messi\\'s debut and success in the Argentina national team\\n\\nDiscussion 1:\\nHost: Welcome to our podcast, today we\\'re going to talk about Lionel Messi\\'s incredible season with PSG. Messi had some truly remarkable moments, didn\\'t he?\\nCo-host: Absolutely! Messi had a fantastic season with PSG, quickly regaining his form and settling into his preferred attacking role. He started off the new season by scoring PSG\\'s first goal in a 4-0 victory over Nantes, winning his second trophy with the club.\\nHost: That\\'s impressive! I also heard that Messi became the only player in Champions League history to score against 40 different opponents. And he even set a record for the most goals scored from outside the 18-yard box in the competition!\\nCo-host: Yes, that\\'s right! Messi\\'s scoring prowess was unmatched. He scored a total of 702 goals, overtaking Cristiano Ronaldo as the all-time highest goalscorer in European club football. He also achieved 1,000 career direct goal contributions at club level. It\\'s truly remarkable.\\nHost: What an incredible season for Messi! It\\'s no wonder he was named Ligue 1\\'s Player of the Month in September and broke so many records. He really made his mark with PSG.\\n\\nDiscussion 2:\\nHost: Let\\'s shift gears now and talk about Messi\\'s international career. He has had quite the journey playing for the Argentina national team, hasn\\'t he?\\nCo-host: Absolutely! Messi\\'s international career started at a young age. He made his debut for Argentina when he was just 17 years old, scoring once and providing two assists in an 8-0 victory over Paraguay. It was clear right from the start that he had immense talent.\\nHost: That\\'s incredible! And he continued to make waves in international competitions. I remember Messi\\'s performance in the 2005 World Youth Championship, where he won the Golden Ball as the best player of the tournament and scored the winning goal in the final against Nigeria.\\nCo-host: Yes, that was a turning point for Messi. He proved himself on the international stage and drew comparisons to Diego Maradona, who had also led Argentina to victory in the past. Messi\\'s journey with the national team continued, with him earning regular call-ups and scoring goals in World Cup qualifiers.\\nHost: And let\\'s not forget about the 2006 FIFA World Cup, where Messi became the youngest player to represent Argentina in a World Cup and scored the final goal in their 6-0 victory over Serbia and Montenegro. He was a rising star.\\nCo-host: Definitely! And Messi\\'s international career didn\\'t stop there. He went on to play in the Copa América and won Olympic gold with Argentina. It\\'s been an incredible journey for him representing his country.\\n\\nHost: Absolutely, Messi\\'s journey with Argentina is filled with memorable moments. From his early debut to his success in international competitions, he has truly made his mark on the national team. It\\'s always exciting to see him play for Argentina.\\n\\nCo-host: Definitely, and it will be interesting to see what the future holds for Messi, both with PSG and the Argentina national team. He\\'s a true legend in the world of football.- Highlight 1: During the 2014 World Cup, Messi gave strong performances and led Argentina to the final, where they faced Germany. Despite creating chances and coming close to scoring, Messi was unable to lead his team to victory as Germany won 1-0. Messi was awarded the Golden Ball as the tournament\\'s best player, but his lack of goals in the knockout round drew criticism.\\n\\n- Highlight 2: In the 2015 Copa América, under the leadership of Gerardo Martino, Argentina reached the final for the third time in Messi\\'s senior international career. They entered the tournament as title contenders but ended up drawing 2-2 with Paraguay in the opening match. Despite Argentina\\'s progress to the knockout stage, they were unable to win the tournament, with Messi scoring only one goal from a penalty kick. Messi\\'s leadership and evolution as a player were evident as he reached his 100th cap for Argentina, becoming only the fifth Argentine to achieve this milestone.1. Highlight 1: Messi\\'s retirement and return to international football\\n- In 2016, Messi announced his retirement from international football after Argentina\\'s loss to Chile in the Copa América final.\\n- However, he reversed his decision and returned to the national team for the 2018 World Cup qualifiers.\\n- The fans and even the President of Argentina urged him not to retire, highlighting his importance to the team.\\n\\n2. Highlight 2: Messi\\'s performance in the 2018 World Cup\\n- Argentina had a poor qualification campaign and went into the World Cup with low expectations.\\n- Messi missed a crucial penalty in the team\\'s opening group match against Iceland.\\n- The team suffered a big upset with a 3-0 loss to Croatia, leading to their elimination from the tournament in the round of 16.- Highlight 1: \"On 10 July, Argentina defeated hosts and defending champions Brazil 1–0 in the final, giving Messi his first major international title and Argentina\\'s first since 1993, as well as his nation\\'s joint record 15th Copa América overall. Messi was directly involved in nine out of the 12 goals scored by Argentina...\"\\n- Highlight 2: \"Messi\\'s pace and technical ability enable him to undertake individual dribbling runs towards goal, in particular during counterattacks, usually starting from the halfway line or the right side of the pitch. Widely considered to be the best dribbler in the world, and one of the greatest dribblers of all time...\"Highlighted discussions for a podcast:\\n\\n1. The perception of Lionel Messi in Argentina:\\n- Before 2019, Messi was generally held in lesser esteem than Maradona in Argentina.\\n- Differences in class, personality, and background contributed to this perception.\\n- However, following the World Cup victory in 2022, Messi is now held in the same esteem as Maradona by his compatriots.\\n\\n2. Comparisons between Lionel Messi and Cristiano Ronaldo:\\n- Messi and Ronaldo are often compared and contrasted, with a rivalry likened to past sports rivalries in other disciplines.\\n- Both players have a long list of individual accolades, including Ballons d\\'Or and FIFA World\\'s Best Player awards.\\n- Messi\\'s victory in the 2022 World Cup has led some critics and players to declare him as the superior player, settling the debate between the two.\\n\\nPlease note that these discussions are based on the provided text, and further research and analysis can enhance the depth of the podcast episode.- Highlight 1 from the text: Messi\\'s involvement in philanthropy and charitable efforts, including his work with UNICEF and the establishment of the Leo Messi Foundation.\\n- Highlight 2 from the text: Messi\\'s financial controversy and investigation for suspected tax evasion, including his voluntary payment of arrears and the subsequent guilty verdict for tax fraud.\\n\\nPossible podcast discussion questions:\\n1. How has Lionel Messi used his platform and success in football to make a positive impact through philanthropy?\\n2. What are the implications of the financial controversy and tax fraud case involving Messi, and how do such incidents affect the image and reputation of top athletes?\\n\\nThese questions can lead to in-depth discussions on the role of athletes in giving back to society, the challenges they face in managing their finances, and the impact of legal issues on their careers and public perception.Highlight 1: \\n- Lionel Messi has won numerous individual awards throughout his career, including the Ballon d\\'Or/FIFA Ballon d\\'Or seven times - in 2009, 2010, 2011, 2012, 2015, 2019, and 2021. \\n\\nHighlight 2: \\n- Messi has had a remarkable club career, winning a total of 10 La Liga titles with Barcelona and 2 Ligue 1 titles with Paris Saint-Germain.```'"
            ],
            "application/vnd.google.colaboratory.intrinsic+json": {
              "type": "string"
            }
          },
          "metadata": {},
          "execution_count": 33
        }
      ]
    },
    {
      "cell_type": "code",
      "source": [
        "finalOutput = openai.ChatCompletion.create(model=\"gpt-3.5-turbo\",\n",
        "                                            messages=[{\"role\": \"system\", \"content\": \"You are a helpful assistant.\"},\n",
        "                                                      {\"role\": \"user\", \"content\": requestMessage}\n",
        "                                                      ],\n",
        "                                           temperature = 0.7\n",
        "                                            )"
      ],
      "metadata": {
        "id": "Lj9TxTSbANP5"
      },
      "execution_count": 34,
      "outputs": []
    },
    {
      "cell_type": "code",
      "source": [
        "podcastScript = finalOutput.choices[0].message.content"
      ],
      "metadata": {
        "id": "CWIN3pJ1AJHa"
      },
      "execution_count": 35,
      "outputs": []
    },
    {
      "cell_type": "code",
      "source": [
        "print (podcastScript)"
      ],
      "metadata": {
        "colab": {
          "base_uri": "https://localhost:8080/"
        },
        "id": "JP-4RDqgAOjG",
        "outputId": "4b79326e-a899-48bb-b1e8-13abfbeda44f"
      },
      "execution_count": 36,
      "outputs": [
        {
          "output_type": "stream",
          "name": "stdout",
          "text": [
            "Host: Welcome to another episode of Sport 101! Today, we're going to dive into the incredible career of Lionel Messi. I'm your host, Tom, and joining me is our resident sports expert, Jerry. \n",
            "\n",
            "Jerry: Thanks, Tom! Excited to talk about Messi's journey and achievements in the world of football.\n",
            "\n",
            "Tom: Before we get started, Jerry, what have you been up to lately? Any interesting sports news catch your attention?\n",
            "\n",
            "Jerry: Well, Tom, I've been closely following Lionel Messi's record-breaking season with PSG. It's been quite a ride for him. How about you? Any sports updates on your end?\n",
            "\n",
            "Tom: Absolutely, Jerry! I've been keeping an eye on Messi's international career and his recent triumph with the Argentina national team. It's incredible to see how he's evolved as a player. \n",
            "\n",
            "Jerry: Definitely, Tom. Messi's journey has been nothing short of extraordinary. He started off at a young age and quickly made a name for himself at Barcelona's youth academy, La Masia. \n",
            "\n",
            "Tom: That's right, Jerry. And his breakthrough as a senior team player came when he signed his first contract on his 18th birthday. Do you remember that?\n",
            "\n",
            "Jerry: Oh, yes! It was during the Joan Gamper Trophy, where Messi gave an impressive performance against Juventus. That was the moment when everyone knew he was destined for greatness.\n",
            "\n",
            "Tom: And greatness he achieved, Jerry. Messi's record-breaking achievements include winning a record seven Ballon d'Or awards and a record six European Golden Shoes. He's truly a living legend.\n",
            "\n",
            "Jerry: Absolutely, Tom. And let's not forget his impact on Barcelona's success during those seasons. Messi became Barcelona's all-time top scorer and broke numerous longstanding records.\n",
            "\n",
            "Tom: That's right, Jerry. His goal-scoring abilities are unparalleled. He holds the records for the most goals in La Liga and the UEFA Champions League. It's mind-blowing.\n",
            "\n",
            "Jerry: And it's not just his club career that's impressive, Tom. Messi has also had a remarkable journey with the Argentina national team. He's led them to Copa América victory and achieved significant milestones.\n",
            "\n",
            "Tom: You're absolutely right, Jerry. Messi's performance in the 2022 Copa América was outstanding. He was directly involved in nine out of the 12 goals scored by Argentina. It's no wonder they emerged as champions.\n",
            "\n",
            "Jerry: And it's interesting to see the perception of Messi in Argentina. Before 2019, he was often held in lesser esteem than Maradona, but his World Cup victory changed that. Now he's held in the same regard as Maradona.\n",
            "\n",
            "Tom: It's fascinating how perceptions can change, Jerry. Another interesting topic to discuss would be the comparisons between Messi and Cristiano Ronaldo. Their rivalry has captivated football fans worldwide.\n",
            "\n",
            "Jerry: Absolutely, Tom. Both players have an impressive list of individual accolades, but Messi's recent World Cup victory has settled the debate for some. It'll be interesting to see how their careers unfold.\n",
            "\n",
            "Tom: Definitely, Jerry. It's been an incredible journey for Messi, both on and off the field. From his philanthropic efforts to his financial controversy, there's always something intriguing about him.\n",
            "\n",
            "Jerry: That's right, Tom. Messi's involvement in philanthropy and his financial challenges have had a significant impact on his career and public perception. We can delve deeper into those topics in future episodes.\n",
            "\n",
            "Tom: Absolutely, Jerry. There's so much more to explore about Lionel Messi and his impact on the world of sports. Thank you all for tuning in to this episode of Sport 101. We'll catch you next time!\n",
            "\n",
            "Jerry: Thank you, everyone. Stay tuned for more exciting conversations about the world of sports.\n"
          ]
        }
      ]
    },
    {
      "cell_type": "markdown",
      "source": [
        "## Add Voice to the Podcast Script\n",
        "Here we choose to perform the voice generation using voices from 11Labs (11.ai). They are a startup that provide realistic voices with the right intonation while speaking.\n"
      ],
      "metadata": {
        "id": "MgobdAaptJGC"
      }
    },
    {
      "cell_type": "code",
      "source": [
        "!pip install elevenlabs"
      ],
      "metadata": {
        "colab": {
          "base_uri": "https://localhost:8080/"
        },
        "id": "B824PTYaARI0",
        "outputId": "74c560e7-23a0-4b5e-90a8-db8dcc838610"
      },
      "execution_count": 27,
      "outputs": [
        {
          "output_type": "stream",
          "name": "stdout",
          "text": [
            "Collecting elevenlabs\n",
            "  Downloading elevenlabs-0.2.24-py3-none-any.whl (16 kB)\n",
            "Collecting pydantic<2.0,>=1.10 (from elevenlabs)\n",
            "  Downloading pydantic-1.10.12-cp310-cp310-manylinux_2_17_x86_64.manylinux2014_x86_64.whl (3.1 MB)\n",
            "\u001b[2K     \u001b[90m━━━━━━━━━━━━━━━━━━━━━━━━━━━━━━━━━━━━━━━━\u001b[0m \u001b[32m3.1/3.1 MB\u001b[0m \u001b[31m37.7 MB/s\u001b[0m eta \u001b[36m0:00:00\u001b[0m\n",
            "\u001b[?25hRequirement already satisfied: ipython>=7.0 in /usr/local/lib/python3.10/dist-packages (from elevenlabs) (7.34.0)\n",
            "Requirement already satisfied: requests>=2.20 in /usr/local/lib/python3.10/dist-packages (from elevenlabs) (2.31.0)\n",
            "Collecting websockets>=11.0 (from elevenlabs)\n",
            "  Downloading websockets-11.0.3-cp310-cp310-manylinux_2_5_x86_64.manylinux1_x86_64.manylinux_2_17_x86_64.manylinux2014_x86_64.whl (129 kB)\n",
            "\u001b[2K     \u001b[90m━━━━━━━━━━━━━━━━━━━━━━━━━━━━━━━━━━━━━━\u001b[0m \u001b[32m129.9/129.9 kB\u001b[0m \u001b[31m13.9 MB/s\u001b[0m eta \u001b[36m0:00:00\u001b[0m\n",
            "\u001b[?25hRequirement already satisfied: setuptools>=18.5 in /usr/local/lib/python3.10/dist-packages (from ipython>=7.0->elevenlabs) (67.7.2)\n",
            "Collecting jedi>=0.16 (from ipython>=7.0->elevenlabs)\n",
            "  Downloading jedi-0.19.0-py2.py3-none-any.whl (1.6 MB)\n",
            "\u001b[2K     \u001b[90m━━━━━━━━━━━━━━━━━━━━━━━━━━━━━━━━━━━━━━━━\u001b[0m \u001b[32m1.6/1.6 MB\u001b[0m \u001b[31m57.7 MB/s\u001b[0m eta \u001b[36m0:00:00\u001b[0m\n",
            "\u001b[?25hRequirement already satisfied: decorator in /usr/local/lib/python3.10/dist-packages (from ipython>=7.0->elevenlabs) (4.4.2)\n",
            "Requirement already satisfied: pickleshare in /usr/local/lib/python3.10/dist-packages (from ipython>=7.0->elevenlabs) (0.7.5)\n",
            "Requirement already satisfied: traitlets>=4.2 in /usr/local/lib/python3.10/dist-packages (from ipython>=7.0->elevenlabs) (5.7.1)\n",
            "Requirement already satisfied: prompt-toolkit!=3.0.0,!=3.0.1,<3.1.0,>=2.0.0 in /usr/local/lib/python3.10/dist-packages (from ipython>=7.0->elevenlabs) (3.0.39)\n",
            "Requirement already satisfied: pygments in /usr/local/lib/python3.10/dist-packages (from ipython>=7.0->elevenlabs) (2.16.1)\n",
            "Requirement already satisfied: backcall in /usr/local/lib/python3.10/dist-packages (from ipython>=7.0->elevenlabs) (0.2.0)\n",
            "Requirement already satisfied: matplotlib-inline in /usr/local/lib/python3.10/dist-packages (from ipython>=7.0->elevenlabs) (0.1.6)\n",
            "Requirement already satisfied: pexpect>4.3 in /usr/local/lib/python3.10/dist-packages (from ipython>=7.0->elevenlabs) (4.8.0)\n",
            "Requirement already satisfied: typing-extensions>=4.2.0 in /usr/local/lib/python3.10/dist-packages (from pydantic<2.0,>=1.10->elevenlabs) (4.7.1)\n",
            "Requirement already satisfied: charset-normalizer<4,>=2 in /usr/local/lib/python3.10/dist-packages (from requests>=2.20->elevenlabs) (3.2.0)\n",
            "Requirement already satisfied: idna<4,>=2.5 in /usr/local/lib/python3.10/dist-packages (from requests>=2.20->elevenlabs) (3.4)\n",
            "Requirement already satisfied: urllib3<3,>=1.21.1 in /usr/local/lib/python3.10/dist-packages (from requests>=2.20->elevenlabs) (2.0.4)\n",
            "Requirement already satisfied: certifi>=2017.4.17 in /usr/local/lib/python3.10/dist-packages (from requests>=2.20->elevenlabs) (2023.7.22)\n",
            "Requirement already satisfied: parso<0.9.0,>=0.8.3 in /usr/local/lib/python3.10/dist-packages (from jedi>=0.16->ipython>=7.0->elevenlabs) (0.8.3)\n",
            "Requirement already satisfied: ptyprocess>=0.5 in /usr/local/lib/python3.10/dist-packages (from pexpect>4.3->ipython>=7.0->elevenlabs) (0.7.0)\n",
            "Requirement already satisfied: wcwidth in /usr/local/lib/python3.10/dist-packages (from prompt-toolkit!=3.0.0,!=3.0.1,<3.1.0,>=2.0.0->ipython>=7.0->elevenlabs) (0.2.6)\n",
            "Installing collected packages: websockets, pydantic, jedi, elevenlabs\n",
            "  Attempting uninstall: pydantic\n",
            "    Found existing installation: pydantic 2.2.0\n",
            "    Uninstalling pydantic-2.2.0:\n",
            "      Successfully uninstalled pydantic-2.2.0\n",
            "Successfully installed elevenlabs-0.2.24 jedi-0.19.0 pydantic-1.10.12 websockets-11.0.3\n"
          ]
        }
      ]
    },
    {
      "cell_type": "code",
      "source": [
        "from elevenlabs import set_api_key\n",
        "\n",
        "set_api_key(getpass('Enter your ELEVEN_LABS_API_KEY  '))"
      ],
      "metadata": {
        "colab": {
          "base_uri": "https://localhost:8080/"
        },
        "id": "JD8Dln6H0sL8",
        "outputId": "d550b871-c536-4b19-aa7f-b890b8e96942"
      },
      "execution_count": 28,
      "outputs": [
        {
          "name": "stdout",
          "output_type": "stream",
          "text": [
            "Enter your ELEVEN_LABS_API_KEY  ··········\n"
          ]
        }
      ]
    },
    {
      "cell_type": "markdown",
      "source": [
        "In ElevenLabs, we will find a variety of speakers listed in their demo dropdown. They offer a playground feature where we can select different speakers to listen to their voices. Simply choose a speaker and click the play button to hear their voice. For our interactive podcast, we'll need to select two speakers.\n",
        "\n",
        "After finalizing our choice of speakers, make a note of their names. We'll need this information for the next steps.\n",
        "To facilitate voice generation, we'll create a helper method. This method assumes that each line of the input text is spoken by a distinct person, and the person's name is included within the text. It's important to ensure that the output of our podcast script adheres to this style. If needed, feel free to modify the method accordingly."
      ],
      "metadata": {
        "id": "dMTNzVUg33kV"
      }
    },
    {
      "cell_type": "code",
      "source": [
        "from elevenlabs import generate\n",
        "\n",
        "def createPodcast(podcastScript, speakerName1, speakerChoice1, speakerName2, speakerChoice2):\n",
        "  genPodcast = []\n",
        "  podcastLines = podcastScript.split('\\n\\n')\n",
        "  podcastLineNumber = 0\n",
        "  for line in podcastLines:\n",
        "    if podcastLineNumber % 2 == 0:\n",
        "      speakerChoice = speakerChoice1\n",
        "      line = line.replace(speakerName1+\":\", '')\n",
        "    else:\n",
        "      speakerChoice = speakerChoice2\n",
        "      line = line.replace(speakerName2+\":\", '')\n",
        "    genVoice = generate(text=line, voice=speakerChoice, model=\"eleven_monolingual_v1\")\n",
        "    genPodcast.append(genVoice)\n",
        "    podcastLineNumber += 1\n",
        "  return genPodcast"
      ],
      "metadata": {
        "id": "w6nkcuAl0yWF"
      },
      "execution_count": 29,
      "outputs": []
    },
    {
      "cell_type": "code",
      "source": [
        "speakerName1 = \"Tom\"\n",
        "speakerChoice1 = \"Adam\"\n",
        "speakerName2 = \"Jerry\"\n",
        "speakerChoice2 = \"Domi\"\n",
        "genPodcast = createPodcast(podcastScript, speakerName1, speakerChoice1, speakerName2, speakerChoice2)"
      ],
      "metadata": {
        "id": "HreG1obO4JEr"
      },
      "execution_count": 30,
      "outputs": []
    },
    {
      "cell_type": "code",
      "source": [
        "with open(\"/content/sample_data/genPodcast.mpeg\", \"wb\") as f:\n",
        "  for pod in genPodcast:\n",
        "    f.write(pod)"
      ],
      "metadata": {
        "id": "m1G1gqwV4nsN"
      },
      "execution_count": 31,
      "outputs": []
    },
    {
      "cell_type": "markdown",
      "source": [
        "## Generate Podcast Intro Music\n",
        "We can leverage [MusicGen](https://huggingface.co/spaces/facebook/MusicGen) for to generate the introduction music. Download the intro music and upload it to the colab notebook.\n",
        "\n",
        "The pydub package is versatile and allows us to load in audio from various formats - MP3 and WAV files in our case and combine them in ways that we like."
      ],
      "metadata": {
        "id": "iwiNwRBEB-RE"
      }
    },
    {
      "cell_type": "code",
      "source": [
        "!pip install pydub"
      ],
      "metadata": {
        "colab": {
          "base_uri": "https://localhost:8080/"
        },
        "id": "Rcb8hA9X5V23",
        "outputId": "a52f1c8e-1b54-4cbe-80b6-2bf47f7e8cfb"
      },
      "execution_count": 1,
      "outputs": [
        {
          "output_type": "stream",
          "name": "stdout",
          "text": [
            "Collecting pydub\n",
            "  Downloading pydub-0.25.1-py2.py3-none-any.whl (32 kB)\n",
            "Installing collected packages: pydub\n",
            "Successfully installed pydub-0.25.1\n"
          ]
        }
      ]
    },
    {
      "cell_type": "code",
      "source": [
        "from pydub import AudioSegment\n",
        "\n",
        "# Import your respective saved Audio files\n",
        "music_intro = AudioSegment.from_file(\"/content/sample_data/intro_music.mp4\",\"mp4\")\n",
        "podcast_content = AudioSegment.from_file(\"/content/sample_data/genPodcast.mpeg\")"
      ],
      "metadata": {
        "id": "jsR62vJJH3F-"
      },
      "execution_count": 3,
      "outputs": []
    },
    {
      "cell_type": "code",
      "source": [
        "final_version = music_intro.append(podcast_content, crossfade=1500)\n",
        "#Save your final audio file\n",
        "final_version.export(\"/content/finalPodcast.mp3\", format=\"mp3\")"
      ],
      "metadata": {
        "colab": {
          "base_uri": "https://localhost:8080/"
        },
        "id": "FefvWnppcUoi",
        "outputId": "d44befad-7b3b-4fbe-8d0f-b69af812e253"
      },
      "execution_count": 4,
      "outputs": [
        {
          "output_type": "execute_result",
          "data": {
            "text/plain": [
              "<_io.BufferedRandom name='/content/finalPodcast.mp3'>"
            ]
          },
          "metadata": {},
          "execution_count": 4
        }
      ]
    },
    {
      "cell_type": "markdown",
      "source": [
        "### Enjoy your Podcast !!"
      ],
      "metadata": {
        "id": "9VncGyPq_YvT"
      }
    },
    {
      "cell_type": "markdown",
      "source": [
        "Until now, we've harnessed the power of the LLM as a valuable tool. We've employed it to extract podcast content and even to tidy up that content. Moreover, we can envision the LLM as a reasoning engine capable of handling the logic we would have previously coded.\n",
        "\n",
        "This concept is revolutionary and is currently undergoing exploration and validation. A potential route in this direction involves a framework called langchain. This relatively new library has garnered considerable interest and is quickly emerging as a favored method for interacting with LLMs."
      ],
      "metadata": {
        "id": "wnLJDirvkRr4"
      }
    },
    {
      "cell_type": "markdown",
      "source": [
        "## Using LangChain\n",
        "LangChain is an open-source framework designed to simplify the creation of applications using large language models (LLMs). It provides a standard interface for chains, lots of integrations with other tools, and end-to-end chains for common applications."
      ],
      "metadata": {
        "id": "0aqyW9rrYGQC"
      }
    },
    {
      "cell_type": "code",
      "source": [
        "!pip install langchain"
      ],
      "metadata": {
        "colab": {
          "base_uri": "https://localhost:8080/"
        },
        "id": "SeK_jTIbYCe2",
        "outputId": "30b2fe79-68da-4e8e-838b-3e1407ac9495"
      },
      "execution_count": 1,
      "outputs": [
        {
          "output_type": "stream",
          "name": "stdout",
          "text": [
            "Collecting langchain\n",
            "  Downloading langchain-0.0.272-py3-none-any.whl (1.6 MB)\n",
            "\u001b[2K     \u001b[90m━━━━━━━━━━━━━━━━━━━━━━━━━━━━━━━━━━━━━━━━\u001b[0m \u001b[32m1.6/1.6 MB\u001b[0m \u001b[31m7.8 MB/s\u001b[0m eta \u001b[36m0:00:00\u001b[0m\n",
            "\u001b[?25hRequirement already satisfied: PyYAML>=5.3 in /usr/local/lib/python3.10/dist-packages (from langchain) (6.0.1)\n",
            "Requirement already satisfied: SQLAlchemy<3,>=1.4 in /usr/local/lib/python3.10/dist-packages (from langchain) (2.0.20)\n",
            "Requirement already satisfied: aiohttp<4.0.0,>=3.8.3 in /usr/local/lib/python3.10/dist-packages (from langchain) (3.8.5)\n",
            "Requirement already satisfied: async-timeout<5.0.0,>=4.0.0 in /usr/local/lib/python3.10/dist-packages (from langchain) (4.0.3)\n",
            "Collecting dataclasses-json<0.6.0,>=0.5.7 (from langchain)\n",
            "  Downloading dataclasses_json-0.5.14-py3-none-any.whl (26 kB)\n",
            "Requirement already satisfied: google-api-core<3.0.0,>=2.11.1 in /usr/local/lib/python3.10/dist-packages (from langchain) (2.11.1)\n",
            "Collecting langsmith<0.1.0,>=0.0.21 (from langchain)\n",
            "  Downloading langsmith-0.0.26-py3-none-any.whl (34 kB)\n",
            "Requirement already satisfied: numexpr<3.0.0,>=2.8.4 in /usr/local/lib/python3.10/dist-packages (from langchain) (2.8.5)\n",
            "Requirement already satisfied: numpy<2,>=1 in /usr/local/lib/python3.10/dist-packages (from langchain) (1.23.5)\n",
            "Requirement already satisfied: pydantic<3,>=1 in /usr/local/lib/python3.10/dist-packages (from langchain) (2.2.0)\n",
            "Requirement already satisfied: requests<3,>=2 in /usr/local/lib/python3.10/dist-packages (from langchain) (2.31.0)\n",
            "Requirement already satisfied: tenacity<9.0.0,>=8.1.0 in /usr/local/lib/python3.10/dist-packages (from langchain) (8.2.3)\n",
            "Requirement already satisfied: attrs>=17.3.0 in /usr/local/lib/python3.10/dist-packages (from aiohttp<4.0.0,>=3.8.3->langchain) (23.1.0)\n",
            "Requirement already satisfied: charset-normalizer<4.0,>=2.0 in /usr/local/lib/python3.10/dist-packages (from aiohttp<4.0.0,>=3.8.3->langchain) (3.2.0)\n",
            "Requirement already satisfied: multidict<7.0,>=4.5 in /usr/local/lib/python3.10/dist-packages (from aiohttp<4.0.0,>=3.8.3->langchain) (6.0.4)\n",
            "Requirement already satisfied: yarl<2.0,>=1.0 in /usr/local/lib/python3.10/dist-packages (from aiohttp<4.0.0,>=3.8.3->langchain) (1.9.2)\n",
            "Requirement already satisfied: frozenlist>=1.1.1 in /usr/local/lib/python3.10/dist-packages (from aiohttp<4.0.0,>=3.8.3->langchain) (1.4.0)\n",
            "Requirement already satisfied: aiosignal>=1.1.2 in /usr/local/lib/python3.10/dist-packages (from aiohttp<4.0.0,>=3.8.3->langchain) (1.3.1)\n",
            "Collecting marshmallow<4.0.0,>=3.18.0 (from dataclasses-json<0.6.0,>=0.5.7->langchain)\n",
            "  Downloading marshmallow-3.20.1-py3-none-any.whl (49 kB)\n",
            "\u001b[2K     \u001b[90m━━━━━━━━━━━━━━━━━━━━━━━━━━━━━━━━━━━━━━━━\u001b[0m \u001b[32m49.4/49.4 kB\u001b[0m \u001b[31m5.5 MB/s\u001b[0m eta \u001b[36m0:00:00\u001b[0m\n",
            "\u001b[?25hCollecting typing-inspect<1,>=0.4.0 (from dataclasses-json<0.6.0,>=0.5.7->langchain)\n",
            "  Downloading typing_inspect-0.9.0-py3-none-any.whl (8.8 kB)\n",
            "Requirement already satisfied: googleapis-common-protos<2.0.dev0,>=1.56.2 in /usr/local/lib/python3.10/dist-packages (from google-api-core<3.0.0,>=2.11.1->langchain) (1.60.0)\n",
            "Requirement already satisfied: protobuf!=3.20.0,!=3.20.1,!=4.21.0,!=4.21.1,!=4.21.2,!=4.21.3,!=4.21.4,!=4.21.5,<5.0.0.dev0,>=3.19.5 in /usr/local/lib/python3.10/dist-packages (from google-api-core<3.0.0,>=2.11.1->langchain) (3.20.3)\n",
            "Requirement already satisfied: google-auth<3.0.dev0,>=2.14.1 in /usr/local/lib/python3.10/dist-packages (from google-api-core<3.0.0,>=2.11.1->langchain) (2.17.3)\n",
            "Requirement already satisfied: annotated-types>=0.4.0 in /usr/local/lib/python3.10/dist-packages (from pydantic<3,>=1->langchain) (0.5.0)\n",
            "Requirement already satisfied: pydantic-core==2.6.0 in /usr/local/lib/python3.10/dist-packages (from pydantic<3,>=1->langchain) (2.6.0)\n",
            "Requirement already satisfied: typing-extensions>=4.6.1 in /usr/local/lib/python3.10/dist-packages (from pydantic<3,>=1->langchain) (4.7.1)\n",
            "Requirement already satisfied: idna<4,>=2.5 in /usr/local/lib/python3.10/dist-packages (from requests<3,>=2->langchain) (3.4)\n",
            "Requirement already satisfied: urllib3<3,>=1.21.1 in /usr/local/lib/python3.10/dist-packages (from requests<3,>=2->langchain) (2.0.4)\n",
            "Requirement already satisfied: certifi>=2017.4.17 in /usr/local/lib/python3.10/dist-packages (from requests<3,>=2->langchain) (2023.7.22)\n",
            "Requirement already satisfied: greenlet!=0.4.17 in /usr/local/lib/python3.10/dist-packages (from SQLAlchemy<3,>=1.4->langchain) (2.0.2)\n",
            "Requirement already satisfied: cachetools<6.0,>=2.0.0 in /usr/local/lib/python3.10/dist-packages (from google-auth<3.0.dev0,>=2.14.1->google-api-core<3.0.0,>=2.11.1->langchain) (5.3.1)\n",
            "Requirement already satisfied: pyasn1-modules>=0.2.1 in /usr/local/lib/python3.10/dist-packages (from google-auth<3.0.dev0,>=2.14.1->google-api-core<3.0.0,>=2.11.1->langchain) (0.3.0)\n",
            "Requirement already satisfied: six>=1.9.0 in /usr/local/lib/python3.10/dist-packages (from google-auth<3.0.dev0,>=2.14.1->google-api-core<3.0.0,>=2.11.1->langchain) (1.16.0)\n",
            "Requirement already satisfied: rsa<5,>=3.1.4 in /usr/local/lib/python3.10/dist-packages (from google-auth<3.0.dev0,>=2.14.1->google-api-core<3.0.0,>=2.11.1->langchain) (4.9)\n",
            "Requirement already satisfied: packaging>=17.0 in /usr/local/lib/python3.10/dist-packages (from marshmallow<4.0.0,>=3.18.0->dataclasses-json<0.6.0,>=0.5.7->langchain) (23.1)\n",
            "Collecting mypy-extensions>=0.3.0 (from typing-inspect<1,>=0.4.0->dataclasses-json<0.6.0,>=0.5.7->langchain)\n",
            "  Downloading mypy_extensions-1.0.0-py3-none-any.whl (4.7 kB)\n",
            "Requirement already satisfied: pyasn1<0.6.0,>=0.4.6 in /usr/local/lib/python3.10/dist-packages (from pyasn1-modules>=0.2.1->google-auth<3.0.dev0,>=2.14.1->google-api-core<3.0.0,>=2.11.1->langchain) (0.5.0)\n",
            "Installing collected packages: mypy-extensions, marshmallow, typing-inspect, langsmith, dataclasses-json, langchain\n",
            "Successfully installed dataclasses-json-0.5.14 langchain-0.0.272 langsmith-0.0.26 marshmallow-3.20.1 mypy-extensions-1.0.0 typing-inspect-0.9.0\n"
          ]
        }
      ]
    },
    {
      "cell_type": "markdown",
      "source": [
        "Reference : https://python.langchain.com/docs/use_cases/summarization"
      ],
      "metadata": {
        "id": "8NHJa1xxyRSH"
      }
    },
    {
      "cell_type": "code",
      "source": [
        "from langchain.chains.mapreduce import MapReduceChain\n",
        "from langchain.text_splitter import CharacterTextSplitter\n",
        "from langchain.chains import ReduceDocumentsChain, MapReduceDocumentsChain\n",
        "from langchain.chat_models import ChatOpenAI\n",
        "from langchain.prompts import PromptTemplate\n",
        "from langchain.chains.llm import LLMChain\n",
        "\n",
        "\n",
        "llm = ChatOpenAI(temperature=0, model_name=\"gpt-3.5-turbo\",openai_api_key=openai.api_key)\n",
        "\n",
        "# Map\n",
        "map_template = \"\"\"\n",
        "You are a Sports enthusiast who is doing a research for a podcast. Your task is to extract relevant information from the Result delimited by triple quotes.\n",
        "Please identify 2 interesting questions and answers which can be used for a podcast discussion.\n",
        "The identified discussions should be returned in the following format.\n",
        "- Highlight 1 from the text\n",
        "- Highlight 2 from the text\n",
        "Result: {docs}\"\"\"\n",
        "map_prompt = PromptTemplate.from_template(map_template)\n",
        "\n",
        "map_chain = LLMChain(llm=llm, prompt=map_prompt)\n"
      ],
      "metadata": {
        "id": "wGi_gIO1puPH"
      },
      "execution_count": 24,
      "outputs": []
    },
    {
      "cell_type": "code",
      "source": [
        "from langchain.chains.combine_documents.stuff import StuffDocumentsChain\n",
        "\n",
        "# Reduce\n",
        "reduce_template = \"\"\"\n",
        "You are a writer creating the script for the another episode of a podcast Sport 101 hosted by \\\"Tom\\\" and \\\"Jerry\\\".\n",
        "Use \\\"Tom\\\" as the person asking questions and \\\"Jerry\\\" as the person providing interesting insights to those questions.\n",
        "Always specify speaker name as  \\\"Tom\\\" or \\\"Jerry\\\" to identify who is speaking.\n",
        "Make the convesation casual and interesting.\n",
        "Extract relevant information for the podcast conversation from the Result delimited by triple quotes.\n",
        "Use the below format for the podcast conversation.\n",
        "1. Introduction about the topic and welcome everyone for another episode of the podcast Sport 101.\n",
        "2. Tom is the main host.\n",
        "2. Introduce both the speakers in brief.\n",
        "3. Then start the conversation.\n",
        "4. Start the conversation with some casual discussion like what they are doing right now at this moment.\n",
        "5. End the conversation with thank you speech to everyone.\n",
        "6. Do not use the word \\\"conversation\\\" response.\n",
        "7. Do not use the word \\\"Introduction\\\" response.\n",
        "\n",
        "Result: \"{doc_summaries}\"\n",
        "\"\"\"\n",
        "reduce_prompt = PromptTemplate.from_template(reduce_template)\n",
        "reduce_chain = LLMChain(llm=llm, prompt=reduce_prompt)\n",
        "\n",
        "# Takes a list of documents, combines them into a single string, and passes this to an LLMChain\n",
        "combine_documents_chain = StuffDocumentsChain(\n",
        "    llm_chain=reduce_chain, document_variable_name=\"doc_summaries\"\n",
        ")\n",
        "\n",
        "# Combines and iteravely reduces the mapped documents\n",
        "reduce_documents_chain = ReduceDocumentsChain(\n",
        "    # This is final chain that is called.\n",
        "    combine_documents_chain=combine_documents_chain,\n",
        "    # If documents exceed context for `StuffDocumentsChain`\n",
        "    collapse_documents_chain=combine_documents_chain,\n",
        "    # The maximum number of tokens to group documents into.\n",
        "    token_max=3000,\n",
        ")"
      ],
      "metadata": {
        "id": "AUWsMLrBvwGW"
      },
      "execution_count": 30,
      "outputs": []
    },
    {
      "cell_type": "code",
      "source": [
        "from langchain.document_loaders import WikipediaLoader\n",
        "\n",
        "# Combining documents by mapping a chain over them, then combining results\n",
        "map_reduce_chain = MapReduceDocumentsChain(\n",
        "    # Map chain\n",
        "    llm_chain=map_chain,\n",
        "    # Reduce chain\n",
        "    reduce_documents_chain=reduce_documents_chain,\n",
        "    # The variable name in the llm_chain to put the documents in\n",
        "    document_variable_name=\"docs\",\n",
        "    # Return the results of the map steps in the output\n",
        "    return_intermediate_steps=False,\n",
        ")\n",
        "\n",
        "text_splitter = CharacterTextSplitter.from_tiktoken_encoder(\n",
        "    chunk_size=2500, chunk_overlap=0\n",
        ")\n",
        "\n",
        "docs = WikipediaLoader(query=\"Lionel_Messi\").load()\n",
        "\n",
        "split_docs = text_splitter.split_documents(docs)"
      ],
      "metadata": {
        "id": "UKNx_1uKyGfh"
      },
      "execution_count": 31,
      "outputs": []
    },
    {
      "cell_type": "code",
      "source": [
        "print(map_reduce_chain.run(split_docs))"
      ],
      "metadata": {
        "colab": {
          "base_uri": "https://localhost:8080/"
        },
        "id": "srzuV6lFyuia",
        "outputId": "0b240a2e-58ea-4420-cad5-0db0d589cc52"
      },
      "execution_count": 29,
      "outputs": [
        {
          "output_type": "stream",
          "name": "stdout",
          "text": [
            "Tom: Welcome everyone to another episode of our podcast \"Sport 101\"! I'm your host Tom, and joining me today is our resident sports expert, Jerry. How are you doing today, Jerry?\n",
            "\n",
            "Jerry: Hey Tom! I'm doing great, excited to dive into some interesting sports topics with you today. How about you?\n",
            "\n",
            "Tom: I'm doing well, thanks for asking. Just finished watching a thrilling football match. It's always a great way to unwind. Speaking of football, let's talk about one of the greatest players of all time, Lionel Messi. He has achieved some incredible milestones throughout his career, hasn't he?\n",
            "\n",
            "Jerry: Absolutely, Tom! Messi's list of achievements is truly remarkable. He has won a record seven Ballon d'Or awards and six European Golden Shoes, establishing himself as one of the greatest players in history. He holds numerous records, including the most goals in La Liga, most hat-tricks in La Liga and the UEFA Champions League, and most assists in La Liga and the Copa América. He's also the player with the most official recorded assists in football history. Messi's impact on the game is undeniable.\n",
            "\n",
            "Tom: That's incredible, Jerry. Messi's records speak for themselves. Now, let's talk about the ongoing debate between Messi and Ronaldo. How do journalists and pundits argue the individual merits of these two football legends?\n",
            "\n",
            "Jerry: Ah, the Messi vs Ronaldo debate, a topic that always sparks passionate discussions. Journalists and pundits often highlight Ronaldo's physical attributes, goalscoring skills, leadership, and ability to perform under pressure. On the other hand, Messi is praised for his exceptional dribbling, playmaking, passing, and goalscoring abilities. The debate also revolves around their differing physiques, playing styles, and personalities. It's fascinating to see how people have different opinions on who is the best player in modern football or even of all time.\n",
            "\n",
            "Tom: Absolutely, Jerry. It's a never-ending debate that keeps fans engaged and fuels their passion for the game. Now, let's shift our focus to Messi's international career. How many goals has he scored for the Argentina national team?\n",
            "\n",
            "Jerry: Messi has scored a total of 81 goals for the Argentina national team. He has been a key figure for his country, leading them to victory in the Copa América in 2021 and being named the tournament's Best Player. His international goalscoring record is truly impressive.\n",
            "\n",
            "Tom: That's remarkable, Jerry. Messi's impact extends beyond his club career, and he has certainly made his mark on the international stage. Now, let's talk about some interesting facts about Messi's personal life. How did he become an internet celebrity and gain popularity on social media?\n",
            "\n",
            "Jerry: Well, Tom, in 2017, Messi's owners, the Dmitrievs, started an Instagram account and a YouTube channel for him. It quickly gained popularity, with the Instagram account amassing almost 150,000 followers and over 50 million views on YouTube by January 2018. Currently, Messi has more than 1.5 million followers on Instagram and over 1.8 million subscribers on YouTube. He has become quite the internet sensation!\n",
            "\n",
            "Tom: That's fascinating, Jerry. It's amazing to see how Messi's popularity extends beyond the football field. Now, let's wrap up our discussion with some interesting facts about Argentine football. Argentina has a rich history in international football, with several World Cup victories and Copa América titles, right?\n",
            "\n",
            "Jerry: Absolutely, Tom. Argentina has won the World Cup three times, in 1978, 1986, and most recently in 2022. They have also been successful in the Copa América, winning the tournament a record 15 times, which they share with Uruguay. Additionally, Argentina has won other prestigious tournaments like the FIFA Confederations Cup and the CONMEBOL-UEFA Cup of Champions. They have a proud footballing tradition.\n",
            "\n",
            "Tom: That's fantastic, Jerry. Argentina's success in international competitions is truly remarkable. Thank you for sharing these insights with us today. And thank you to all our listeners for tuning in to another episode of \"Sport 101\". We'll be back soon with more exciting sports discussions. Stay tuned and take care!\n"
          ]
        }
      ]
    },
    {
      "cell_type": "markdown",
      "source": [
        "As we can see above, we've demonstrated how the Langchain framework can simplify the process of creating our podcast. This serves as an introduction to Gen AI and LangChain, illustrating how we can leverage them to develop captivating products.\""
      ],
      "metadata": {
        "id": "V7UWPZp3_-Tu"
      }
    }
  ]
}