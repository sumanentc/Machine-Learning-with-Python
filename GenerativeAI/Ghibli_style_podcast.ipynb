{
  "nbformat": 4,
  "nbformat_minor": 0,
  "metadata": {
    "colab": {
      "provenance": []
    },
    "kernelspec": {
      "name": "python3",
      "display_name": "Python 3"
    },
    "language_info": {
      "name": "python"
    }
  },
  "cells": [
    {
      "cell_type": "markdown",
      "source": [
        "**In this guide, we'll explore how to generate content for a solo podcast using LangChain, LLMs, and ElevenLabs. The podcast topic can be any interesting subject sourced from Wikipedia.**"
      ],
      "metadata": {
        "id": "Sbk_76hgRzHb"
      }
    },
    {
      "cell_type": "code",
      "source": [
        "from getpass import getpass\n",
        "\n",
        "api_key = getpass('Enter your OPENAI_API_KEY')"
      ],
      "metadata": {
        "id": "efMYfDcgUpgw"
      },
      "execution_count": null,
      "outputs": []
    },
    {
      "cell_type": "code",
      "source": [
        "from getpass import getpass\n",
        "\n",
        "eleven_labs_api_key = getpass('Enter your ELEVEN_LABS_API_KEY')"
      ],
      "metadata": {
        "id": "UFQbpyjNUqX5"
      },
      "execution_count": null,
      "outputs": []
    },
    {
      "cell_type": "markdown",
      "source": [
        "install dependencies"
      ],
      "metadata": {
        "id": "BvHKjHnDVAV9"
      }
    },
    {
      "cell_type": "code",
      "execution_count": null,
      "metadata": {
        "id": "rrkPtbWiNM86"
      },
      "outputs": [],
      "source": [
        "!pip install wikipedia tiktoken langchain_community langchain_experimental langchain_openai langgraph elevenlabs pydub --quiet"
      ]
    },
    {
      "cell_type": "markdown",
      "source": [
        "Download podcast content"
      ],
      "metadata": {
        "id": "BGrZwgXuUzdy"
      }
    },
    {
      "cell_type": "code",
      "source": [
        "from langchain_community.document_loaders import WikipediaLoader\n",
        "\n",
        "docs = WikipediaLoader(query=\"Indian_Premier_League\", load_max_docs=3).load()\n",
        "len(docs)\n",
        "for doc in docs:\n",
        "    print(doc.metadata)"
      ],
      "metadata": {
        "colab": {
          "base_uri": "https://localhost:8080/"
        },
        "id": "bmpTq5eyGBqE",
        "outputId": "8f3a54f6-2e86-499c-cf83-c018f93c0f30"
      },
      "execution_count": null,
      "outputs": [
        {
          "output_type": "stream",
          "name": "stdout",
          "text": [
            "{'title': 'Indian Premier League', 'summary': \"The Indian Premier League (IPL) is a professional Twenty20 cricket league in India organised by the Board of Control for Cricket in India (BCCI). Founded in 2007, the league features ten state or city-based franchise teams. The IPL is the most popular and richest cricket league in the world and is held between March and May. It has an exclusive window in the ICC Future Tours Programme, resulting in fewer international cricket tours occurring during the IPL seasons. It is also the most viewed sports competition in India, as per BARC.\\nIn 2014, it ranked sixth in attendance among all sports leagues. In 2010, the IPL became the first sporting event to be broadcast live on YouTube. Inspired by the success of the IPL, other Indian sports leagues have been established. In 2022, the league's brand value was estimated at ₹90,038 crore (US$11 billion). According to the BCCI, the 2015 IPL season contributed ₹1,150 crore (US$140 million) to India's GDP. In December 2022, the IPL achieved a valuation of US$10.9 billion, becoming a decacorn and registering a 75% growth in dollar terms since 2020 when it was valued at $6.2 billion, according to a report by the consulting firm D and P Advisory. Its 2023 final became the most streamed live event on the internet, with 32 million viewers.\\nIn 2023, the league sold its media rights for the next 4 seasons for US$6.4 billion to Viacom18 and Star Sports, meaning each IPL match was valued at $13.4 million. As of 2024, there have been seventeen seasons of the tournament. The current champions are the Kolkata Knight Riders, who won the 2024 season after defeating Sunrisers Hyderabad in the final.\", 'source': 'https://en.wikipedia.org/wiki/Indian_Premier_League'}\n",
            "{'title': 'List of Indian Premier League seasons and results', 'summary': 'The Indian Premier League (IPL) is a domestic, annual Twenty20 cricket tournament played in India, organized by the IPL Governing Council, under the aegis of the Board of Control for Cricket in India (BCCI). It is the most watched Twenty20 tournament and the second-best-paying cricket league globally.\\nIPL was established in 2008 and currently consists of ten teams in ten cities across India. The inaugural IPL season was won by Rajasthan Royals. As of 2024, there have been seventeen seasons of the IPL tournament.\\nUp until 2021, the IPL tournament involved each team playing every other team twice in a home-and-away, double round-robin format. From 2022, the ten teams were divided into two groups of five. A random draw was used to determine the groups and who plays whom across the groups once and twice. In the group stage, each team plays 14 games facing the other four teams in their group two times each (one home and one away game), four teams in the other group once, and the remaining team two times. At the conclusion of the double round-robin league, on the basis of aggregate points, the top four teams qualify for the playoffs. In this stage, the top two teams compete with each other (in a match titled \"Qualifier 1\"), as do the remaining two teams (in a match titled \"Eliminator\"). While the winner of Qualifier 1 directly qualifies for the final match, the losing team gets another chance to qualify for the final match by playing the winning team of the Eliminator match; this match is titled Qualifier 2. The winner of this subsequent Qualifier 2 match moves onto the final match. The team that wins the final match is crowned the Indian Premier League champion.\\nAltogether, thirteen teams have played in the past ten seasons of the IPL tournament. Of these, three teams are no longer a part of the tournament. In 2011, BCCI terminated the franchise of Kochi Tuskers Kerala for contractual breach. Similarly, BCCI terminated the franchise of Deccan Chargers in 2012 for backing off from its commitments. In 2013, Pune Warriors India exited IPL after it had a franchise valuation disagreement with BCCI. Chennai Super Kings and Rajasthan Royals were suspended in 2016 & 2017 following a betting controversy. However, in July 2017, BCCI announced that both Chennai Super Kings and Rajasthan Royals would be allowed back into the IPL competition from the 2018 season.\\nChennai Super Kings and Mumbai Indians have won five titles each while Kolkata Knight Riders have won three titles. Gujarat Titans, Sunrisers Hyderabad, Rajasthan Royals, and former team Deccan Chargers have won a title each.', 'source': 'https://en.wikipedia.org/wiki/List_of_Indian_Premier_League_seasons_and_results'}\n",
            "{'title': '2025 Indian Premier League', 'summary': 'The 2025 Indian Premier League, also known as IPL 18 and branded as TATA IPL 2025, is the 18th edition of the Indian Premier League. The tournament features ten teams competing in 74 matches from 22 March to 25 May 2025. It is being held across 13 cities in India, with Kolkata hosting the opening ceremony and the final as the Kolkata Knight Riders are the defending champions.', 'source': 'https://en.wikipedia.org/wiki/2025_Indian_Premier_League'}\n"
          ]
        }
      ]
    },
    {
      "cell_type": "markdown",
      "source": [
        "Split the content into chunks"
      ],
      "metadata": {
        "id": "U65NNxxJU6G_"
      }
    },
    {
      "cell_type": "code",
      "source": [
        "from langchain_experimental.text_splitter import SemanticChunker\n",
        "from langchain_openai.embeddings import OpenAIEmbeddings\n",
        "\n",
        "text_splitter = SemanticChunker(\n",
        "    OpenAIEmbeddings(api_key=api_key), breakpoint_threshold_type=\"gradient\"\n",
        ")\n",
        "split_docs = text_splitter.split_documents(docs)\n",
        "len(split_docs)"
      ],
      "metadata": {
        "colab": {
          "base_uri": "https://localhost:8080/"
        },
        "id": "4jX6o7VMGeBg",
        "outputId": "f8df7aa3-543a-4d75-afd7-8f4b1fcd5697"
      },
      "execution_count": null,
      "outputs": [
        {
          "output_type": "execute_result",
          "data": {
            "text/plain": [
              "9"
            ]
          },
          "metadata": {},
          "execution_count": 52
        }
      ]
    },
    {
      "cell_type": "code",
      "source": [
        "split_docs[0].page_content"
      ],
      "metadata": {
        "colab": {
          "base_uri": "https://localhost:8080/",
          "height": 143
        },
        "id": "wQHqu7qAO1dM",
        "outputId": "28a7abf0-2c65-4b93-adde-331935271529"
      },
      "execution_count": null,
      "outputs": [
        {
          "output_type": "execute_result",
          "data": {
            "text/plain": [
              "\"The Indian Premier League (IPL) is a professional Twenty20 cricket league in India organised by the Board of Control for Cricket in India (BCCI). Founded in 2007, the league features ten state or city-based franchise teams. The IPL is the most popular and richest cricket league in the world and is held between March and May. It has an exclusive window in the ICC Future Tours Programme, resulting in fewer international cricket tours occurring during the IPL seasons. It is also the most viewed sports competition in India, as per BARC. In 2014, it ranked sixth in attendance among all sports leagues. In 2010, the IPL became the first sporting event to be broadcast live on YouTube. Inspired by the success of the IPL, other Indian sports leagues have been established. In 2022, the league's brand value was estimated at ₹90,038 crore (US$11 billion). According to the BCCI, the 2015 IPL season contributed ₹1,150 crore (US$140 million) to India's GDP. In December 2022, the IPL achieved a valuation of US$10.9 billion, becoming a decacorn and registering a 75% growth in dollar terms since 2020 when it was valued at $6.2 billion, according to a report by the consulting firm D and P Advisory. Its 2023 final became the most streamed live event on the internet, with 32 million viewers. In 2023, the league sold its media rights for the next 4 seasons for US$6.4 billion to Viacom18 and Star Sports, meaning each IPL match was valued at $13.4 million. As of 2024, there have been seventeen seasons of the tournament. The current champions are the Kolkata Knight Riders, who won the 2024 season after defeating Sunrisers Hyderabad in the final. == History ==\\n\\n\\n=== Background ===\\nIn April 2007, Essel Group launched the Indian Cricket League (ICL), in partnership with IL&FS.\""
            ],
            "application/vnd.google.colaboratory.intrinsic+json": {
              "type": "string"
            }
          },
          "metadata": {},
          "execution_count": 53
        }
      ]
    },
    {
      "cell_type": "markdown",
      "source": [
        "Summarizing long content with MapReduceDocumentsChain in Langchain"
      ],
      "metadata": {
        "id": "7oxfQMdZtxzL"
      }
    },
    {
      "cell_type": "code",
      "source": [
        "from langchain.chat_models import init_chat_model\n",
        "from langchain_core.prompts import ChatPromptTemplate\n",
        "from langchain_core.output_parsers import StrOutputParser\n",
        "import os\n",
        "if not os.environ.get(\"OPENAI_API_KEY\"):\n",
        "  os.environ[\"OPENAI_API_KEY\"] = api_key\n",
        "\n",
        "llm = init_chat_model(\"gpt-4o-mini\", model_provider=\"openai\",temperature = 0.7)\n",
        "\n",
        "# Map\n",
        "map_template = \"\"\"\n",
        "You are a Sports enthusiast who is doing a research for a podcast. Your task is to extract relevant information from the Result delimited by triple quotes.\n",
        "Please identify 3 interesting questions and answers which can be used for a podcast discussion.\n",
        "The identified discussions should be returned in the following format.\n",
        "- Highlight 1 from the text\n",
        "- Highlight 2 from the text\n",
        "- Highlight 3 from the text\n",
        "Result: {docs}\"\"\"\n",
        "\n",
        "# Reduce\n",
        "reduce_template =\"\"\"\n",
        "You are a writer creating the script for the another episode of a podcast \"Sport 101\" hosted by \\\"Tom\\\".\n",
        "Make the podcast casual, engaging and informative\n",
        "Extract relevant information for the solo podcast from the Result delimited by triple quotes.\n",
        "Use \\\"Tom\\\" as the person speaking and sharing insights about the topic with the audience.\n",
        "Use the below format for the solo podcast.\n",
        "1. Introduction about the topic and welcome everyone for another episode of the podcast \"Sport 101\".\n",
        "2. Introduce the speaker in brief.\n",
        "3. Then start the podcast.\n",
        "4. Start the podcast with some casual discussion like what he is doing right now at this moment.\n",
        "5. End the podcast with thank you speech to everyone.\n",
        "6. Do not use the word \\\"conversation\\\" in the response.\n",
        "7. Do not use the word \\\"Introduction\\\" in the response.\n",
        "8. Do not use the word \\\"Podcast Script\\\" in response.\n",
        "Result: \"{doc_summaries}\"\n",
        "\"\"\"\n",
        "\n",
        "map_prompt = ChatPromptTemplate([(\"human\", map_template)])\n",
        "reduce_prompt = ChatPromptTemplate([(\"human\", reduce_template)])\n",
        "\n",
        "map_chain = map_prompt | llm | StrOutputParser()\n",
        "reduce_chain = reduce_prompt | llm | StrOutputParser()"
      ],
      "metadata": {
        "id": "QRb2p5jAGhjB"
      },
      "execution_count": null,
      "outputs": []
    },
    {
      "cell_type": "code",
      "source": [
        "import operator\n",
        "from typing import Annotated, List, TypedDict\n",
        "from langgraph.constants import Send\n",
        "from langgraph.graph import END, START, StateGraph\n",
        "\n",
        "# This will be the overall state of the main graph.\n",
        "# It will contain the input document contents, corresponding\n",
        "# summaries, and a final summary.\n",
        "class OverallState(TypedDict):\n",
        "    # Notice here we use the operator.add\n",
        "    # This is because we want combine all the summaries we generate\n",
        "    # from individual nodes back into one list - this is essentially\n",
        "    # the \"reduce\" part\n",
        "    contents: List[str]\n",
        "    summaries: Annotated[list, operator.add]\n",
        "    final_summary: str\n",
        "\n",
        "\n",
        "# This will be the state of the node that we will \"map\" all\n",
        "# documents to in order to generate summaries\n",
        "class SummaryState(TypedDict):\n",
        "    content: str\n",
        "\n",
        "\n",
        "# Here we generate a summary, given a document\n",
        "async def generate_summary(state: SummaryState):\n",
        "    response = await map_chain.ainvoke(state[\"content\"])\n",
        "    return {\"summaries\": [response]}\n",
        "\n",
        "\n",
        "# Here we define the logic to map out over the documents\n",
        "# We will use this an edge in the graph\n",
        "def map_summaries(state: OverallState):\n",
        "    # We will return a list of `Send` objects\n",
        "    # Each `Send` object consists of the name of a node in the graph\n",
        "    # as well as the state to send to that node\n",
        "    return [\n",
        "        Send(\"generate_summary\", {\"content\": content}) for content in state[\"contents\"]\n",
        "    ]\n",
        "\n",
        "# Here we will generate the final summary\n",
        "async def generate_final_summary(state: OverallState):\n",
        "    response = await reduce_chain.ainvoke(state[\"summaries\"])\n",
        "    return {\"final_summary\": response}\n",
        "\n",
        "\n",
        "# Construct the graph: here we put everything together to construct our graph\n",
        "graph = StateGraph(OverallState)\n",
        "graph.add_node(\"generate_summary\", generate_summary)\n",
        "graph.add_node(\"generate_final_summary\", generate_final_summary)\n",
        "graph.add_conditional_edges(START, map_summaries, [\"generate_summary\"])\n",
        "graph.add_edge(\"generate_summary\", \"generate_final_summary\")\n",
        "graph.add_edge(\"generate_final_summary\", END)\n",
        "app = graph.compile()"
      ],
      "metadata": {
        "id": "Pe45EJr9JPrp"
      },
      "execution_count": null,
      "outputs": []
    },
    {
      "cell_type": "code",
      "source": [
        "from IPython.display import Image\n",
        "\n",
        "Image(app.get_graph().draw_mermaid_png())"
      ],
      "metadata": {
        "colab": {
          "base_uri": "https://localhost:8080/",
          "height": 350
        },
        "id": "pEBwFgBaSM3p",
        "outputId": "c77e59fd-b6ab-49f0-e6fc-50df6154a292"
      },
      "execution_count": null,
      "outputs": [
        {
          "output_type": "execute_result",
          "data": {
            "image/png": "[encoded data removed]",
            "text/plain": [
              "<IPython.core.display.Image object>"
            ]
          },
          "metadata": {},
          "execution_count": 86
        }
      ]
    },
    {
      "cell_type": "code",
      "source": [
        "# Call the graph:\n",
        "async for step in app.astream({\"contents\": [doc.page_content for doc in split_docs]}):\n",
        "    print(step)"
      ],
      "metadata": {
        "colab": {
          "base_uri": "https://localhost:8080/"
        },
        "id": "oOpTe2tBTCZl",
        "outputId": "539d5ceb-9e73-4063-b333-1c7b59e3f03f"
      },
      "execution_count": null,
      "outputs": [
        {
          "output_type": "stream",
          "name": "stdout",
          "text": [
            "{'generate_summary': {'summaries': ['It seems that the text provided is incomplete and does not contain sufficient information to extract relevant discussions or questions. Please provide a more complete passage or additional context related to your research on sports for your podcast.']}}\n",
            "{'generate_summary': {'summaries': ['- What makes the Twenty20 tournament the most watched cricket event? \\n- How does the financial aspect of the Twenty20 tournament compare to other cricket leagues worldwide?\\n- What factors contribute to the popularity of the Twenty20 format in cricket?']}}\n",
            "{'generate_summary': {'summaries': ['- **What is the Indian Premier League (IPL)?**  \\n  The IPL is a domestic, annual Twenty20 cricket tournament played in India.\\n\\n- **Who organizes the IPL?**  \\n  The IPL is organized by the IPL Governing Council, which operates under the Board of Control for Cricket in India (BCCI).\\n\\n- **What format of cricket is played in the IPL?**  \\n  The tournament is played in the Twenty20 format, which is known for its fast-paced and entertaining style of cricket.']}}\n",
            "{'generate_summary': {'summaries': [\"1. **What is the significance of the 2025 Indian Premier League in the context of IPL history?**\\n   - The 2025 Indian Premier League, also known as IPL 18, marks the 18th edition of this prestigious tournament, showcasing its continued evolution and popularity in the world of cricket.\\n\\n2. **What branding is associated with IPL 2025?**\\n   - IPL 2025 is branded as TATA IPL 2025, highlighting the partnership and sponsorship that plays a crucial role in the league's financial and promotional strategies.\\n\\n3. **How does IPL 2025 reflect the growth of cricket as a global sport?**\\n   - As the 18th edition of the IPL, the 2025 tournament exemplifies the increasing global reach and commercial success of cricket, particularly through its innovative formats and engagement strategies that attract audiences worldwide.\"]}}\n",
            "{'generate_summary': {'summaries': [\"Here are three interesting questions and answers for discussion based on the provided information:\\n\\n- **What are the key details regarding the schedule and format of the upcoming tournament?**  \\n  The tournament features ten teams competing in 74 matches, scheduled from 22 March to 25 May 2025. It will take place across 13 cities in India.\\n\\n- **What is significant about the location of the opening ceremony and the final match?**  \\n  Kolkata will host both the opening ceremony and the final match, highlighting its importance in the tournament's proceedings. Additionally, the Kolkata Knight Riders will be defending their championship title.\\n\\n- **Who organizes the Indian Premier League and what format does it follow?**  \\n  The Indian Premier League is organized by the Board of Control for Cricket in India (BCCI) and follows a franchise-based Twenty20 cricket format.\"]}}\n",
            "{'generate_summary': {'summaries': [\"- **What factors contribute to the Indian Premier League (IPL) being considered the richest and most popular cricket league in the world?**  \\n  The IPL's popularity and wealth are attributed to its format as a professional Twenty20 league, its exclusive scheduling that minimizes international tours during its season, and its massive viewership, being the most viewed sports competition in India. Additionally, the league's significant brand value, estimated at ₹90,038 crore (US$11 billion) in 2022, and its lucrative media rights deals enhance its financial standing.\\n\\n- **What impact has the IPL had on India's economy?**  \\n  The IPL has made substantial contributions to India's GDP, with the 2015 season alone contributing ₹1,150 crore (US$140 million). This economic impact reflects the league's ability to generate revenue not just for cricket but for various sectors tied to sports events, including tourism, advertising, and merchandise.\\n\\n- **How has the IPL influenced the broadcasting landscape for sports events?**  \\n  The IPL made history in 2010 by becoming the first sporting event to be broadcast live on YouTube, setting a precedent for digital streaming of sports. Its 2023 final became the most streamed live event on the internet, attracting 32 million viewers, which highlights the league's pioneering role in adapting to new media platforms and audience engagement strategies.\"]}}\n",
            "{'generate_summary': {'summaries': ['Here are three interesting questions and their corresponding answers based on the provided information about the Indian Premier League (IPL):\\n\\n- **What was the format of the IPL tournament before 2022, and how did it change afterwards?**  \\n  Before 2022, the IPL tournament involved each team playing every other team twice in a home-and-away, double round-robin format. From 2022 onwards, the ten teams were divided into two groups of five, and a random draw was used to determine the matchups.\\n\\n- **What is the playoff structure in the IPL, and how do teams qualify for the final match?**  \\n  In the playoff structure, the top four teams from the double round-robin league qualify. The top two teams compete in \"Qualifier 1,\" while the other two teams compete in the \"Eliminator.\" The winner of Qualifier 1 goes directly to the final, and the losing team gets another chance to qualify by facing the winner of the Eliminator in \"Qualifier 2.\" The winner of Qualifier 2 then moves on to the final match.\\n\\n- **Which teams have won the most titles in IPL history, and what notable events have impacted team participation?**  \\n  Chennai Super Kings and Mumbai Indians have each won five titles, while Kolkata Knight Riders have won three. Notably, teams like Kochi Tuskers Kerala, Deccan Chargers, and Pune Warriors India have been terminated or exited the tournament due to various issues, including contractual breaches and valuation disagreements. Additionally, Chennai Super Kings and Rajasthan Royals were suspended for two seasons due to a betting controversy but were allowed back in 2018.']}}\n",
            "{'generate_summary': {'summaries': ['1. **What changes were made to the IPL\\'s Code of Conduct for the current season?**  \\n   The IPL has adopted the International Cricket Council\\'s (ICC) Code of Conduct regulations used for Twenty20 International matches, moving away from its previously used Code of Conduct.\\n\\n2. **How is the playoff structure organized in the IPL?**  \\n   After the group stage, the top four teams based on aggregate points qualify for the playoffs. The playoffs consist of \"Qualifier 1\" where the top two teams compete, and an \"Eliminator\" for the other two teams. The loser of Qualifier 1 plays against the winner of the Eliminator in \"Qualifier 2,\" with the winner advancing to the final.\\n\\n3. **What are the broadcasting rights and recent changes in the broadcasting companies for the IPL?**  \\n   Disney Star\\'s Star Sports and Viacom18\\'s JioCinema acquired the broadcasting rights for the 2023–2027 IPL cycle. In November 2024, these companies merged to form JioStar, and in February 2025, JioCinema and Disney+ Hotstar merged to create JioHotstar, which now holds the domestic digital broadcasting rights for the remainder of the cycle.']}}\n",
            "{'generate_summary': {'summaries': [\"Here are three interesting questions and answers derived from the text, suitable for a podcast discussion:\\n\\n- **What led to the formation of the Indian Premier League (IPL) in response to the Indian Cricket League (ICL)?**\\n  The IPL was formed as a direct response to the ICL, which was not recognized by the BCCI or the ICC. The BCCI aimed to retain control over cricket in India by launching the IPL, establishing it as an official and lucrative franchise-based competition to counter the appeal of the ICL, which it viewed as a rebel league.\\n\\n- **How did the auction for IPL franchises impact the financial landscape of cricket?**\\n  The auction for the IPL franchises significantly impacted the financial landscape of cricket by raising an astonishing $723.59 million against a reserve price of $400 million for eight franchises. This demonstrated the immense commercial potential of T20 cricket and set a benchmark for future sports franchises in India and around the world.\\n\\n- **What were the consequences for players who joined the ICL, and how did this affect the league's longevity?**\\n  Players who joined the ICL faced lifetime bans from the BCCI, which discouraged many from participating in the rebel league. Eventually, in 2009, the BCCI offered amnesty to ICL players and officials who terminated their contracts, leading to an exodus that severely weakened the ICL. This financial and player-related turmoil ultimately forced the ICL to shut down later that year.\"]}}\n",
            "{'generate_final_summary': {'final_summary': 'Hey there, sports fans! Welcome back to another exciting episode of \"Sport 101.\" I\\'m your host, Tom, and today, we\\'re diving into the fascinating world of the Indian Premier League, or IPL as we all know it. This tournament isn\\'t just a cricket competition; it’s a phenomenon that has reshaped the landscape of sports in India and beyond.\\n\\nFor those who might be new to the scene, the IPL is a professional Twenty20 cricket league that has gained immense popularity and wealth since its inception. With a staggering brand value estimated at about ₹90,038 crore (that’s around US$11 billion!), it’s no wonder that the IPL is often considered the richest cricket league in the world.\\n\\nSo, what\\'s on my plate today? Well, as I sit here sipping my morning coffee, I can’t help but think about the buzz surrounding the IPL and its impact not only on cricket but also on the economy. Did you know that just the 2015 season contributed a whopping ₹1,150 crore (approximately US$140 million) to India’s GDP? That’s right! The IPL has a significant economic footprint, generating revenue across various sectors like tourism, advertising, and merchandise.\\n\\nNow, let’s talk about how the IPL has transformed the broadcasting landscape. Back in 2010, it made history by becoming the first sporting event to be broadcast live on YouTube. Fast forward to 2023, and its final became the most streamed live event on the internet, drawing in a staggering 32 million viewers. This really highlights how the IPL has been at the forefront of embracing new media platforms and engaging with fans in innovative ways.\\n\\nAnd let’s not forget about the franchise auction that changed everything for cricket\\'s financial landscape. The IPL franchises were auctioned for an impressive $723.59 million, a clear indication of the immense commercial potential of T20 cricket. It set a benchmark not just in India but for sports franchises worldwide.\\n\\nAs we wrap up this episode, I want to thank you all for tuning in and exploring the incredible world of the IPL with me. It’s amazing to see how a cricket league can have such a profound impact on a nation\\'s culture, economy, and even the way we consume sports. \\n\\nUntil next time, keep your love for sports alive, and I’ll catch you all in the next episode of \"Sport 101!\" Thanks for listening!'}}\n"
          ]
        }
      ]
    },
    {
      "cell_type": "code",
      "source": [
        "podcastScript = step.get('generate_final_summary').get('final_summary')\n",
        "print(podcastScript)"
      ],
      "metadata": {
        "colab": {
          "base_uri": "https://localhost:8080/"
        },
        "id": "IIS8MtAoTVtP",
        "outputId": "d1eec843-ba54-4bf5-dcfc-ff2b5272ad67"
      },
      "execution_count": null,
      "outputs": [
        {
          "output_type": "stream",
          "name": "stdout",
          "text": [
            "Hey there, sports fans! Welcome back to another exciting episode of \"Sport 101.\" I'm your host, Tom, and today, we're diving into the fascinating world of the Indian Premier League, or IPL as we all know it. This tournament isn't just a cricket competition; it’s a phenomenon that has reshaped the landscape of sports in India and beyond.\n",
            "\n",
            "For those who might be new to the scene, the IPL is a professional Twenty20 cricket league that has gained immense popularity and wealth since its inception. With a staggering brand value estimated at about ₹90,038 crore (that’s around US$11 billion!), it’s no wonder that the IPL is often considered the richest cricket league in the world.\n",
            "\n",
            "So, what's on my plate today? Well, as I sit here sipping my morning coffee, I can’t help but think about the buzz surrounding the IPL and its impact not only on cricket but also on the economy. Did you know that just the 2015 season contributed a whopping ₹1,150 crore (approximately US$140 million) to India’s GDP? That’s right! The IPL has a significant economic footprint, generating revenue across various sectors like tourism, advertising, and merchandise.\n",
            "\n",
            "Now, let’s talk about how the IPL has transformed the broadcasting landscape. Back in 2010, it made history by becoming the first sporting event to be broadcast live on YouTube. Fast forward to 2023, and its final became the most streamed live event on the internet, drawing in a staggering 32 million viewers. This really highlights how the IPL has been at the forefront of embracing new media platforms and engaging with fans in innovative ways.\n",
            "\n",
            "And let’s not forget about the franchise auction that changed everything for cricket's financial landscape. The IPL franchises were auctioned for an impressive $723.59 million, a clear indication of the immense commercial potential of T20 cricket. It set a benchmark not just in India but for sports franchises worldwide.\n",
            "\n",
            "As we wrap up this episode, I want to thank you all for tuning in and exploring the incredible world of the IPL with me. It’s amazing to see how a cricket league can have such a profound impact on a nation's culture, economy, and even the way we consume sports. \n",
            "\n",
            "Until next time, keep your love for sports alive, and I’ll catch you all in the next episode of \"Sport 101!\" Thanks for listening!\n"
          ]
        }
      ]
    },
    {
      "cell_type": "code",
      "source": [
        "from elevenlabs.client import ElevenLabs\n",
        "\n",
        "client = ElevenLabs(\n",
        "  api_key=eleven_labs_api_key,\n",
        ")\n",
        "\n",
        "response = client.voices.get_all()\n",
        "print(response.voices)"
      ],
      "metadata": {
        "colab": {
          "base_uri": "https://localhost:8080/"
        },
        "id": "YRpN5hMvZD_E",
        "outputId": "42c430e8-d337-4be0-e0b4-aeac2e5ac5b0"
      },
      "execution_count": null,
      "outputs": [
        {
          "output_type": "stream",
          "name": "stdout",
          "text": [
            "[Voice(voice_id='9BWtsMINqrJLrRacOk9x', name='Aria', samples=None, category='premade', fine_tuning=FineTuningResponse(is_allowed_to_fine_tune=True, state={'eleven_multilingual_v2': 'fine_tuned', 'eleven_turbo_v2_5': 'fine_tuned', 'eleven_flash_v2_5': 'fine_tuned', 'eleven_v2_flash': 'fine_tuned', 'eleven_v2_5_flash': 'fine_tuned', 'eleven_turbo_v2': 'fine_tuned', 'eleven_flash_v2': 'fine_tuned'}, verification_failures=[], verification_attempts_count=0, manual_verification_requested=False, language='en', progress={'eleven_flash_v2_5': 1.0, 'eleven_v2_flash': 1.0, 'eleven_flash_v2': 1.0, 'eleven_v2_5_flash': 1.0}, message={'eleven_flash_v2_5': 'Done!', 'eleven_v2_flash': 'Done!', 'eleven_flash_v2': 'Done!', 'eleven_v2_5_flash': 'Done!'}, dataset_duration_seconds=None, verification_attempts=None, slice_ids=None, manual_verification=None, max_verification_attempts=5, next_max_verification_attempts_reset_unix_ms=1700000000000, finetuning_state=None), labels={'accent': 'american', 'description': 'expressive', 'age': 'middle_aged', 'gender': 'female', 'use_case': 'social media'}, description=None, preview_url='https://storage.googleapis.com/eleven-public-prod/premade/voices/9BWtsMINqrJLrRacOk9x/405766b8-1f4e-4d3c-aba1-6f25333823ec.mp3', available_for_tiers=[], settings=None, sharing=None, high_quality_base_model_ids=['eleven_v2_flash', 'eleven_flash_v2', 'eleven_turbo_v2_5', 'eleven_multilingual_v2', 'eleven_v2_5_flash', 'eleven_flash_v2_5', 'eleven_turbo_v2'], verified_languages=[], safety_control=None, voice_verification=VoiceVerificationResponse(requires_verification=False, is_verified=False, verification_failures=[], verification_attempts_count=0, language=None, verification_attempts=None), permission_on_resource=None, is_owner=False, is_legacy=False, is_mixed=False, created_at_unix=None), Voice(voice_id='CwhRBWXzGAHq8TQ4Fs17', name='Roger', samples=None, category='premade', fine_tuning=FineTuningResponse(is_allowed_to_fine_tune=True, state={'eleven_multilingual_v2': 'fine_tuned', 'eleven_turbo_v2_5': 'failed', 'eleven_flash_v2_5': 'fine_tuned', 'eleven_v2_flash': 'fine_tuned', 'eleven_v2_5_flash': 'fine_tuned', 'eleven_turbo_v2': 'fine_tuned', 'eleven_flash_v2': 'fine_tuned'}, verification_failures=[], verification_attempts_count=0, manual_verification_requested=False, language='en', progress={'eleven_flash_v2_5': 1.0, 'eleven_v2_flash': 1.0, 'eleven_flash_v2': 1.0, 'eleven_v2_5_flash': 1.0}, message={'eleven_flash_v2_5': 'Done!', 'eleven_v2_flash': 'Done!', 'eleven_flash_v2': 'Done!', 'eleven_v2_5_flash': 'Done!'}, dataset_duration_seconds=None, verification_attempts=None, slice_ids=None, manual_verification=None, max_verification_attempts=5, next_max_verification_attempts_reset_unix_ms=1700000000000, finetuning_state=None), labels={'accent': 'american', 'description': 'confident', 'age': 'middle_aged', 'gender': 'male', 'use_case': 'social media'}, description=None, preview_url='https://storage.googleapis.com/eleven-public-prod/premade/voices/CwhRBWXzGAHq8TQ4Fs17/58ee3ff5-f6f2-4628-93b8-e38eb31806b0.mp3', available_for_tiers=[], settings=None, sharing=None, high_quality_base_model_ids=['eleven_v2_flash', 'eleven_flash_v2', 'eleven_turbo_v2_5', 'eleven_multilingual_v2', 'eleven_v2_5_flash', 'eleven_flash_v2_5', 'eleven_turbo_v2'], verified_languages=[], safety_control=None, voice_verification=VoiceVerificationResponse(requires_verification=False, is_verified=False, verification_failures=[], verification_attempts_count=0, language=None, verification_attempts=None), permission_on_resource=None, is_owner=False, is_legacy=False, is_mixed=False, created_at_unix=None), Voice(voice_id='EXAVITQu4vr4xnSDxMaL', name='Sarah', samples=None, category='premade', fine_tuning=FineTuningResponse(is_allowed_to_fine_tune=True, state={}, verification_failures=[], verification_attempts_count=0, manual_verification_requested=False, language='en', progress={}, message={}, dataset_duration_seconds=None, verification_attempts=None, slice_ids=None, manual_verification=None, max_verification_attempts=5, next_max_verification_attempts_reset_unix_ms=1700000000000, finetuning_state=None), labels={'accent': 'american', 'description': 'soft', 'age': 'young', 'gender': 'female', 'use_case': 'news'}, description=None, preview_url='https://storage.googleapis.com/eleven-public-prod/premade/voices/EXAVITQu4vr4xnSDxMaL/01a3e33c-6e99-4ee7-8543-ff2216a32186.mp3', available_for_tiers=[], settings=None, sharing=None, high_quality_base_model_ids=['eleven_turbo_v2', 'eleven_multilingual_v2', 'eleven_turbo_v2_5'], verified_languages=[], safety_control=None, voice_verification=VoiceVerificationResponse(requires_verification=False, is_verified=False, verification_failures=[], verification_attempts_count=0, language=None, verification_attempts=None), permission_on_resource=None, is_owner=False, is_legacy=False, is_mixed=False, created_at_unix=None), Voice(voice_id='FGY2WhTYpPnrIDTdsKH5', name='Laura', samples=None, category='premade', fine_tuning=FineTuningResponse(is_allowed_to_fine_tune=True, state={'eleven_multilingual_v2': 'fine_tuned', 'eleven_turbo_v2_5': 'fine_tuned', 'eleven_flash_v2_5': 'fine_tuned', 'eleven_v2_flash': 'fine_tuned', 'eleven_v2_5_flash': 'fine_tuned', 'eleven_turbo_v2': 'fine_tuned', 'eleven_flash_v2': 'fine_tuned'}, verification_failures=[], verification_attempts_count=0, manual_verification_requested=False, language='en', progress={'eleven_flash_v2_5': 1.0, 'eleven_v2_flash': 1.0, 'eleven_flash_v2': 1.0, 'eleven_v2_5_flash': 1.0}, message={'eleven_flash_v2_5': 'Done!', 'eleven_v2_flash': 'Done!', 'eleven_flash_v2': 'Done!', 'eleven_v2_5_flash': 'Done!'}, dataset_duration_seconds=None, verification_attempts=None, slice_ids=None, manual_verification=None, max_verification_attempts=5, next_max_verification_attempts_reset_unix_ms=1700000000000, finetuning_state=None), labels={'accent': 'american', 'description': 'upbeat', 'age': 'young', 'gender': 'female', 'use_case': 'social media'}, description=None, preview_url='https://storage.googleapis.com/eleven-public-prod/premade/voices/FGY2WhTYpPnrIDTdsKH5/67341759-ad08-41a5-be6e-de12fe448618.mp3', available_for_tiers=[], settings=None, sharing=None, high_quality_base_model_ids=['eleven_v2_flash', 'eleven_flash_v2', 'eleven_turbo_v2_5', 'eleven_multilingual_v2', 'eleven_v2_5_flash', 'eleven_flash_v2_5', 'eleven_turbo_v2'], verified_languages=[], safety_control=None, voice_verification=VoiceVerificationResponse(requires_verification=False, is_verified=False, verification_failures=[], verification_attempts_count=0, language=None, verification_attempts=None), permission_on_resource=None, is_owner=False, is_legacy=False, is_mixed=False, created_at_unix=None), Voice(voice_id='IKne3meq5aSn9XLyUdCD', name='Charlie', samples=None, category='premade', fine_tuning=FineTuningResponse(is_allowed_to_fine_tune=True, state={'eleven_flash_v2_5': 'fine_tuned', 'eleven_turbo_v2': 'fine_tuned', 'eleven_flash_v2': 'fine_tuned', 'eleven_v2_flash': 'fine_tuned', 'eleven_v2_5_flash': 'fine_tuned'}, verification_failures=[], verification_attempts_count=0, manual_verification_requested=False, language='en', progress={'eleven_flash_v2_5': 1.0, 'eleven_v2_flash': 1.0, 'eleven_flash_v2': 1.0, 'eleven_v2_5_flash': 1.0}, message={'eleven_flash_v2_5': 'Done!', 'eleven_turbo_v2': '', 'eleven_flash_v2': 'Done!', 'eleven_v2_flash': 'Done!', 'eleven_v2_5_flash': 'Done!'}, dataset_duration_seconds=None, verification_attempts=None, slice_ids=None, manual_verification=None, max_verification_attempts=5, next_max_verification_attempts_reset_unix_ms=1700000000000, finetuning_state=None), labels={'accent': 'australian', 'description': 'natural', 'age': 'middle_aged', 'gender': 'male', 'use_case': 'conversational'}, description=None, preview_url='https://storage.googleapis.com/eleven-public-prod/premade/voices/IKne3meq5aSn9XLyUdCD/102de6f2-22ed-43e0-a1f1-111fa75c5481.mp3', available_for_tiers=[], settings=None, sharing=None, high_quality_base_model_ids=['eleven_v2_flash', 'eleven_flash_v2', 'eleven_turbo_v2_5', 'eleven_multilingual_v2', 'eleven_multilingual_v1', 'eleven_v2_5_flash', 'eleven_flash_v2_5', 'eleven_turbo_v2'], verified_languages=[], safety_control=None, voice_verification=VoiceVerificationResponse(requires_verification=False, is_verified=False, verification_failures=[], verification_attempts_count=0, language=None, verification_attempts=None), permission_on_resource=None, is_owner=False, is_legacy=False, is_mixed=False, created_at_unix=None), Voice(voice_id='JBFqnCBsd6RMkjVDRZzb', name='George', samples=None, category='premade', fine_tuning=FineTuningResponse(is_allowed_to_fine_tune=True, state={'eleven_turbo_v2': 'fine_tuned', 'eleven_v2_flash': 'fine_tuned', 'eleven_v2_5_flash': 'fine_tuned'}, verification_failures=[], verification_attempts_count=0, manual_verification_requested=False, language='en', progress={'eleven_v2_flash': 1.0, 'eleven_v2_5_flash': 1.0}, message={'eleven_turbo_v2': '', 'eleven_v2_flash': 'Done!', 'eleven_v2_5_flash': 'Done!'}, dataset_duration_seconds=None, verification_attempts=None, slice_ids=None, manual_verification=None, max_verification_attempts=5, next_max_verification_attempts_reset_unix_ms=1700000000000, finetuning_state=None), labels={'accent': 'british', 'description': 'warm', 'age': 'middle_aged', 'gender': 'male', 'use_case': 'narration'}, description=None, preview_url='https://storage.googleapis.com/eleven-public-prod/premade/voices/JBFqnCBsd6RMkjVDRZzb/e6206d1a-0721-4787-aafb-06a6e705cac5.mp3', available_for_tiers=[], settings=None, sharing=None, high_quality_base_model_ids=['eleven_v2_flash', 'eleven_flash_v2', 'eleven_turbo_v2_5', 'eleven_multilingual_v2', 'eleven_v2_5_flash', 'eleven_flash_v2_5', 'eleven_turbo_v2'], verified_languages=[], safety_control=None, voice_verification=VoiceVerificationResponse(requires_verification=False, is_verified=False, verification_failures=[], verification_attempts_count=0, language=None, verification_attempts=None), permission_on_resource=None, is_owner=False, is_legacy=False, is_mixed=False, created_at_unix=None), Voice(voice_id='N2lVS1w4EtoT3dr4eOWO', name='Callum', samples=None, category='premade', fine_tuning=FineTuningResponse(is_allowed_to_fine_tune=True, state={'eleven_flash_v2_5': 'fine_tuned', 'eleven_turbo_v2': 'fine_tuned', 'eleven_flash_v2': 'fine_tuned', 'eleven_v2_flash': 'fine_tuned', 'eleven_v2_5_flash': 'fine_tuned'}, verification_failures=[], verification_attempts_count=0, manual_verification_requested=False, language='en', progress={'eleven_flash_v2_5': 1.0, 'eleven_v2_flash': 1.0, 'eleven_flash_v2': 1.0, 'eleven_v2_5_flash': 1.0}, message={'eleven_flash_v2_5': 'Done!', 'eleven_turbo_v2': '', 'eleven_flash_v2': 'Done!', 'eleven_v2_flash': 'Done!', 'eleven_v2_5_flash': 'Done!'}, dataset_duration_seconds=None, verification_attempts=None, slice_ids=None, manual_verification=None, max_verification_attempts=5, next_max_verification_attempts_reset_unix_ms=1700000000000, finetuning_state=None), labels={'accent': 'american', 'description': 'intense', 'age': 'middle_aged', 'gender': 'male', 'use_case': 'characters'}, description=None, preview_url='https://storage.googleapis.com/eleven-public-prod/premade/voices/N2lVS1w4EtoT3dr4eOWO/ac833bd8-ffda-4938-9ebc-b0f99ca25481.mp3', available_for_tiers=[], settings=None, sharing=None, high_quality_base_model_ids=['eleven_v2_flash', 'eleven_flash_v2', 'eleven_turbo_v2_5', 'eleven_multilingual_v2', 'eleven_multilingual_v1', 'eleven_v2_5_flash', 'eleven_flash_v2_5', 'eleven_turbo_v2'], verified_languages=[], safety_control=None, voice_verification=VoiceVerificationResponse(requires_verification=False, is_verified=False, verification_failures=[], verification_attempts_count=0, language=None, verification_attempts=None), permission_on_resource=None, is_owner=False, is_legacy=False, is_mixed=False, created_at_unix=None), Voice(voice_id='SAz9YHcvj6GT2YYXdXww', name='River', samples=None, category='premade', fine_tuning=FineTuningResponse(is_allowed_to_fine_tune=True, state={'eleven_multilingual_v2': 'fine_tuned', 'eleven_turbo_v2_5': 'fine_tuned', 'eleven_flash_v2_5': 'fine_tuned', 'eleven_v2_flash': 'fine_tuned', 'eleven_v2_5_flash': 'fine_tuned', 'eleven_multilingual_sts_v2': 'fine_tuned', 'eleven_flash_v2': 'fine_tuned', 'eleven_turbo_v2': 'fine_tuned'}, verification_failures=[], verification_attempts_count=0, manual_verification_requested=False, language='en', progress={'eleven_flash_v2_5': 1.0, 'eleven_v2_flash': 1.0, 'eleven_flash_v2': 1.0, 'eleven_v2_5_flash': 1.0}, message={'eleven_flash_v2_5': 'Done!', 'eleven_v2_flash': 'Done!', 'eleven_flash_v2': 'Done!', 'eleven_v2_5_flash': 'Done!'}, dataset_duration_seconds=None, verification_attempts=None, slice_ids=None, manual_verification=None, max_verification_attempts=5, next_max_verification_attempts_reset_unix_ms=1700000000000, finetuning_state=None), labels={'accent': 'american', 'description': 'confident', 'age': 'middle_aged', 'gender': 'non-binary', 'use_case': 'social media'}, description=None, preview_url='https://storage.googleapis.com/eleven-public-prod/premade/voices/SAz9YHcvj6GT2YYXdXww/e6c95f0b-2227-491a-b3d7-2249240decb7.mp3', available_for_tiers=[], settings=None, sharing=None, high_quality_base_model_ids=['eleven_v2_flash', 'eleven_flash_v2', 'eleven_turbo_v2_5', 'eleven_multilingual_sts_v2', 'eleven_multilingual_v2', 'eleven_v2_5_flash', 'eleven_flash_v2_5', 'eleven_turbo_v2'], verified_languages=[], safety_control=None, voice_verification=VoiceVerificationResponse(requires_verification=False, is_verified=False, verification_failures=[], verification_attempts_count=0, language=None, verification_attempts=None), permission_on_resource=None, is_owner=False, is_legacy=False, is_mixed=False, created_at_unix=None), Voice(voice_id='TX3LPaxmHKxFdv7VOQHJ', name='Liam', samples=None, category='premade', fine_tuning=FineTuningResponse(is_allowed_to_fine_tune=True, state={'eleven_turbo_v2': 'fine_tuned', 'eleven_v2_flash': 'fine_tuned', 'eleven_v2_5_flash': 'fine_tuned'}, verification_failures=[], verification_attempts_count=0, manual_verification_requested=False, language='en', progress={'eleven_v2_flash': 1.0, 'eleven_v2_5_flash': 1.0}, message={'eleven_turbo_v2': '', 'eleven_v2_flash': 'Done!', 'eleven_v2_5_flash': 'Done!'}, dataset_duration_seconds=None, verification_attempts=None, slice_ids=None, manual_verification=None, max_verification_attempts=5, next_max_verification_attempts_reset_unix_ms=1700000000000, finetuning_state=None), labels={'accent': 'american', 'description': 'articulate', 'age': 'young', 'gender': 'male', 'use_case': 'narration'}, description=None, preview_url='https://storage.googleapis.com/eleven-public-prod/premade/voices/TX3LPaxmHKxFdv7VOQHJ/63148076-6363-42db-aea8-31424308b92c.mp3', available_for_tiers=[], settings=None, sharing=None, high_quality_base_model_ids=['eleven_v2_flash', 'eleven_flash_v2', 'eleven_turbo_v2_5', 'eleven_multilingual_v2', 'eleven_multilingual_v1', 'eleven_v2_5_flash', 'eleven_flash_v2_5', 'eleven_turbo_v2'], verified_languages=[], safety_control=None, voice_verification=VoiceVerificationResponse(requires_verification=False, is_verified=False, verification_failures=[], verification_attempts_count=0, language=None, verification_attempts=None), permission_on_resource=None, is_owner=False, is_legacy=False, is_mixed=False, created_at_unix=None), Voice(voice_id='XB0fDUnXU5powFXDhCwa', name='Charlotte', samples=None, category='premade', fine_tuning=FineTuningResponse(is_allowed_to_fine_tune=True, state={'eleven_flash_v2_5': 'fine_tuned', 'eleven_turbo_v2': 'fine_tuned', 'eleven_flash_v2': 'fine_tuned', 'eleven_v2_flash': 'fine_tuned', 'eleven_v2_5_flash': 'fine_tuned'}, verification_failures=[], verification_attempts_count=0, manual_verification_requested=False, language='en', progress={'eleven_flash_v2_5': 1.0, 'eleven_v2_flash': 1.0, 'eleven_flash_v2': 1.0, 'eleven_v2_5_flash': 1.0}, message={'eleven_multilingual_v2': '', 'eleven_turbo_v2_5': '', 'eleven_flash_v2_5': 'Done!', 'eleven_v2_flash': 'Done!', 'eleven_v2_5_flash': 'Done!', 'eleven_turbo_v2': '', 'eleven_flash_v2': 'Done!'}, dataset_duration_seconds=None, verification_attempts=None, slice_ids=None, manual_verification=None, max_verification_attempts=5, next_max_verification_attempts_reset_unix_ms=1700000000000, finetuning_state=None), labels={'accent': 'swedish', 'description': 'seductive', 'age': 'young', 'gender': 'female', 'use_case': 'characters'}, description=None, preview_url='https://storage.googleapis.com/eleven-public-prod/premade/voices/XB0fDUnXU5powFXDhCwa/942356dc-f10d-4d89-bda5-4f8505ee038b.mp3', available_for_tiers=[], settings=None, sharing=None, high_quality_base_model_ids=['eleven_v2_flash', 'eleven_flash_v2', 'eleven_turbo_v2_5', 'eleven_multilingual_v2', 'eleven_multilingual_v1', 'eleven_v2_5_flash', 'eleven_flash_v2_5', 'eleven_turbo_v2'], verified_languages=[], safety_control=None, voice_verification=VoiceVerificationResponse(requires_verification=False, is_verified=False, verification_failures=[], verification_attempts_count=0, language=None, verification_attempts=None), permission_on_resource=None, is_owner=False, is_legacy=False, is_mixed=False, created_at_unix=None), Voice(voice_id='Xb7hH8MSUJpSbSDYk0k2', name='Alice', samples=None, category='premade', fine_tuning=FineTuningResponse(is_allowed_to_fine_tune=True, state={'eleven_flash_v2_5': 'fine_tuned', 'eleven_turbo_v2': 'fine_tuned', 'eleven_flash_v2': 'fine_tuned', 'eleven_v2_flash': 'fine_tuned', 'eleven_v2_5_flash': 'fine_tuned'}, verification_failures=[], verification_attempts_count=0, manual_verification_requested=False, language='en', progress={'eleven_flash_v2_5': 1.0, 'eleven_v2_flash': 1.0, 'eleven_flash_v2': 1.0, 'eleven_v2_5_flash': 1.0}, message={'eleven_flash_v2_5': 'Done!', 'eleven_turbo_v2': '', 'eleven_flash_v2': 'Done!', 'eleven_v2_flash': 'Done!', 'eleven_v2_5_flash': 'Done!'}, dataset_duration_seconds=None, verification_attempts=None, slice_ids=None, manual_verification=None, max_verification_attempts=5, next_max_verification_attempts_reset_unix_ms=1700000000000, finetuning_state=None), labels={'accent': 'british', 'description': 'confident', 'age': 'middle_aged', 'gender': 'female', 'use_case': 'news'}, description=None, preview_url='https://storage.googleapis.com/eleven-public-prod/premade/voices/Xb7hH8MSUJpSbSDYk0k2/d10f7534-11f6-41fe-a012-2de1e482d336.mp3', available_for_tiers=[], settings=None, sharing=None, high_quality_base_model_ids=['eleven_v2_flash', 'eleven_flash_v2', 'eleven_turbo_v2_5', 'eleven_multilingual_v2', 'eleven_v2_5_flash', 'eleven_flash_v2_5', 'eleven_turbo_v2'], verified_languages=[], safety_control=None, voice_verification=VoiceVerificationResponse(requires_verification=False, is_verified=False, verification_failures=[], verification_attempts_count=0, language=None, verification_attempts=None), permission_on_resource=None, is_owner=False, is_legacy=False, is_mixed=False, created_at_unix=None), Voice(voice_id='XrExE9yKIg1WjnnlVkGX', name='Matilda', samples=None, category='premade', fine_tuning=FineTuningResponse(is_allowed_to_fine_tune=True, state={'eleven_turbo_v2': 'fine_tuned', 'eleven_v2_flash': 'fine_tuned', 'eleven_v2_5_flash': 'fine_tuned'}, verification_failures=[], verification_attempts_count=0, manual_verification_requested=False, language='en', progress={'eleven_v2_flash': 1.0, 'eleven_v2_5_flash': 1.0}, message={'eleven_turbo_v2': '', 'eleven_v2_flash': 'Done!', 'eleven_v2_5_flash': 'Done!'}, dataset_duration_seconds=None, verification_attempts=None, slice_ids=None, manual_verification=None, max_verification_attempts=5, next_max_verification_attempts_reset_unix_ms=1700000000000, finetuning_state=None), labels={'accent': 'american', 'description': 'friendly', 'age': 'middle_aged', 'gender': 'female', 'use_case': 'narration'}, description=None, preview_url='https://storage.googleapis.com/eleven-public-prod/premade/voices/XrExE9yKIg1WjnnlVkGX/b930e18d-6b4d-466e-bab2-0ae97c6d8535.mp3', available_for_tiers=[], settings=None, sharing=None, high_quality_base_model_ids=['eleven_v2_flash', 'eleven_flash_v2', 'eleven_turbo_v2_5', 'eleven_multilingual_v2', 'eleven_multilingual_v1', 'eleven_v2_5_flash', 'eleven_flash_v2_5', 'eleven_turbo_v2'], verified_languages=[], safety_control=None, voice_verification=VoiceVerificationResponse(requires_verification=False, is_verified=False, verification_failures=[], verification_attempts_count=0, language=None, verification_attempts=None), permission_on_resource=None, is_owner=False, is_legacy=False, is_mixed=False, created_at_unix=None), Voice(voice_id='bIHbv24MWmeRgasZH58o', name='Will', samples=None, category='premade', fine_tuning=FineTuningResponse(is_allowed_to_fine_tune=True, state={'eleven_multilingual_v2': 'fine_tuned', 'eleven_turbo_v2_5': 'fine_tuned', 'eleven_flash_v2_5': 'fine_tuned', 'eleven_v2_flash': 'fine_tuned', 'eleven_v2_5_flash': 'fine_tuned', 'eleven_turbo_v2': 'fine_tuned', 'eleven_flash_v2': 'fine_tuned'}, verification_failures=[], verification_attempts_count=0, manual_verification_requested=False, language='en', progress={'eleven_flash_v2_5': 1.0, 'eleven_v2_flash': 1.0, 'eleven_flash_v2': 1.0, 'eleven_v2_5_flash': 1.0}, message={'eleven_flash_v2_5': 'Done!', 'eleven_v2_flash': 'Done!', 'eleven_flash_v2': 'Done!', 'eleven_v2_5_flash': 'Done!'}, dataset_duration_seconds=None, verification_attempts=None, slice_ids=None, manual_verification=None, max_verification_attempts=5, next_max_verification_attempts_reset_unix_ms=1700000000000, finetuning_state=None), labels={'accent': 'american', 'description': 'friendly', 'age': 'young', 'gender': 'male', 'use_case': 'social media'}, description=None, preview_url='https://storage.googleapis.com/eleven-public-prod/premade/voices/bIHbv24MWmeRgasZH58o/8caf8f3d-ad29-4980-af41-53f20c72d7a4.mp3', available_for_tiers=[], settings=None, sharing=None, high_quality_base_model_ids=['eleven_v2_flash', 'eleven_flash_v2', 'eleven_turbo_v2_5', 'eleven_multilingual_v2', 'eleven_v2_5_flash', 'eleven_flash_v2_5', 'eleven_turbo_v2'], verified_languages=[], safety_control=None, voice_verification=VoiceVerificationResponse(requires_verification=False, is_verified=False, verification_failures=[], verification_attempts_count=0, language=None, verification_attempts=None), permission_on_resource=None, is_owner=False, is_legacy=False, is_mixed=False, created_at_unix=None), Voice(voice_id='cgSgspJ2msm6clMCkdW9', name='Jessica', samples=None, category='premade', fine_tuning=FineTuningResponse(is_allowed_to_fine_tune=True, state={'eleven_multilingual_v2': 'fine_tuned', 'eleven_turbo_v2_5': 'fine_tuned', 'eleven_flash_v2_5': 'fine_tuned', 'eleven_v2_flash': 'fine_tuned', 'eleven_v2_5_flash': 'fine_tuned', 'eleven_turbo_v2': 'fine_tuned', 'eleven_flash_v2': 'fine_tuned'}, verification_failures=[], verification_attempts_count=0, manual_verification_requested=False, language='en', progress={'eleven_flash_v2_5': 1.0, 'eleven_v2_flash': 1.0, 'eleven_flash_v2': 1.0, 'eleven_v2_5_flash': 1.0}, message={'eleven_flash_v2_5': 'Done!', 'eleven_v2_flash': 'Done!', 'eleven_flash_v2': 'Done!', 'eleven_v2_5_flash': 'Done!'}, dataset_duration_seconds=None, verification_attempts=None, slice_ids=None, manual_verification=None, max_verification_attempts=5, next_max_verification_attempts_reset_unix_ms=1700000000000, finetuning_state=None), labels={'accent': 'american', 'description': 'expressive', 'age': 'young', 'gender': 'female', 'use_case': 'conversational'}, description=None, preview_url='https://storage.googleapis.com/eleven-public-prod/premade/voices/cgSgspJ2msm6clMCkdW9/56a97bf8-b69b-448f-846c-c3a11683d45a.mp3', available_for_tiers=[], settings=None, sharing=None, high_quality_base_model_ids=['eleven_v2_flash', 'eleven_flash_v2', 'eleven_turbo_v2_5', 'eleven_multilingual_v2', 'eleven_v2_5_flash', 'eleven_flash_v2_5', 'eleven_turbo_v2'], verified_languages=[], safety_control=None, voice_verification=VoiceVerificationResponse(requires_verification=False, is_verified=False, verification_failures=[], verification_attempts_count=0, language=None, verification_attempts=None), permission_on_resource=None, is_owner=False, is_legacy=False, is_mixed=False, created_at_unix=None), Voice(voice_id='cjVigY5qzO86Huf0OWal', name='Eric', samples=None, category='premade', fine_tuning=FineTuningResponse(is_allowed_to_fine_tune=True, state={'eleven_multilingual_v2': 'fine_tuned', 'eleven_turbo_v2_5': 'fine_tuned', 'eleven_flash_v2_5': 'fine_tuned', 'eleven_v2_flash': 'fine_tuned', 'eleven_v2_5_flash': 'fine_tuned', 'eleven_turbo_v2': 'fine_tuned', 'eleven_flash_v2': 'fine_tuned'}, verification_failures=[], verification_attempts_count=0, manual_verification_requested=False, language='en', progress={'eleven_flash_v2_5': 1.0, 'eleven_v2_flash': 1.0, 'eleven_flash_v2': 1.0, 'eleven_v2_5_flash': 1.0}, message={'eleven_flash_v2_5': 'Done!', 'eleven_v2_flash': 'Done!', 'eleven_flash_v2': 'Done!', 'eleven_v2_5_flash': 'Done!'}, dataset_duration_seconds=None, verification_attempts=None, slice_ids=None, manual_verification=None, max_verification_attempts=5, next_max_verification_attempts_reset_unix_ms=1700000000000, finetuning_state=None), labels={'accent': 'american', 'description': 'friendly', 'age': 'middle_aged', 'gender': 'male', 'use_case': 'conversational'}, description=None, preview_url='https://storage.googleapis.com/eleven-public-prod/premade/voices/cjVigY5qzO86Huf0OWal/d098fda0-6456-4030-b3d8-63aa048c9070.mp3', available_for_tiers=[], settings=None, sharing=None, high_quality_base_model_ids=['eleven_v2_flash', 'eleven_flash_v2', 'eleven_turbo_v2_5', 'eleven_multilingual_v2', 'eleven_v2_5_flash', 'eleven_flash_v2_5', 'eleven_turbo_v2'], verified_languages=[], safety_control=None, voice_verification=VoiceVerificationResponse(requires_verification=False, is_verified=False, verification_failures=[], verification_attempts_count=0, language=None, verification_attempts=None), permission_on_resource=None, is_owner=False, is_legacy=False, is_mixed=False, created_at_unix=None), Voice(voice_id='iP95p4xoKVk53GoZ742B', name='Chris', samples=None, category='premade', fine_tuning=FineTuningResponse(is_allowed_to_fine_tune=True, state={'eleven_flash_v2_5': 'fine_tuned', 'eleven_turbo_v2': 'fine_tuned', 'eleven_flash_v2': 'fine_tuned', 'eleven_v2_flash': 'fine_tuned', 'eleven_v2_5_flash': 'fine_tuned'}, verification_failures=[], verification_attempts_count=0, manual_verification_requested=False, language='en', progress={'eleven_flash_v2_5': 1.0, 'eleven_v2_flash': 1.0, 'eleven_flash_v2': 1.0, 'eleven_v2_5_flash': 1.0}, message={'eleven_flash_v2_5': 'Done!', 'eleven_turbo_v2': '', 'eleven_flash_v2': 'Done!', 'eleven_v2_flash': 'Done!', 'eleven_v2_5_flash': 'Done!'}, dataset_duration_seconds=None, verification_attempts=None, slice_ids=None, manual_verification=None, max_verification_attempts=5, next_max_verification_attempts_reset_unix_ms=1700000000000, finetuning_state=None), labels={'accent': 'american', 'description': 'casual', 'age': 'middle_aged', 'gender': 'male', 'use_case': 'conversational'}, description=None, preview_url='https://storage.googleapis.com/eleven-public-prod/premade/voices/iP95p4xoKVk53GoZ742B/3f4bde72-cc48-40dd-829f-57fbf906f4d7.mp3', available_for_tiers=[], settings=None, sharing=None, high_quality_base_model_ids=['eleven_v2_flash', 'eleven_flash_v2', 'eleven_turbo_v2_5', 'eleven_multilingual_v2', 'eleven_v2_5_flash', 'eleven_flash_v2_5', 'eleven_turbo_v2'], verified_languages=[], safety_control=None, voice_verification=VoiceVerificationResponse(requires_verification=False, is_verified=False, verification_failures=[], verification_attempts_count=0, language=None, verification_attempts=None), permission_on_resource=None, is_owner=False, is_legacy=False, is_mixed=False, created_at_unix=None), Voice(voice_id='nPczCjzI2devNBz1zQrb', name='Brian', samples=None, category='premade', fine_tuning=FineTuningResponse(is_allowed_to_fine_tune=True, state={'eleven_flash_v2_5': 'fine_tuned', 'eleven_turbo_v2': 'fine_tuned', 'eleven_flash_v2': 'fine_tuned', 'eleven_v2_flash': 'fine_tuned', 'eleven_v2_5_flash': 'fine_tuned'}, verification_failures=[], verification_attempts_count=0, manual_verification_requested=False, language='en', progress={'eleven_flash_v2_5': 1.0, 'eleven_v2_flash': 1.0, 'eleven_flash_v2': 1.0, 'eleven_v2_5_flash': 1.0}, message={'eleven_flash_v2_5': 'Done!', 'eleven_turbo_v2': '', 'eleven_flash_v2': 'Done!', 'eleven_v2_flash': 'Done!', 'eleven_v2_5_flash': 'Done!'}, dataset_duration_seconds=None, verification_attempts=None, slice_ids=None, manual_verification=None, max_verification_attempts=5, next_max_verification_attempts_reset_unix_ms=1700000000000, finetuning_state=None), labels={'accent': 'american', 'description': 'deep', 'age': 'middle_aged', 'gender': 'male', 'use_case': 'narration'}, description=None, preview_url='https://storage.googleapis.com/eleven-public-prod/premade/voices/nPczCjzI2devNBz1zQrb/2dd3e72c-4fd3-42f1-93ea-abc5d4e5aa1d.mp3', available_for_tiers=[], settings=None, sharing=None, high_quality_base_model_ids=['eleven_v2_flash', 'eleven_flash_v2', 'eleven_turbo_v2_5', 'eleven_multilingual_v2', 'eleven_v2_5_flash', 'eleven_flash_v2_5', 'eleven_turbo_v2'], verified_languages=[], safety_control=None, voice_verification=VoiceVerificationResponse(requires_verification=False, is_verified=False, verification_failures=[], verification_attempts_count=0, language=None, verification_attempts=None), permission_on_resource=None, is_owner=False, is_legacy=False, is_mixed=False, created_at_unix=None), Voice(voice_id='onwK4e9ZLuTAKqWW03F9', name='Daniel', samples=None, category='premade', fine_tuning=FineTuningResponse(is_allowed_to_fine_tune=True, state={'eleven_flash_v2_5': 'fine_tuned', 'eleven_turbo_v2': 'fine_tuned', 'eleven_flash_v2': 'fine_tuned', 'eleven_v2_flash': 'fine_tuned', 'eleven_v2_5_flash': 'fine_tuned'}, verification_failures=[], verification_attempts_count=0, manual_verification_requested=False, language='en', progress={'eleven_flash_v2_5': 1.0, 'eleven_v2_flash': 1.0, 'eleven_flash_v2': 1.0, 'eleven_v2_5_flash': 1.0}, message={'eleven_flash_v2_5': 'Done!', 'eleven_turbo_v2': '', 'eleven_flash_v2': 'Done!', 'eleven_v2_flash': 'Done!', 'eleven_v2_5_flash': 'Done!'}, dataset_duration_seconds=None, verification_attempts=None, slice_ids=None, manual_verification=None, max_verification_attempts=5, next_max_verification_attempts_reset_unix_ms=1700000000000, finetuning_state=None), labels={'accent': 'british', 'description': 'authoritative', 'age': 'middle_aged', 'gender': 'male', 'use_case': 'news'}, description=None, preview_url='https://storage.googleapis.com/eleven-public-prod/premade/voices/onwK4e9ZLuTAKqWW03F9/7eee0236-1a72-4b86-b303-5dcadc007ba9.mp3', available_for_tiers=[], settings=None, sharing=None, high_quality_base_model_ids=['eleven_v2_flash', 'eleven_flash_v2', 'eleven_turbo_v2_5', 'eleven_multilingual_v2', 'eleven_multilingual_v1', 'eleven_v2_5_flash', 'eleven_flash_v2_5', 'eleven_turbo_v2'], verified_languages=[], safety_control=None, voice_verification=VoiceVerificationResponse(requires_verification=False, is_verified=False, verification_failures=[], verification_attempts_count=0, language=None, verification_attempts=None), permission_on_resource=None, is_owner=False, is_legacy=False, is_mixed=False, created_at_unix=None), Voice(voice_id='pFZP5JQG7iQjIQuC4Bku', name='Lily', samples=None, category='premade', fine_tuning=FineTuningResponse(is_allowed_to_fine_tune=True, state={'eleven_flash_v2_5': 'fine_tuned', 'eleven_turbo_v2': 'fine_tuned', 'eleven_flash_v2': 'fine_tuned', 'eleven_v2_flash': 'fine_tuned', 'eleven_v2_5_flash': 'fine_tuned'}, verification_failures=[], verification_attempts_count=0, manual_verification_requested=False, language='en', progress={'eleven_flash_v2_5': 1.0, 'eleven_v2_flash': 1.0, 'eleven_flash_v2': 1.0, 'eleven_v2_5_flash': 1.0}, message={'eleven_flash_v2_5': 'Done!', 'eleven_turbo_v2': '', 'eleven_flash_v2': 'Done!', 'eleven_v2_flash': 'Done!', 'eleven_v2_5_flash': 'Done!'}, dataset_duration_seconds=None, verification_attempts=None, slice_ids=None, manual_verification=None, max_verification_attempts=5, next_max_verification_attempts_reset_unix_ms=1700000000000, finetuning_state=None), labels={'accent': 'british', 'description': 'warm', 'age': 'middle_aged', 'gender': 'female', 'use_case': 'narration'}, description=None, preview_url='https://storage.googleapis.com/eleven-public-prod/premade/voices/pFZP5JQG7iQjIQuC4Bku/89b68b35-b3dd-4348-a84a-a3c13a3c2b30.mp3', available_for_tiers=[], settings=None, sharing=None, high_quality_base_model_ids=['eleven_v2_flash', 'eleven_flash_v2', 'eleven_turbo_v2_5', 'eleven_multilingual_v2', 'eleven_v2_5_flash', 'eleven_flash_v2_5', 'eleven_turbo_v2'], verified_languages=[], safety_control=None, voice_verification=VoiceVerificationResponse(requires_verification=False, is_verified=False, verification_failures=[], verification_attempts_count=0, language=None, verification_attempts=None), permission_on_resource=None, is_owner=False, is_legacy=False, is_mixed=False, created_at_unix=None), Voice(voice_id='pqHfZKP75CvOlQylNhV4', name='Bill', samples=None, category='premade', fine_tuning=FineTuningResponse(is_allowed_to_fine_tune=True, state={'eleven_flash_v2_5': 'fine_tuned', 'eleven_turbo_v2': 'fine_tuned', 'eleven_flash_v2': 'fine_tuned', 'eleven_v2_flash': 'fine_tuned', 'eleven_v2_5_flash': 'fine_tuned'}, verification_failures=[], verification_attempts_count=0, manual_verification_requested=False, language='en', progress={'eleven_flash_v2_5': 1.0, 'eleven_v2_flash': 1.0, 'eleven_flash_v2': 1.0, 'eleven_v2_5_flash': 1.0}, message={'eleven_flash_v2_5': 'Done!', 'eleven_turbo_v2': '', 'eleven_flash_v2': 'Done!', 'eleven_v2_flash': 'Done!', 'eleven_v2_5_flash': 'Done!'}, dataset_duration_seconds=None, verification_attempts=None, slice_ids=None, manual_verification=None, max_verification_attempts=5, next_max_verification_attempts_reset_unix_ms=1700000000000, finetuning_state=None), labels={'accent': 'american', 'description': 'trustworthy', 'age': 'old', 'gender': 'male', 'use_case': 'narration'}, description=None, preview_url='https://storage.googleapis.com/eleven-public-prod/premade/voices/pqHfZKP75CvOlQylNhV4/d782b3ff-84ba-4029-848c-acf01285524d.mp3', available_for_tiers=[], settings=None, sharing=None, high_quality_base_model_ids=['eleven_v2_flash', 'eleven_flash_v2', 'eleven_turbo_v2_5', 'eleven_multilingual_v2', 'eleven_v2_5_flash', 'eleven_flash_v2_5', 'eleven_turbo_v2'], verified_languages=[], safety_control=None, voice_verification=VoiceVerificationResponse(requires_verification=False, is_verified=False, verification_failures=[], verification_attempts_count=0, language=None, verification_attempts=None), permission_on_resource=None, is_owner=False, is_legacy=False, is_mixed=False, created_at_unix=None), Voice(voice_id='gnPxliFHTp6OK6tcoA6i', name='Sports Guy - Excited and fast, giving you that play by play.', samples=[VoiceSample(sample_id='sZPaP1GG6241RXihCEgI', file_name='TE - 20_Year_old_Iga_was_SCARY_Good_VO Sean Johnson_merdged.mp3', mime_type='audio/mpeg', size_bytes=78166200, hash='013f4a4edab81e79f5c4aa5c14c391be', duration_secs=None, remove_background_noise=None, has_isolated_audio=None, has_isolated_audio_preview=None, speaker_separation=None), VoiceSample(sample_id='MZOqTR8luResmOdBLjsJ', file_name='TE - Is_Mirra_Andreeva_the_NEW_Sharapova_VO Sean Johnson_merdged.mp3', mime_type='audio/mpeg', size_bytes=76170436, hash='0e3d7bdfab54fe3f4306fac1f28d10ea', duration_secs=None, remove_background_noise=None, has_isolated_audio=None, has_isolated_audio_preview=None, speaker_separation=None), VoiceSample(sample_id='08RPWpsm10XAwrBnKSk8', file_name=\"TE - Let's talk about Jannik Sinner at ATP Finals_VO Sean Johnson_merdged.mp3\", mime_type='audio/mpeg', size_bytes=75199948, hash='16e21702774f61ad509b3312aae1c940', duration_secs=None, remove_background_noise=None, has_isolated_audio=None, has_isolated_audio_preview=None, speaker_separation=None), VoiceSample(sample_id='xNrUl0ngAgXhrO8teivM', file_name=\"TE - Let's talk about Iga Świątek's Serve_VO Sean Johnson_merdged.mp3\", mime_type='audio/mpeg', size_bytes=80486230, hash='1eef0bd0436e9a215222caba2c0911cc', duration_secs=None, remove_background_noise=None, has_isolated_audio=None, has_isolated_audio_preview=None, speaker_separation=None), VoiceSample(sample_id='xS7SShttYxH8WH3rSAUH', file_name=\"TE - Let's talk about Taylor Fritz_VO Sean Johnson_merdged.mp3\", mime_type='audio/mpeg', size_bytes=73138686, hash='21b06fd71a902b7ebf51b01babdd8a54', duration_secs=None, remove_background_noise=None, has_isolated_audio=None, has_isolated_audio_preview=None, speaker_separation=None), VoiceSample(sample_id='64kvFia1maOy5A4cSgkg', file_name=\"TE - Let's talk about Coco Gauff_VO Sean Johnson_merdged.mp3\", mime_type='audio/mpeg', size_bytes=81465714, hash='2bfd6a2c84fa6d810b504c5f0f5ca135', duration_secs=None, remove_background_noise=None, has_isolated_audio=None, has_isolated_audio_preview=None, speaker_separation=None), VoiceSample(sample_id='ZzJlraw8pGpTQ25NVBfg', file_name='TE - The_IMPROBABLE_Rise_of_Jasmine_Paolini_VO Sean Johnson_merdged.mp3', mime_type='audio/mpeg', size_bytes=76757116, hash='2e54a3b824cc0b04dc1fc6bdde7b65d1', duration_secs=None, remove_background_noise=None, has_isolated_audio=None, has_isolated_audio_preview=None, speaker_separation=None), VoiceSample(sample_id='1TGclXmBNW807Kjam0Dx', file_name=\"TE - Let's Talk about Jannik Sinner's SERVE_VO Sean Johnson_merdged.mp3\", mime_type='audio/mpeg', size_bytes=74764914, hash='30494ece6ecbf996c8e65cf4845b6a48', duration_secs=None, remove_background_noise=None, has_isolated_audio=None, has_isolated_audio_preview=None, speaker_separation=None), VoiceSample(sample_id='fqooXDm3FdgLB9SsDi4K', file_name='TE - What_is_WRONG_with_Coco_Gauff_s_forehand_VO Sean Johnson_merdged.mp3', mime_type='audio/mpeg', size_bytes=73129498, hash='56837d8aa2d4dd6bc574cccb662dc3c5', duration_secs=None, remove_background_noise=None, has_isolated_audio=None, has_isolated_audio_preview=None, speaker_separation=None), VoiceSample(sample_id='SFWnQ5tr4vuZCPxqAvuX', file_name='TE - Who is ACTUALLY this Mpetshi Perricard_VO Sean Johnson_merdged.mp3', mime_type='audio/mpeg', size_bytes=74564112, hash='5fb91d45d6e77a5ff2580f18f3984149', duration_secs=None, remove_background_noise=None, has_isolated_audio=None, has_isolated_audio_preview=None, speaker_separation=None), VoiceSample(sample_id='J3RvA7bwK7rICWQn44Cw', file_name='TE - What Tennis Community REALLY Thinks of Holger Rune_VO Sean Johnson_merdged.mp3', mime_type='audio/mpeg', size_bytes=78101494, hash='736eaaaac340bb4d93bf5043476e4d99', duration_secs=None, remove_background_noise=None, has_isolated_audio=None, has_isolated_audio_preview=None, speaker_separation=None), VoiceSample(sample_id='3ICaA0Y2LvU2uDL5uYRa', file_name='TE - Jannik_Sinner_had_an_Absolute_INSANE_Season_VO Sean Johnson_merdged.mp3', mime_type='audio/mpeg', size_bytes=78886350, hash='a0540232676458b789e995d56fc59dd2', duration_secs=None, remove_background_noise=None, has_isolated_audio=None, has_isolated_audio_preview=None, speaker_separation=None), VoiceSample(sample_id='ekfoJU4EXrEK7F0Mx8zi', file_name='TE - This was the LAST Dance of Nadal_VO Sean Johnson_merdged.mp3', mime_type='audio/mpeg', size_bytes=74091964, hash='c581568904fc81512af9d26070425bfd', duration_secs=None, remove_background_noise=None, has_isolated_audio=None, has_isolated_audio_preview=None, speaker_separation=None), VoiceSample(sample_id='zgN7JvzshUcF8TDRfcx8', file_name='TE - This Guy is the Next BIG Thing in Tennis_VO Sean Johnson_merdged.mp3', mime_type='audio/mpeg', size_bytes=76091458, hash='dcd6004995134486bdf9bdd1d9b928f6', duration_secs=None, remove_background_noise=None, has_isolated_audio=None, has_isolated_audio_preview=None, speaker_separation=None)], category='professional', fine_tuning=FineTuningResponse(is_allowed_to_fine_tune=True, state={'eleven_multilingual_v2': 'fine_tuned', 'eleven_v2_flash': 'fine_tuning', 'eleven_turbo_v2_5': 'fine_tuned', 'eleven_flash_v2_5': 'fine_tuned', 'eleven_v2_5_flash': 'fine_tuned', 'eleven_turbo_v2': 'fine_tuning', 'eleven_flash_v2': 'fine_tuning', 'eleven_multilingual_sts_v2': 'fine_tuned'}, verification_failures=[], verification_attempts_count=0, manual_verification_requested=False, language='en', progress={}, message={'eleven_multilingual_v2': '', 'eleven_turbo_v2_5': '', 'eleven_multilingual_sts_v2': '', 'eleven_flash_v2_5': '', 'eleven_v2_5_flash': ''}, dataset_duration_seconds=None, verification_attempts=None, slice_ids=None, manual_verification=None, max_verification_attempts=0, next_max_verification_attempts_reset_unix_ms=0, finetuning_state=None), labels={'accent': 'american', 'descriptive': 'hyped', 'age': 'middle_aged', 'gender': 'male', 'language': 'en', 'use_case': 'entertainment_tv'}, description='Middle-aged American sports guy doing his armchair play-by-play calls. ', preview_url='https://storage.googleapis.com/eleven-public-prod/database/user/kdqoco0jNZTkJjkkkkb3mUIkFiy1/voices/gnPxliFHTp6OK6tcoA6i/aUx0lzSdMNYqWlVupXHB.mp3', available_for_tiers=[], settings=None, sharing=VoiceSharingResponse(status='copied', history_item_sample_id=None, date_unix=1743276025, whitelisted_emails=[], public_owner_id='d653c516a8c5dfa0380aa45bd1979af2016d7a1c6b744a6812b9a874040c5df0', original_voice_id='gnPxliFHTp6OK6tcoA6i', financial_rewards_enabled=False, free_users_allowed=True, live_moderation_enabled=False, rate=1.0, notice_period=180, disable_at_unix=None, voice_mixing_allowed=False, featured=False, category='professional', reader_app_enabled=None, image_url='', ban_reason=None, liked_by_count=0, cloned_by_count=0, name='Sports Guy - Excited and fast, giving you that play by play.', description='Middle-aged American sports guy doing his armchair play-by-play calls. ', labels={'language': 'en', 'descriptive': 'hyped', 'age': 'middle_aged', 'gender': 'male', 'accent': 'american', 'use_case': 'entertainment_tv', 'locale': 'en-US'}, review_status='not_requested', review_message=None, enabled_in_library=False, instagram_username=None, twitter_username=None, youtube_username=None, tiktok_username=None, moderation_check=None, reader_restricted_on=None), high_quality_base_model_ids=['eleven_turbo_v2_5', 'eleven_v2_5_flash', 'eleven_flash_v2_5', 'eleven_multilingual_v2', 'eleven_multilingual_sts_v2'], verified_languages=[], safety_control=None, voice_verification=VoiceVerificationResponse(requires_verification=False, is_verified=False, verification_failures=[], verification_attempts_count=0, language=None, verification_attempts=None), permission_on_resource='admin', is_owner=False, is_legacy=False, is_mixed=False, created_at_unix=1743276025)]\n"
          ]
        }
      ]
    },
    {
      "cell_type": "code",
      "source": [
        "from elevenlabs.client import ElevenLabs\n",
        "\n",
        "client = ElevenLabs(\n",
        "  api_key=eleven_labs_api_key,\n",
        ")\n",
        "\n",
        "def createPodcast(podcastScript, speakerChoice):\n",
        "  genPodcast = []\n",
        "  podcastLines = podcastScript.split('\\n\\n')\n",
        "  for line in podcastLines:\n",
        "    print(line)\n",
        "    genVoice = client.generate(text=line, voice=speakerChoice, model=\"eleven_multilingual_v2\")\n",
        "    # Change: Iterate through the generator and write bytes to a bytearray\n",
        "    audio_bytes = bytearray()\n",
        "    for chunk in genVoice:\n",
        "        audio_bytes.extend(chunk)\n",
        "    genPodcast.append(audio_bytes)  # Append bytearray to genPodcast\n",
        "  return genPodcast"
      ],
      "metadata": {
        "id": "zgIlo1CIVnjt"
      },
      "execution_count": null,
      "outputs": []
    },
    {
      "cell_type": "code",
      "source": [
        "speakerName1 = \"Tom\"\n",
        "speakerChoice1 = \"Sports Guy - Excited and fast, giving you that play by play.\"\n",
        "genPodcast = createPodcast(podcastScript, speakerChoice1)"
      ],
      "metadata": {
        "colab": {
          "base_uri": "https://localhost:8080/"
        },
        "id": "SA81jbsfXJEX",
        "outputId": "3d287bfc-9f91-453c-b4e6-5c4d26d656e7"
      },
      "execution_count": null,
      "outputs": [
        {
          "output_type": "stream",
          "name": "stdout",
          "text": [
            "Hey there, sports fans! Welcome back to another exciting episode of \"Sport 101.\" I'm your host, Tom, and today, we're diving into the fascinating world of the Indian Premier League, or IPL as we all know it. This tournament isn't just a cricket competition; it’s a phenomenon that has reshaped the landscape of sports in India and beyond.\n",
            "For those who might be new to the scene, the IPL is a professional Twenty20 cricket league that has gained immense popularity and wealth since its inception. With a staggering brand value estimated at about ₹90,038 crore (that’s around US$11 billion!), it’s no wonder that the IPL is often considered the richest cricket league in the world.\n",
            "So, what's on my plate today? Well, as I sit here sipping my morning coffee, I can’t help but think about the buzz surrounding the IPL and its impact not only on cricket but also on the economy. Did you know that just the 2015 season contributed a whopping ₹1,150 crore (approximately US$140 million) to India’s GDP? That’s right! The IPL has a significant economic footprint, generating revenue across various sectors like tourism, advertising, and merchandise.\n",
            "Now, let’s talk about how the IPL has transformed the broadcasting landscape. Back in 2010, it made history by becoming the first sporting event to be broadcast live on YouTube. Fast forward to 2023, and its final became the most streamed live event on the internet, drawing in a staggering 32 million viewers. This really highlights how the IPL has been at the forefront of embracing new media platforms and engaging with fans in innovative ways.\n",
            "And let’s not forget about the franchise auction that changed everything for cricket's financial landscape. The IPL franchises were auctioned for an impressive $723.59 million, a clear indication of the immense commercial potential of T20 cricket. It set a benchmark not just in India but for sports franchises worldwide.\n",
            "As we wrap up this episode, I want to thank you all for tuning in and exploring the incredible world of the IPL with me. It’s amazing to see how a cricket league can have such a profound impact on a nation's culture, economy, and even the way we consume sports. \n",
            "Until next time, keep your love for sports alive, and I’ll catch you all in the next episode of \"Sport 101!\" Thanks for listening!\n"
          ]
        }
      ]
    },
    {
      "cell_type": "code",
      "source": [
        "with open(\"/content/sample_data/genPodcast.mpeg\", \"wb\") as f:\n",
        "  for pod in genPodcast:\n",
        "    f.write(pod)"
      ],
      "metadata": {
        "id": "T9N3vXPCXLTy"
      },
      "execution_count": null,
      "outputs": []
    },
    {
      "cell_type": "code",
      "source": [
        "from pydub import AudioSegment\n",
        "AudioSegment.from_file(\"/content/sample_data/genPodcast.mpeg\").export(\"/content/sample_data/genPodcast.mp3\", format=\"mp3\")"
      ],
      "metadata": {
        "colab": {
          "base_uri": "https://localhost:8080/"
        },
        "id": "lOWWczUkiAiy",
        "outputId": "8f1a8a98-7814-40e1-a7d4-9542a2beaabf"
      },
      "execution_count": null,
      "outputs": [
        {
          "output_type": "execute_result",
          "data": {
            "text/plain": [
              "<_io.BufferedRandom name='/content/sample_data/genPodcast.mp3'>"
            ]
          },
          "metadata": {},
          "execution_count": 95
        }
      ]
    },
    {
      "cell_type": "markdown",
      "source": [
        "Generate a Ghibli-style image using a reference image with the below prompt:\n",
        "Convert the image into and anime style using immersive realism similar at 99.99% to Studio Ghiblis style but not the same but similar so it's not infrigment"
      ],
      "metadata": {
        "id": "X6ELy6goRevE"
      }
    },
    {
      "cell_type": "markdown",
      "source": [
        "This is the most exciting part of our podcast creation! We have our podcast audio script ready, along with a Ghibli-style podcast image. Now, we can use Hedra to generate the podcast video using the image and audio script.\n"
      ],
      "metadata": {
        "id": "1kmwJp5CIJKJ"
      }
    },
    {
      "cell_type": "code",
      "source": [],
      "metadata": {
        "id": "EIzGBlviTCXr"
      },
      "execution_count": null,
      "outputs": []
    }
  ]
}